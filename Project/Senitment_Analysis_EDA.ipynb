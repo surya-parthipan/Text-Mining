{
 "cells": [
  {
   "cell_type": "code",
   "execution_count": 1,
   "metadata": {},
   "outputs": [
    {
     "name": "stderr",
     "output_type": "stream",
     "text": [
      "[nltk_data] Downloading package stopwords to\n",
      "[nltk_data]     C:\\Users\\rsury\\AppData\\Roaming\\nltk_data...\n",
      "[nltk_data]   Package stopwords is already up-to-date!\n"
     ]
    }
   ],
   "source": [
    "import pandas as pd\n",
    "import numpy as np\n",
    "import matplotlib.pyplot as plt\n",
    "# %matplotlib inline\n",
    "# plt.style.use('fivethirtyeight')\n",
    "import seaborn as sns\n",
    "color_palette = sns.color_palette()\n",
    "\n",
    "import glob\n",
    "from collections import Counter\n",
    "import plotly.express as px\n",
    "\n",
    "import nltk\n",
    "nltk.download('stopwords')\n",
    "from nltk.corpus import stopwords"
   ]
  },
  {
   "cell_type": "code",
   "execution_count": 2,
   "metadata": {},
   "outputs": [],
   "source": [
    "def f(i):\n",
    "    return pd.read_csv(i, sep ='\\t', header=None)"
   ]
  },
  {
   "cell_type": "markdown",
   "metadata": {},
   "source": [
    "# **Train set - Processing**"
   ]
  },
  {
   "cell_type": "code",
   "execution_count": 3,
   "metadata": {},
   "outputs": [
    {
     "name": "stdout",
     "output_type": "stream",
     "text": [
      "Size of train dataset : (16041, 3)\n"
     ]
    },
    {
     "data": {
      "text/html": [
       "<div>\n",
       "<style scoped>\n",
       "    .dataframe tbody tr th:only-of-type {\n",
       "        vertical-align: middle;\n",
       "    }\n",
       "\n",
       "    .dataframe tbody tr th {\n",
       "        vertical-align: top;\n",
       "    }\n",
       "\n",
       "    .dataframe thead th {\n",
       "        text-align: right;\n",
       "    }\n",
       "</style>\n",
       "<table border=\"1\" class=\"dataframe\">\n",
       "  <thead>\n",
       "    <tr style=\"text-align: right;\">\n",
       "      <th></th>\n",
       "      <th>id</th>\n",
       "      <th>sentiment</th>\n",
       "      <th>tweet</th>\n",
       "    </tr>\n",
       "  </thead>\n",
       "  <tbody>\n",
       "    <tr>\n",
       "      <th>0</th>\n",
       "      <td>264183816548130816</td>\n",
       "      <td>positive</td>\n",
       "      <td>Gas by my house hit $3.39!!!! I\\u2019m going t...</td>\n",
       "    </tr>\n",
       "    <tr>\n",
       "      <th>1</th>\n",
       "      <td>263405084770172928</td>\n",
       "      <td>negative</td>\n",
       "      <td>Theo Walcott is still shit\\u002c watch Rafa an...</td>\n",
       "    </tr>\n",
       "    <tr>\n",
       "      <th>2</th>\n",
       "      <td>262163168678248449</td>\n",
       "      <td>negative</td>\n",
       "      <td>its not that I\\u2019m a GSP fan\\u002c i just h...</td>\n",
       "    </tr>\n",
       "    <tr>\n",
       "      <th>3</th>\n",
       "      <td>264249301910310912</td>\n",
       "      <td>negative</td>\n",
       "      <td>Iranian general says Israel\\u2019s Iron Dome c...</td>\n",
       "    </tr>\n",
       "    <tr>\n",
       "      <th>4</th>\n",
       "      <td>262682041215234048</td>\n",
       "      <td>neutral</td>\n",
       "      <td>Tehran\\u002c Mon Amour: Obama Tried to Establi...</td>\n",
       "    </tr>\n",
       "  </tbody>\n",
       "</table>\n",
       "</div>"
      ],
      "text/plain": [
       "                   id sentiment  \\\n",
       "0  264183816548130816  positive   \n",
       "1  263405084770172928  negative   \n",
       "2  262163168678248449  negative   \n",
       "3  264249301910310912  negative   \n",
       "4  262682041215234048   neutral   \n",
       "\n",
       "                                               tweet  \n",
       "0  Gas by my house hit $3.39!!!! I\\u2019m going t...  \n",
       "1  Theo Walcott is still shit\\u002c watch Rafa an...  \n",
       "2  its not that I\\u2019m a GSP fan\\u002c i just h...  \n",
       "3  Iranian general says Israel\\u2019s Iron Dome c...  \n",
       "4  Tehran\\u002c Mon Amour: Obama Tried to Establi...  "
      ]
     },
     "execution_count": 3,
     "metadata": {},
     "output_type": "execute_result"
    }
   ],
   "source": [
    "train_path = glob.glob('./data/downloaded/*train-A.tsv')\n",
    "train_df = pd.concat(map(f, train_path))\n",
    "train_df = train_df.rename(columns={0:'id', 1:'sentiment', 2:'tweet'})\n",
    "train_df.sentiment = train_df.sentiment.str.strip()\n",
    "print(f'Size of train dataset : {train_df.shape}')\n",
    "train_df.head()"
   ]
  },
  {
   "cell_type": "code",
   "execution_count": 4,
   "metadata": {},
   "outputs": [
    {
     "name": "stdout",
     "output_type": "stream",
     "text": [
      " No. of duplicate values in train dataset : 530\n"
     ]
    }
   ],
   "source": [
    "print(f' No. of duplicate values in train dataset : {train_df.duplicated().sum()}')"
   ]
  },
  {
   "cell_type": "code",
   "execution_count": 5,
   "metadata": {},
   "outputs": [],
   "source": [
    "# train_df['sentiment'].replace('positive', 1,inplace=True)\n",
    "# train_df['sentiment'].replace('negative', -1,inplace=True)\n",
    "# train_df['sentiment'].replace('neutral', 0,inplace=True)\n",
    "# train_df.head()"
   ]
  },
  {
   "cell_type": "code",
   "execution_count": 6,
   "metadata": {},
   "outputs": [
    {
     "data": {
      "text/html": [
       "<style type=\"text/css\">\n",
       "#T_1fe48_row0_col1, #T_1fe48_row1_col1 {\n",
       "  background-color: #7f2704;\n",
       "  color: #f1f1f1;\n",
       "}\n",
       "#T_1fe48_row2_col1 {\n",
       "  background-color: #fff5eb;\n",
       "  color: #000000;\n",
       "}\n",
       "</style>\n",
       "<table id=\"T_1fe48\">\n",
       "  <thead>\n",
       "    <tr>\n",
       "      <th class=\"blank level0\" >&nbsp;</th>\n",
       "      <th id=\"T_1fe48_level0_col0\" class=\"col_heading level0 col0\" >sentiment</th>\n",
       "      <th id=\"T_1fe48_level0_col1\" class=\"col_heading level0 col1\" >tweet</th>\n",
       "    </tr>\n",
       "  </thead>\n",
       "  <tbody>\n",
       "    <tr>\n",
       "      <th id=\"T_1fe48_level0_row0\" class=\"row_heading level0 row0\" >1</th>\n",
       "      <td id=\"T_1fe48_row0_col0\" class=\"data row0 col0\" >neutral</td>\n",
       "      <td id=\"T_1fe48_row0_col1\" class=\"data row0 col1\" >6840</td>\n",
       "    </tr>\n",
       "    <tr>\n",
       "      <th id=\"T_1fe48_level0_row1\" class=\"row_heading level0 row1\" >2</th>\n",
       "      <td id=\"T_1fe48_row1_col0\" class=\"data row1 col0\" >positive</td>\n",
       "      <td id=\"T_1fe48_row1_col1\" class=\"data row1 col1\" >6827</td>\n",
       "    </tr>\n",
       "    <tr>\n",
       "      <th id=\"T_1fe48_level0_row2\" class=\"row_heading level0 row2\" >0</th>\n",
       "      <td id=\"T_1fe48_row2_col0\" class=\"data row2 col0\" >negative</td>\n",
       "      <td id=\"T_1fe48_row2_col1\" class=\"data row2 col1\" >2374</td>\n",
       "    </tr>\n",
       "  </tbody>\n",
       "</table>\n"
      ],
      "text/plain": [
       "<pandas.io.formats.style.Styler at 0x260f3b27d90>"
      ]
     },
     "execution_count": 6,
     "metadata": {},
     "output_type": "execute_result"
    }
   ],
   "source": [
    "train_sentiment_cnt = train_df.groupby('sentiment').count()['tweet'].reset_index().sort_values(by='tweet',ascending=False)\n",
    "train_sentiment_cnt.style.background_gradient(cmap='Oranges')"
   ]
  },
  {
   "cell_type": "code",
   "execution_count": 6,
   "metadata": {},
   "outputs": [
    {
     "data": {
      "image/png": "[encoded data removed]",
      "text/plain": [
       "<Figure size 300x300 with 1 Axes>"
      ]
     },
     "metadata": {},
     "output_type": "display_data"
    }
   ],
   "source": [
    "plt.figure(figsize=(3,3))\n",
    "sns.countplot(x='sentiment',data=train_df).set_title('Sentiment Distribution of Train set')\n",
    "plt.show()"
   ]
  },
  {
   "cell_type": "code",
   "execution_count": 7,
   "metadata": {},
   "outputs": [
    {
     "data": {
      "text/html": [
       "<style type=\"text/css\">\n",
       "#T_0321b_row0_col1 {\n",
       "  background-color: #08306b;\n",
       "  color: #f1f1f1;\n",
       "}\n",
       "#T_0321b_row1_col1 {\n",
       "  background-color: #58a1cf;\n",
       "  color: #f1f1f1;\n",
       "}\n",
       "#T_0321b_row2_col1 {\n",
       "  background-color: #b7d4ea;\n",
       "  color: #000000;\n",
       "}\n",
       "#T_0321b_row3_col1 {\n",
       "  background-color: #b8d5ea;\n",
       "  color: #000000;\n",
       "}\n",
       "#T_0321b_row4_col1 {\n",
       "  background-color: #c3daee;\n",
       "  color: #000000;\n",
       "}\n",
       "#T_0321b_row5_col1 {\n",
       "  background-color: #c6dbef;\n",
       "  color: #000000;\n",
       "}\n",
       "#T_0321b_row6_col1 {\n",
       "  background-color: #c8dcf0;\n",
       "  color: #000000;\n",
       "}\n",
       "#T_0321b_row7_col1 {\n",
       "  background-color: #ccdff1;\n",
       "  color: #000000;\n",
       "}\n",
       "#T_0321b_row8_col1 {\n",
       "  background-color: #d0e2f2;\n",
       "  color: #000000;\n",
       "}\n",
       "#T_0321b_row9_col1 {\n",
       "  background-color: #d7e6f5;\n",
       "  color: #000000;\n",
       "}\n",
       "#T_0321b_row10_col1 {\n",
       "  background-color: #dfecf7;\n",
       "  color: #000000;\n",
       "}\n",
       "#T_0321b_row11_col1 {\n",
       "  background-color: #e0ecf8;\n",
       "  color: #000000;\n",
       "}\n",
       "#T_0321b_row12_col1 {\n",
       "  background-color: #e3eef9;\n",
       "  color: #000000;\n",
       "}\n",
       "#T_0321b_row13_col1 {\n",
       "  background-color: #e4eff9;\n",
       "  color: #000000;\n",
       "}\n",
       "#T_0321b_row14_col1 {\n",
       "  background-color: #eef5fc;\n",
       "  color: #000000;\n",
       "}\n",
       "#T_0321b_row15_col1 {\n",
       "  background-color: #f1f7fd;\n",
       "  color: #000000;\n",
       "}\n",
       "#T_0321b_row16_col1 {\n",
       "  background-color: #f3f8fe;\n",
       "  color: #000000;\n",
       "}\n",
       "#T_0321b_row17_col1 {\n",
       "  background-color: #f5f9fe;\n",
       "  color: #000000;\n",
       "}\n",
       "#T_0321b_row18_col1 {\n",
       "  background-color: #f5fafe;\n",
       "  color: #000000;\n",
       "}\n",
       "#T_0321b_row19_col1 {\n",
       "  background-color: #f7fbff;\n",
       "  color: #000000;\n",
       "}\n",
       "</style>\n",
       "<table id=\"T_0321b\">\n",
       "  <thead>\n",
       "    <tr>\n",
       "      <th class=\"blank level0\" >&nbsp;</th>\n",
       "      <th id=\"T_0321b_level0_col0\" class=\"col_heading level0 col0\" >Common_words</th>\n",
       "      <th id=\"T_0321b_level0_col1\" class=\"col_heading level0 col1\" >count</th>\n",
       "    </tr>\n",
       "  </thead>\n",
       "  <tbody>\n",
       "    <tr>\n",
       "      <th id=\"T_0321b_level0_row0\" class=\"row_heading level0 row0\" >0</th>\n",
       "      <td id=\"T_0321b_row0_col0\" class=\"data row0 col0\" >the</td>\n",
       "      <td id=\"T_0321b_row0_col1\" class=\"data row0 col1\" >12216</td>\n",
       "    </tr>\n",
       "    <tr>\n",
       "      <th id=\"T_0321b_level0_row1\" class=\"row_heading level0 row1\" >1</th>\n",
       "      <td id=\"T_0321b_row1_col0\" class=\"data row1 col0\" >to</td>\n",
       "      <td id=\"T_0321b_row1_col1\" class=\"data row1 col1\" >7407</td>\n",
       "    </tr>\n",
       "    <tr>\n",
       "      <th id=\"T_0321b_level0_row2\" class=\"row_heading level0 row2\" >2</th>\n",
       "      <td id=\"T_0321b_row2_col0\" class=\"data row2 col0\" >on</td>\n",
       "      <td id=\"T_0321b_row2_col1\" class=\"data row2 col1\" >4581</td>\n",
       "    </tr>\n",
       "    <tr>\n",
       "      <th id=\"T_0321b_level0_row3\" class=\"row_heading level0 row3\" >3</th>\n",
       "      <td id=\"T_0321b_row3_col0\" class=\"data row3 col0\" >in</td>\n",
       "      <td id=\"T_0321b_row3_col1\" class=\"data row3 col1\" >4544</td>\n",
       "    </tr>\n",
       "    <tr>\n",
       "      <th id=\"T_0321b_level0_row4\" class=\"row_heading level0 row4\" >4</th>\n",
       "      <td id=\"T_0321b_row4_col0\" class=\"data row4 col0\" >a</td>\n",
       "      <td id=\"T_0321b_row4_col1\" class=\"data row4 col1\" >4148</td>\n",
       "    </tr>\n",
       "    <tr>\n",
       "      <th id=\"T_0321b_level0_row5\" class=\"row_heading level0 row5\" >5</th>\n",
       "      <td id=\"T_0321b_row5_col0\" class=\"data row5 col0\" >and</td>\n",
       "      <td id=\"T_0321b_row5_col1\" class=\"data row5 col1\" >4090</td>\n",
       "    </tr>\n",
       "    <tr>\n",
       "      <th id=\"T_0321b_level0_row6\" class=\"row_heading level0 row6\" >6</th>\n",
       "      <td id=\"T_0321b_row6_col0\" class=\"data row6 col0\" >I</td>\n",
       "      <td id=\"T_0321b_row6_col1\" class=\"data row6 col1\" >3968</td>\n",
       "    </tr>\n",
       "    <tr>\n",
       "      <th id=\"T_0321b_level0_row7\" class=\"row_heading level0 row7\" >7</th>\n",
       "      <td id=\"T_0321b_row7_col0\" class=\"data row7 col0\" >of</td>\n",
       "      <td id=\"T_0321b_row7_col1\" class=\"data row7 col1\" >3748</td>\n",
       "    </tr>\n",
       "    <tr>\n",
       "      <th id=\"T_0321b_level0_row8\" class=\"row_heading level0 row8\" >8</th>\n",
       "      <td id=\"T_0321b_row8_col0\" class=\"data row8 col0\" >for</td>\n",
       "      <td id=\"T_0321b_row8_col1\" class=\"data row8 col1\" >3472</td>\n",
       "    </tr>\n",
       "    <tr>\n",
       "      <th id=\"T_0321b_level0_row9\" class=\"row_heading level0 row9\" >9</th>\n",
       "      <td id=\"T_0321b_row9_col0\" class=\"data row9 col0\" >is</td>\n",
       "      <td id=\"T_0321b_row9_col1\" class=\"data row9 col1\" >3091</td>\n",
       "    </tr>\n",
       "    <tr>\n",
       "      <th id=\"T_0321b_level0_row10\" class=\"row_heading level0 row10\" >10</th>\n",
       "      <td id=\"T_0321b_row10_col0\" class=\"data row10 col0\" >at</td>\n",
       "      <td id=\"T_0321b_row10_col1\" class=\"data row10 col1\" >2652</td>\n",
       "    </tr>\n",
       "    <tr>\n",
       "      <th id=\"T_0321b_level0_row11\" class=\"row_heading level0 row11\" >11</th>\n",
       "      <td id=\"T_0321b_row11_col0\" class=\"data row11 col0\" >with</td>\n",
       "      <td id=\"T_0321b_row11_col1\" class=\"data row11 col1\" >2579</td>\n",
       "    </tr>\n",
       "    <tr>\n",
       "      <th id=\"T_0321b_level0_row12\" class=\"row_heading level0 row12\" >12</th>\n",
       "      <td id=\"T_0321b_row12_col0\" class=\"data row12 col0\" >be</td>\n",
       "      <td id=\"T_0321b_row12_col1\" class=\"data row12 col1\" >2422</td>\n",
       "    </tr>\n",
       "    <tr>\n",
       "      <th id=\"T_0321b_level0_row13\" class=\"row_heading level0 row13\" >13</th>\n",
       "      <td id=\"T_0321b_row13_col0\" class=\"data row13 col0\" >you</td>\n",
       "      <td id=\"T_0321b_row13_col1\" class=\"data row13 col1\" >2379</td>\n",
       "    </tr>\n",
       "    <tr>\n",
       "      <th id=\"T_0321b_level0_row14\" class=\"row_heading level0 row14\" >14</th>\n",
       "      <td id=\"T_0321b_row14_col0\" class=\"data row14 col0\" >it</td>\n",
       "      <td id=\"T_0321b_row14_col1\" class=\"data row14 col1\" >1835</td>\n",
       "    </tr>\n",
       "    <tr>\n",
       "      <th id=\"T_0321b_level0_row15\" class=\"row_heading level0 row15\" >15</th>\n",
       "      <td id=\"T_0321b_row15_col0\" class=\"data row15 col0\" >may</td>\n",
       "      <td id=\"T_0321b_row15_col1\" class=\"data row15 col1\" >1703</td>\n",
       "    </tr>\n",
       "    <tr>\n",
       "      <th id=\"T_0321b_level0_row16\" class=\"row_heading level0 row16\" >16</th>\n",
       "      <td id=\"T_0321b_row16_col0\" class=\"data row16 col0\" >my</td>\n",
       "      <td id=\"T_0321b_row16_col1\" class=\"data row16 col1\" >1572</td>\n",
       "    </tr>\n",
       "    <tr>\n",
       "      <th id=\"T_0321b_level0_row17\" class=\"row_heading level0 row17\" >17</th>\n",
       "      <td id=\"T_0321b_row17_col0\" class=\"data row17 col0\" >tomorrow</td>\n",
       "      <td id=\"T_0321b_row17_col1\" class=\"data row17 col1\" >1488</td>\n",
       "    </tr>\n",
       "    <tr>\n",
       "      <th id=\"T_0321b_level0_row18\" class=\"row_heading level0 row18\" >18</th>\n",
       "      <td id=\"T_0321b_row18_col0\" class=\"data row18 col0\" >have</td>\n",
       "      <td id=\"T_0321b_row18_col1\" class=\"data row18 col1\" >1467</td>\n",
       "    </tr>\n",
       "    <tr>\n",
       "      <th id=\"T_0321b_level0_row19\" class=\"row_heading level0 row19\" >19</th>\n",
       "      <td id=\"T_0321b_row19_col0\" class=\"data row19 col0\" >that</td>\n",
       "      <td id=\"T_0321b_row19_col1\" class=\"data row19 col1\" >1344</td>\n",
       "    </tr>\n",
       "  </tbody>\n",
       "</table>\n"
      ],
      "text/plain": [
       "<pandas.io.formats.style.Styler at 0x11c90d4d660>"
      ]
     },
     "execution_count": 7,
     "metadata": {},
     "output_type": "execute_result"
    }
   ],
   "source": [
    "train_df['temp_list'] = train_df['tweet'].apply(lambda x:str(x).split())\n",
    "top = Counter([item for sublist in train_df['temp_list'] for item in sublist])\n",
    "temp = pd.DataFrame(top.most_common(20))\n",
    "temp.columns = ['Common_words','count']\n",
    "temp.style.background_gradient(cmap='Blues')"
   ]
  },
  {
   "cell_type": "code",
   "execution_count": 8,
   "metadata": {},
   "outputs": [
    {
     "data": {
      "application/vnd.plotly.v1+json": {
       "config": {
        "plotlyServerURL": "https://plot.ly"
       },
       "data": [
        {
         "alignmentgroup": "True",
         "hovertemplate": "Common_words=%{y}<br>count=%{x}<extra></extra>",
         "legendgroup": "the",
         "marker": {
          "color": "#636efa",
          "pattern": {
           "shape": ""
          }
         },
         "name": "the",
         "offsetgroup": "the",
         "orientation": "h",
         "showlegend": true,
         "textposition": "auto",
         "type": "bar",
         "x": [
          12216
         ],
         "xaxis": "x",
         "y": [
          "the"
         ],
         "yaxis": "y"
        },
        {
         "alignmentgroup": "True",
         "hovertemplate": "Common_words=%{y}<br>count=%{x}<extra></extra>",
         "legendgroup": "to",
         "marker": {
          "color": "#EF553B",
          "pattern": {
           "shape": ""
          }
         },
         "name": "to",
         "offsetgroup": "to",
         "orientation": "h",
         "showlegend": true,
         "textposition": "auto",
         "type": "bar",
         "x": [
          7407
         ],
         "xaxis": "x",
         "y": [
          "to"
         ],
         "yaxis": "y"
        },
        {
         "alignmentgroup": "True",
         "hovertemplate": "Common_words=%{y}<br>count=%{x}<extra></extra>",
         "legendgroup": "on",
         "marker": {
          "color": "#00cc96",
          "pattern": {
           "shape": ""
          }
         },
         "name": "on",
         "offsetgroup": "on",
         "orientation": "h",
         "showlegend": true,
         "textposition": "auto",
         "type": "bar",
         "x": [
          4581
         ],
         "xaxis": "x",
         "y": [
          "on"
         ],
         "yaxis": "y"
        },
        {
         "alignmentgroup": "True",
         "hovertemplate": "Common_words=%{y}<br>count=%{x}<extra></extra>",
         "legendgroup": "in",
         "marker": {
          "color": "#ab63fa",
          "pattern": {
           "shape": ""
          }
         },
         "name": "in",
         "offsetgroup": "in",
         "orientation": "h",
         "showlegend": true,
         "textposition": "auto",
         "type": "bar",
         "x": [
          4544
         ],
         "xaxis": "x",
         "y": [
          "in"
         ],
         "yaxis": "y"
        },
        {
         "alignmentgroup": "True",
         "hovertemplate": "Common_words=%{y}<br>count=%{x}<extra></extra>",
         "legendgroup": "a",
         "marker": {
          "color": "#FFA15A",
          "pattern": {
           "shape": ""
          }
         },
         "name": "a",
         "offsetgroup": "a",
         "orientation": "h",
         "showlegend": true,
         "textposition": "auto",
         "type": "bar",
         "x": [
          4148
         ],
         "xaxis": "x",
         "y": [
          "a"
         ],
         "yaxis": "y"
        },
        {
         "alignmentgroup": "True",
         "hovertemplate": "Common_words=%{y}<br>count=%{x}<extra></extra>",
         "legendgroup": "and",
         "marker": {
          "color": "#19d3f3",
          "pattern": {
           "shape": ""
          }
         },
         "name": "and",
         "offsetgroup": "and",
         "orientation": "h",
         "showlegend": true,
         "textposition": "auto",
         "type": "bar",
         "x": [
          4090
         ],
         "xaxis": "x",
         "y": [
          "and"
         ],
         "yaxis": "y"
        },
        {
         "alignmentgroup": "True",
         "hovertemplate": "Common_words=%{y}<br>count=%{x}<extra></extra>",
         "legendgroup": "I",
         "marker": {
          "color": "#FF6692",
          "pattern": {
           "shape": ""
          }
         },
         "name": "I",
         "offsetgroup": "I",
         "orientation": "h",
         "showlegend": true,
         "textposition": "auto",
         "type": "bar",
         "x": [
          3968
         ],
         "xaxis": "x",
         "y": [
          "I"
         ],
         "yaxis": "y"
        },
        {
         "alignmentgroup": "True",
         "hovertemplate": "Common_words=%{y}<br>count=%{x}<extra></extra>",
         "legendgroup": "of",
         "marker": {
          "color": "#B6E880",
          "pattern": {
           "shape": ""
          }
         },
         "name": "of",
         "offsetgroup": "of",
         "orientation": "h",
         "showlegend": true,
         "textposition": "auto",
         "type": "bar",
         "x": [
          3748
         ],
         "xaxis": "x",
         "y": [
          "of"
         ],
         "yaxis": "y"
        },
        {
         "alignmentgroup": "True",
         "hovertemplate": "Common_words=%{y}<br>count=%{x}<extra></extra>",
         "legendgroup": "for",
         "marker": {
          "color": "#FF97FF",
          "pattern": {
           "shape": ""
          }
         },
         "name": "for",
         "offsetgroup": "for",
         "orientation": "h",
         "showlegend": true,
         "textposition": "auto",
         "type": "bar",
         "x": [
          3472
         ],
         "xaxis": "x",
         "y": [
          "for"
         ],
         "yaxis": "y"
        },
        {
         "alignmentgroup": "True",
         "hovertemplate": "Common_words=%{y}<br>count=%{x}<extra></extra>",
         "legendgroup": "is",
         "marker": {
          "color": "#FECB52",
          "pattern": {
           "shape": ""
          }
         },
         "name": "is",
         "offsetgroup": "is",
         "orientation": "h",
         "showlegend": true,
         "textposition": "auto",
         "type": "bar",
         "x": [
          3091
         ],
         "xaxis": "x",
         "y": [
          "is"
         ],
         "yaxis": "y"
        },
        {
         "alignmentgroup": "True",
         "hovertemplate": "Common_words=%{y}<br>count=%{x}<extra></extra>",
         "legendgroup": "at",
         "marker": {
          "color": "#636efa",
          "pattern": {
           "shape": ""
          }
         },
         "name": "at",
         "offsetgroup": "at",
         "orientation": "h",
         "showlegend": true,
         "textposition": "auto",
         "type": "bar",
         "x": [
          2652
         ],
         "xaxis": "x",
         "y": [
          "at"
         ],
         "yaxis": "y"
        },
        {
         "alignmentgroup": "True",
         "hovertemplate": "Common_words=%{y}<br>count=%{x}<extra></extra>",
         "legendgroup": "with",
         "marker": {
          "color": "#EF553B",
          "pattern": {
           "shape": ""
          }
         },
         "name": "with",
         "offsetgroup": "with",
         "orientation": "h",
         "showlegend": true,
         "textposition": "auto",
         "type": "bar",
         "x": [
          2579
         ],
         "xaxis": "x",
         "y": [
          "with"
         ],
         "yaxis": "y"
        },
        {
         "alignmentgroup": "True",
         "hovertemplate": "Common_words=%{y}<br>count=%{x}<extra></extra>",
         "legendgroup": "be",
         "marker": {
          "color": "#00cc96",
          "pattern": {
           "shape": ""
          }
         },
         "name": "be",
         "offsetgroup": "be",
         "orientation": "h",
         "showlegend": true,
         "textposition": "auto",
         "type": "bar",
         "x": [
          2422
         ],
         "xaxis": "x",
         "y": [
          "be"
         ],
         "yaxis": "y"
        },
        {
         "alignmentgroup": "True",
         "hovertemplate": "Common_words=%{y}<br>count=%{x}<extra></extra>",
         "legendgroup": "you",
         "marker": {
          "color": "#ab63fa",
          "pattern": {
           "shape": ""
          }
         },
         "name": "you",
         "offsetgroup": "you",
         "orientation": "h",
         "showlegend": true,
         "textposition": "auto",
         "type": "bar",
         "x": [
          2379
         ],
         "xaxis": "x",
         "y": [
          "you"
         ],
         "yaxis": "y"
        },
        {
         "alignmentgroup": "True",
         "hovertemplate": "Common_words=%{y}<br>count=%{x}<extra></extra>",
         "legendgroup": "it",
         "marker": {
          "color": "#FFA15A",
          "pattern": {
           "shape": ""
          }
         },
         "name": "it",
         "offsetgroup": "it",
         "orientation": "h",
         "showlegend": true,
         "textposition": "auto",
         "type": "bar",
         "x": [
          1835
         ],
         "xaxis": "x",
         "y": [
          "it"
         ],
         "yaxis": "y"
        },
        {
         "alignmentgroup": "True",
         "hovertemplate": "Common_words=%{y}<br>count=%{x}<extra></extra>",
         "legendgroup": "may",
         "marker": {
          "color": "#19d3f3",
          "pattern": {
           "shape": ""
          }
         },
         "name": "may",
         "offsetgroup": "may",
         "orientation": "h",
         "showlegend": true,
         "textposition": "auto",
         "type": "bar",
         "x": [
          1703
         ],
         "xaxis": "x",
         "y": [
          "may"
         ],
         "yaxis": "y"
        },
        {
         "alignmentgroup": "True",
         "hovertemplate": "Common_words=%{y}<br>count=%{x}<extra></extra>",
         "legendgroup": "my",
         "marker": {
          "color": "#FF6692",
          "pattern": {
           "shape": ""
          }
         },
         "name": "my",
         "offsetgroup": "my",
         "orientation": "h",
         "showlegend": true,
         "textposition": "auto",
         "type": "bar",
         "x": [
          1572
         ],
         "xaxis": "x",
         "y": [
          "my"
         ],
         "yaxis": "y"
        },
        {
         "alignmentgroup": "True",
         "hovertemplate": "Common_words=%{y}<br>count=%{x}<extra></extra>",
         "legendgroup": "tomorrow",
         "marker": {
          "color": "#B6E880",
          "pattern": {
           "shape": ""
          }
         },
         "name": "tomorrow",
         "offsetgroup": "tomorrow",
         "orientation": "h",
         "showlegend": true,
         "textposition": "auto",
         "type": "bar",
         "x": [
          1488
         ],
         "xaxis": "x",
         "y": [
          "tomorrow"
         ],
         "yaxis": "y"
        },
        {
         "alignmentgroup": "True",
         "hovertemplate": "Common_words=%{y}<br>count=%{x}<extra></extra>",
         "legendgroup": "have",
         "marker": {
          "color": "#FF97FF",
          "pattern": {
           "shape": ""
          }
         },
         "name": "have",
         "offsetgroup": "have",
         "orientation": "h",
         "showlegend": true,
         "textposition": "auto",
         "type": "bar",
         "x": [
          1467
         ],
         "xaxis": "x",
         "y": [
          "have"
         ],
         "yaxis": "y"
        },
        {
         "alignmentgroup": "True",
         "hovertemplate": "Common_words=%{y}<br>count=%{x}<extra></extra>",
         "legendgroup": "that",
         "marker": {
          "color": "#FECB52",
          "pattern": {
           "shape": ""
          }
         },
         "name": "that",
         "offsetgroup": "that",
         "orientation": "h",
         "showlegend": true,
         "textposition": "auto",
         "type": "bar",
         "x": [
          1344
         ],
         "xaxis": "x",
         "y": [
          "that"
         ],
         "yaxis": "y"
        }
       ],
       "layout": {
        "barmode": "relative",
        "height": 700,
        "legend": {
         "title": {
          "text": "Common_words"
         },
         "tracegroupgap": 0
        },
        "template": {
         "data": {
          "bar": [
           {
            "error_x": {
             "color": "#2a3f5f"
            },
            "error_y": {
             "color": "#2a3f5f"
            },
            "marker": {
             "line": {
              "color": "#E5ECF6",
              "width": 0.5
             },
             "pattern": {
              "fillmode": "overlay",
              "size": 10,
              "solidity": 0.2
             }
            },
            "type": "bar"
           }
          ],
          "barpolar": [
           {
            "marker": {
             "line": {
              "color": "#E5ECF6",
              "width": 0.5
             },
             "pattern": {
              "fillmode": "overlay",
              "size": 10,
              "solidity": 0.2
             }
            },
            "type": "barpolar"
           }
          ],
          "carpet": [
           {
            "aaxis": {
             "endlinecolor": "#2a3f5f",
             "gridcolor": "white",
             "linecolor": "white",
             "minorgridcolor": "white",
             "startlinecolor": "#2a3f5f"
            },
            "baxis": {
             "endlinecolor": "#2a3f5f",
             "gridcolor": "white",
             "linecolor": "white",
             "minorgridcolor": "white",
             "startlinecolor": "#2a3f5f"
            },
            "type": "carpet"
           }
          ],
          "choropleth": [
           {
            "colorbar": {
             "outlinewidth": 0,
             "ticks": ""
            },
            "type": "choropleth"
           }
          ],
          "contour": [
           {
            "colorbar": {
             "outlinewidth": 0,
             "ticks": ""
            },
            "colorscale": [
             [
              0,
              "#0d0887"
             ],
             [
              0.1111111111111111,
              "#46039f"
             ],
             [
              0.2222222222222222,
              "#7201a8"
             ],
             [
              0.3333333333333333,
              "#9c179e"
             ],
             [
              0.4444444444444444,
              "#bd3786"
             ],
             [
              0.5555555555555556,
              "#d8576b"
             ],
             [
              0.6666666666666666,
              "#ed7953"
             ],
             [
              0.7777777777777778,
              "#fb9f3a"
             ],
             [
              0.8888888888888888,
              "#fdca26"
             ],
             [
              1,
              "#f0f921"
             ]
            ],
            "type": "contour"
           }
          ],
          "contourcarpet": [
           {
            "colorbar": {
             "outlinewidth": 0,
             "ticks": ""
            },
            "type": "contourcarpet"
           }
          ],
          "heatmap": [
           {
            "colorbar": {
             "outlinewidth": 0,
             "ticks": ""
            },
            "colorscale": [
             [
              0,
              "#0d0887"
             ],
             [
              0.1111111111111111,
              "#46039f"
             ],
             [
              0.2222222222222222,
              "#7201a8"
             ],
             [
              0.3333333333333333,
              "#9c179e"
             ],
             [
              0.4444444444444444,
              "#bd3786"
             ],
             [
              0.5555555555555556,
              "#d8576b"
             ],
             [
              0.6666666666666666,
              "#ed7953"
             ],
             [
              0.7777777777777778,
              "#fb9f3a"
             ],
             [
              0.8888888888888888,
              "#fdca26"
             ],
             [
              1,
              "#f0f921"
             ]
            ],
            "type": "heatmap"
           }
          ],
          "heatmapgl": [
           {
            "colorbar": {
             "outlinewidth": 0,
             "ticks": ""
            },
            "colorscale": [
             [
              0,
              "#0d0887"
             ],
             [
              0.1111111111111111,
              "#46039f"
             ],
             [
              0.2222222222222222,
              "#7201a8"
             ],
             [
              0.3333333333333333,
              "#9c179e"
             ],
             [
              0.4444444444444444,
              "#bd3786"
             ],
             [
              0.5555555555555556,
              "#d8576b"
             ],
             [
              0.6666666666666666,
              "#ed7953"
             ],
             [
              0.7777777777777778,
              "#fb9f3a"
             ],
             [
              0.8888888888888888,
              "#fdca26"
             ],
             [
              1,
              "#f0f921"
             ]
            ],
            "type": "heatmapgl"
           }
          ],
          "histogram": [
           {
            "marker": {
             "pattern": {
              "fillmode": "overlay",
              "size": 10,
              "solidity": 0.2
             }
            },
            "type": "histogram"
           }
          ],
          "histogram2d": [
           {
            "colorbar": {
             "outlinewidth": 0,
             "ticks": ""
            },
            "colorscale": [
             [
              0,
              "#0d0887"
             ],
             [
              0.1111111111111111,
              "#46039f"
             ],
             [
              0.2222222222222222,
              "#7201a8"
             ],
             [
              0.3333333333333333,
              "#9c179e"
             ],
             [
              0.4444444444444444,
              "#bd3786"
             ],
             [
              0.5555555555555556,
              "#d8576b"
             ],
             [
              0.6666666666666666,
              "#ed7953"
             ],
             [
              0.7777777777777778,
              "#fb9f3a"
             ],
             [
              0.8888888888888888,
              "#fdca26"
             ],
             [
              1,
              "#f0f921"
             ]
            ],
            "type": "histogram2d"
           }
          ],
          "histogram2dcontour": [
           {
            "colorbar": {
             "outlinewidth": 0,
             "ticks": ""
            },
            "colorscale": [
             [
              0,
              "#0d0887"
             ],
             [
              0.1111111111111111,
              "#46039f"
             ],
             [
              0.2222222222222222,
              "#7201a8"
             ],
             [
              0.3333333333333333,
              "#9c179e"
             ],
             [
              0.4444444444444444,
              "#bd3786"
             ],
             [
              0.5555555555555556,
              "#d8576b"
             ],
             [
              0.6666666666666666,
              "#ed7953"
             ],
             [
              0.7777777777777778,
              "#fb9f3a"
             ],
             [
              0.8888888888888888,
              "#fdca26"
             ],
             [
              1,
              "#f0f921"
             ]
            ],
            "type": "histogram2dcontour"
           }
          ],
          "mesh3d": [
           {
            "colorbar": {
             "outlinewidth": 0,
             "ticks": ""
            },
            "type": "mesh3d"
           }
          ],
          "parcoords": [
           {
            "line": {
             "colorbar": {
              "outlinewidth": 0,
              "ticks": ""
             }
            },
            "type": "parcoords"
           }
          ],
          "pie": [
           {
            "automargin": true,
            "type": "pie"
           }
          ],
          "scatter": [
           {
            "fillpattern": {
             "fillmode": "overlay",
             "size": 10,
             "solidity": 0.2
            },
            "type": "scatter"
           }
          ],
          "scatter3d": [
           {
            "line": {
             "colorbar": {
              "outlinewidth": 0,
              "ticks": ""
             }
            },
            "marker": {
             "colorbar": {
              "outlinewidth": 0,
              "ticks": ""
             }
            },
            "type": "scatter3d"
           }
          ],
          "scattercarpet": [
           {
            "marker": {
             "colorbar": {
              "outlinewidth": 0,
              "ticks": ""
             }
            },
            "type": "scattercarpet"
           }
          ],
          "scattergeo": [
           {
            "marker": {
             "colorbar": {
              "outlinewidth": 0,
              "ticks": ""
             }
            },
            "type": "scattergeo"
           }
          ],
          "scattergl": [
           {
            "marker": {
             "colorbar": {
              "outlinewidth": 0,
              "ticks": ""
             }
            },
            "type": "scattergl"
           }
          ],
          "scattermapbox": [
           {
            "marker": {
             "colorbar": {
              "outlinewidth": 0,
              "ticks": ""
             }
            },
            "type": "scattermapbox"
           }
          ],
          "scatterpolar": [
           {
            "marker": {
             "colorbar": {
              "outlinewidth": 0,
              "ticks": ""
             }
            },
            "type": "scatterpolar"
           }
          ],
          "scatterpolargl": [
           {
            "marker": {
             "colorbar": {
              "outlinewidth": 0,
              "ticks": ""
             }
            },
            "type": "scatterpolargl"
           }
          ],
          "scatterternary": [
           {
            "marker": {
             "colorbar": {
              "outlinewidth": 0,
              "ticks": ""
             }
            },
            "type": "scatterternary"
           }
          ],
          "surface": [
           {
            "colorbar": {
             "outlinewidth": 0,
             "ticks": ""
            },
            "colorscale": [
             [
              0,
              "#0d0887"
             ],
             [
              0.1111111111111111,
              "#46039f"
             ],
             [
              0.2222222222222222,
              "#7201a8"
             ],
             [
              0.3333333333333333,
              "#9c179e"
             ],
             [
              0.4444444444444444,
              "#bd3786"
             ],
             [
              0.5555555555555556,
              "#d8576b"
             ],
             [
              0.6666666666666666,
              "#ed7953"
             ],
             [
              0.7777777777777778,
              "#fb9f3a"
             ],
             [
              0.8888888888888888,
              "#fdca26"
             ],
             [
              1,
              "#f0f921"
             ]
            ],
            "type": "surface"
           }
          ],
          "table": [
           {
            "cells": {
             "fill": {
              "color": "#EBF0F8"
             },
             "line": {
              "color": "white"
             }
            },
            "header": {
             "fill": {
              "color": "#C8D4E3"
             },
             "line": {
              "color": "white"
             }
            },
            "type": "table"
           }
          ]
         },
         "layout": {
          "annotationdefaults": {
           "arrowcolor": "#2a3f5f",
           "arrowhead": 0,
           "arrowwidth": 1
          },
          "autotypenumbers": "strict",
          "coloraxis": {
           "colorbar": {
            "outlinewidth": 0,
            "ticks": ""
           }
          },
          "colorscale": {
           "diverging": [
            [
             0,
             "#8e0152"
            ],
            [
             0.1,
             "#c51b7d"
            ],
            [
             0.2,
             "#de77ae"
            ],
            [
             0.3,
             "#f1b6da"
            ],
            [
             0.4,
             "#fde0ef"
            ],
            [
             0.5,
             "#f7f7f7"
            ],
            [
             0.6,
             "#e6f5d0"
            ],
            [
             0.7,
             "#b8e186"
            ],
            [
             0.8,
             "#7fbc41"
            ],
            [
             0.9,
             "#4d9221"
            ],
            [
             1,
             "#276419"
            ]
           ],
           "sequential": [
            [
             0,
             "#0d0887"
            ],
            [
             0.1111111111111111,
             "#46039f"
            ],
            [
             0.2222222222222222,
             "#7201a8"
            ],
            [
             0.3333333333333333,
             "#9c179e"
            ],
            [
             0.4444444444444444,
             "#bd3786"
            ],
            [
             0.5555555555555556,
             "#d8576b"
            ],
            [
             0.6666666666666666,
             "#ed7953"
            ],
            [
             0.7777777777777778,
             "#fb9f3a"
            ],
            [
             0.8888888888888888,
             "#fdca26"
            ],
            [
             1,
             "#f0f921"
            ]
           ],
           "sequentialminus": [
            [
             0,
             "#0d0887"
            ],
            [
             0.1111111111111111,
             "#46039f"
            ],
            [
             0.2222222222222222,
             "#7201a8"
            ],
            [
             0.3333333333333333,
             "#9c179e"
            ],
            [
             0.4444444444444444,
             "#bd3786"
            ],
            [
             0.5555555555555556,
             "#d8576b"
            ],
            [
             0.6666666666666666,
             "#ed7953"
            ],
            [
             0.7777777777777778,
             "#fb9f3a"
            ],
            [
             0.8888888888888888,
             "#fdca26"
            ],
            [
             1,
             "#f0f921"
            ]
           ]
          },
          "colorway": [
           "#636efa",
           "#EF553B",
           "#00cc96",
           "#ab63fa",
           "#FFA15A",
           "#19d3f3",
           "#FF6692",
           "#B6E880",
           "#FF97FF",
           "#FECB52"
          ],
          "font": {
           "color": "#2a3f5f"
          },
          "geo": {
           "bgcolor": "white",
           "lakecolor": "white",
           "landcolor": "#E5ECF6",
           "showlakes": true,
           "showland": true,
           "subunitcolor": "white"
          },
          "hoverlabel": {
           "align": "left"
          },
          "hovermode": "closest",
          "mapbox": {
           "style": "light"
          },
          "paper_bgcolor": "white",
          "plot_bgcolor": "#E5ECF6",
          "polar": {
           "angularaxis": {
            "gridcolor": "white",
            "linecolor": "white",
            "ticks": ""
           },
           "bgcolor": "#E5ECF6",
           "radialaxis": {
            "gridcolor": "white",
            "linecolor": "white",
            "ticks": ""
           }
          },
          "scene": {
           "xaxis": {
            "backgroundcolor": "#E5ECF6",
            "gridcolor": "white",
            "gridwidth": 2,
            "linecolor": "white",
            "showbackground": true,
            "ticks": "",
            "zerolinecolor": "white"
           },
           "yaxis": {
            "backgroundcolor": "#E5ECF6",
            "gridcolor": "white",
            "gridwidth": 2,
            "linecolor": "white",
            "showbackground": true,
            "ticks": "",
            "zerolinecolor": "white"
           },
           "zaxis": {
            "backgroundcolor": "#E5ECF6",
            "gridcolor": "white",
            "gridwidth": 2,
            "linecolor": "white",
            "showbackground": true,
            "ticks": "",
            "zerolinecolor": "white"
           }
          },
          "shapedefaults": {
           "line": {
            "color": "#2a3f5f"
           }
          },
          "ternary": {
           "aaxis": {
            "gridcolor": "white",
            "linecolor": "white",
            "ticks": ""
           },
           "baxis": {
            "gridcolor": "white",
            "linecolor": "white",
            "ticks": ""
           },
           "bgcolor": "#E5ECF6",
           "caxis": {
            "gridcolor": "white",
            "linecolor": "white",
            "ticks": ""
           }
          },
          "title": {
           "x": 0.05
          },
          "xaxis": {
           "automargin": true,
           "gridcolor": "white",
           "linecolor": "white",
           "ticks": "",
           "title": {
            "standoff": 15
           },
           "zerolinecolor": "white",
           "zerolinewidth": 2
          },
          "yaxis": {
           "automargin": true,
           "gridcolor": "white",
           "linecolor": "white",
           "ticks": "",
           "title": {
            "standoff": 15
           },
           "zerolinecolor": "white",
           "zerolinewidth": 2
          }
         }
        },
        "title": {
         "text": "Commmon Words in Train Dataset"
        },
        "width": 700,
        "xaxis": {
         "anchor": "y",
         "domain": [
          0,
          1
         ],
         "title": {
          "text": "count"
         }
        },
        "yaxis": {
         "anchor": "x",
         "categoryarray": [
          "that",
          "have",
          "tomorrow",
          "my",
          "may",
          "it",
          "you",
          "be",
          "with",
          "at",
          "is",
          "for",
          "of",
          "I",
          "and",
          "a",
          "in",
          "on",
          "to",
          "the"
         ],
         "categoryorder": "array",
         "domain": [
          0,
          1
         ],
         "title": {
          "text": "Common_words"
         }
        }
       }
      }
     },
     "metadata": {},
     "output_type": "display_data"
    }
   ],
   "source": [
    "fig = px.bar(temp, x=\"count\", y=\"Common_words\", title='Commmon Words in Train Dataset', orientation='h', \n",
    "             width=700, height=700,color='Common_words')\n",
    "fig.show()"
   ]
  },
  {
   "cell_type": "code",
   "execution_count": 9,
   "metadata": {},
   "outputs": [],
   "source": [
    "def remove_stopword(x):\n",
    "    return [y for y in x if y not in stopwords.words('english')]\n",
    "train_df['temp_list'] = train_df['temp_list'].apply(lambda x:remove_stopword(x))"
   ]
  },
  {
   "cell_type": "code",
   "execution_count": 10,
   "metadata": {},
   "outputs": [
    {
     "data": {
      "text/html": [
       "<style type=\"text/css\">\n",
       "#T_ea647_row0_col1 {\n",
       "  background-color: #3f007d;\n",
       "  color: #f1f1f1;\n",
       "}\n",
       "#T_ea647_row1_col1 {\n",
       "  background-color: #5d3897;\n",
       "  color: #f1f1f1;\n",
       "}\n",
       "#T_ea647_row2_col1 {\n",
       "  background-color: #a19eca;\n",
       "  color: #f1f1f1;\n",
       "}\n",
       "#T_ea647_row3_col1 {\n",
       "  background-color: #a3a0cb;\n",
       "  color: #f1f1f1;\n",
       "}\n",
       "#T_ea647_row4_col1 {\n",
       "  background-color: #b5b5d7;\n",
       "  color: #000000;\n",
       "}\n",
       "#T_ea647_row5_col1 {\n",
       "  background-color: #d0d1e6;\n",
       "  color: #000000;\n",
       "}\n",
       "#T_ea647_row6_col1 {\n",
       "  background-color: #d4d4e8;\n",
       "  color: #000000;\n",
       "}\n",
       "#T_ea647_row7_col1 {\n",
       "  background-color: #ddddec;\n",
       "  color: #000000;\n",
       "}\n",
       "#T_ea647_row8_col1 {\n",
       "  background-color: #e4e3f0;\n",
       "  color: #000000;\n",
       "}\n",
       "#T_ea647_row9_col1 {\n",
       "  background-color: #e9e8f2;\n",
       "  color: #000000;\n",
       "}\n",
       "#T_ea647_row10_col1 {\n",
       "  background-color: #edebf4;\n",
       "  color: #000000;\n",
       "}\n",
       "#T_ea647_row11_col1 {\n",
       "  background-color: #efedf5;\n",
       "  color: #000000;\n",
       "}\n",
       "#T_ea647_row12_col1 {\n",
       "  background-color: #f1eff6;\n",
       "  color: #000000;\n",
       "}\n",
       "#T_ea647_row13_col1 {\n",
       "  background-color: #f3f1f7;\n",
       "  color: #000000;\n",
       "}\n",
       "#T_ea647_row14_col1 {\n",
       "  background-color: #f6f5f9;\n",
       "  color: #000000;\n",
       "}\n",
       "#T_ea647_row15_col1, #T_ea647_row16_col1, #T_ea647_row17_col1, #T_ea647_row18_col1 {\n",
       "  background-color: #fcfbfd;\n",
       "  color: #000000;\n",
       "}\n",
       "</style>\n",
       "<table id=\"T_ea647\">\n",
       "  <thead>\n",
       "    <tr>\n",
       "      <th class=\"blank level0\" >&nbsp;</th>\n",
       "      <th id=\"T_ea647_level0_col0\" class=\"col_heading level0 col0\" >Common_words</th>\n",
       "      <th id=\"T_ea647_level0_col1\" class=\"col_heading level0 col1\" >count</th>\n",
       "    </tr>\n",
       "  </thead>\n",
       "  <tbody>\n",
       "    <tr>\n",
       "      <th id=\"T_ea647_level0_row0\" class=\"row_heading level0 row0\" >1</th>\n",
       "      <td id=\"T_ea647_row0_col0\" class=\"data row0 col0\" >may</td>\n",
       "      <td id=\"T_ea647_row0_col1\" class=\"data row0 col1\" >1703</td>\n",
       "    </tr>\n",
       "    <tr>\n",
       "      <th id=\"T_ea647_level0_row1\" class=\"row_heading level0 row1\" >2</th>\n",
       "      <td id=\"T_ea647_row1_col0\" class=\"data row1 col0\" >tomorrow</td>\n",
       "      <td id=\"T_ea647_row1_col1\" class=\"data row1 col1\" >1488</td>\n",
       "    </tr>\n",
       "    <tr>\n",
       "      <th id=\"T_ea647_level0_row2\" class=\"row_heading level0 row2\" >3</th>\n",
       "      <td id=\"T_ea647_row2_col0\" class=\"data row2 col0\" >going</td>\n",
       "      <td id=\"T_ea647_row2_col1\" class=\"data row2 col1\" >1087</td>\n",
       "    </tr>\n",
       "    <tr>\n",
       "      <th id=\"T_ea647_level0_row3\" class=\"row_heading level0 row3\" >4</th>\n",
       "      <td id=\"T_ea647_row3_col0\" class=\"data row3 col0\" >-</td>\n",
       "      <td id=\"T_ea647_row3_col1\" class=\"data row3 col1\" >1076</td>\n",
       "    </tr>\n",
       "    <tr>\n",
       "      <th id=\"T_ea647_level0_row4\" class=\"row_heading level0 row4\" >5</th>\n",
       "      <td id=\"T_ea647_row4_col0\" class=\"data row4 col0\" >The</td>\n",
       "      <td id=\"T_ea647_row4_col1\" class=\"data row4 col1\" >989</td>\n",
       "    </tr>\n",
       "    <tr>\n",
       "      <th id=\"T_ea647_level0_row5\" class=\"row_heading level0 row5\" >6</th>\n",
       "      <td id=\"T_ea647_row5_col0\" class=\"data row5 col0\" >see</td>\n",
       "      <td id=\"T_ea647_row5_col1\" class=\"data row5 col1\" >850</td>\n",
       "    </tr>\n",
       "    <tr>\n",
       "      <th id=\"T_ea647_level0_row6\" class=\"row_heading level0 row6\" >7</th>\n",
       "      <td id=\"T_ea647_row6_col0\" class=\"data row6 col0\" >1st</td>\n",
       "      <td id=\"T_ea647_row6_col1\" class=\"data row6 col1\" >835</td>\n",
       "    </tr>\n",
       "    <tr>\n",
       "      <th id=\"T_ea647_level0_row7\" class=\"row_heading level0 row7\" >8</th>\n",
       "      <td id=\"T_ea647_row7_col0\" class=\"data row7 col0\" >like</td>\n",
       "      <td id=\"T_ea647_row7_col1\" class=\"data row7 col1\" >783</td>\n",
       "    </tr>\n",
       "    <tr>\n",
       "      <th id=\"T_ea647_level0_row8\" class=\"row_heading level0 row8\" >9</th>\n",
       "      <td id=\"T_ea647_row8_col0\" class=\"data row8 col0\" >get</td>\n",
       "      <td id=\"T_ea647_row8_col1\" class=\"data row8 col1\" >735</td>\n",
       "    </tr>\n",
       "    <tr>\n",
       "      <th id=\"T_ea647_level0_row9\" class=\"row_heading level0 row9\" >10</th>\n",
       "      <td id=\"T_ea647_row9_col0\" class=\"data row9 col0\" >day</td>\n",
       "      <td id=\"T_ea647_row9_col1\" class=\"data row9 col1\" >695</td>\n",
       "    </tr>\n",
       "    <tr>\n",
       "      <th id=\"T_ea647_level0_row10\" class=\"row_heading level0 row10\" >11</th>\n",
       "      <td id=\"T_ea647_row10_col0\" class=\"data row10 col0\" >&</td>\n",
       "      <td id=\"T_ea647_row10_col1\" class=\"data row10 col1\" >670</td>\n",
       "    </tr>\n",
       "    <tr>\n",
       "      <th id=\"T_ea647_level0_row11\" class=\"row_heading level0 row11\" >12</th>\n",
       "      <td id=\"T_ea647_row11_col0\" class=\"data row11 col0\" >night</td>\n",
       "      <td id=\"T_ea647_row11_col1\" class=\"data row11 col1\" >653</td>\n",
       "    </tr>\n",
       "    <tr>\n",
       "      <th id=\"T_ea647_level0_row12\" class=\"row_heading level0 row12\" >13</th>\n",
       "      <td id=\"T_ea647_row12_col0\" class=\"data row12 col0\" >go</td>\n",
       "      <td id=\"T_ea647_row12_col1\" class=\"data row12 col1\" >633</td>\n",
       "    </tr>\n",
       "    <tr>\n",
       "      <th id=\"T_ea647_level0_row13\" class=\"row_heading level0 row13\" >14</th>\n",
       "      <td id=\"T_ea647_row13_col0\" class=\"data row13 col0\" >time</td>\n",
       "      <td id=\"T_ea647_row13_col1\" class=\"data row13 col1\" >608</td>\n",
       "    </tr>\n",
       "    <tr>\n",
       "      <th id=\"T_ea647_level0_row14\" class=\"row_heading level0 row14\" >15</th>\n",
       "      <td id=\"T_ea647_row14_col0\" class=\"data row14 col0\" >2nd</td>\n",
       "      <td id=\"T_ea647_row14_col1\" class=\"data row14 col1\" >572</td>\n",
       "    </tr>\n",
       "    <tr>\n",
       "      <th id=\"T_ea647_level0_row15\" class=\"row_heading level0 row15\" >16</th>\n",
       "      <td id=\"T_ea647_row15_col0\" class=\"data row15 col0\" >game</td>\n",
       "      <td id=\"T_ea647_row15_col1\" class=\"data row15 col1\" >506</td>\n",
       "    </tr>\n",
       "    <tr>\n",
       "      <th id=\"T_ea647_level0_row16\" class=\"row_heading level0 row16\" >17</th>\n",
       "      <td id=\"T_ea647_row16_col0\" class=\"data row16 col0\" >Friday</td>\n",
       "      <td id=\"T_ea647_row16_col1\" class=\"data row16 col1\" >505</td>\n",
       "    </tr>\n",
       "    <tr>\n",
       "      <th id=\"T_ea647_level0_row17\" class=\"row_heading level0 row17\" >18</th>\n",
       "      <td id=\"T_ea647_row17_col0\" class=\"data row17 col0\" >one</td>\n",
       "      <td id=\"T_ea647_row17_col1\" class=\"data row17 col1\" >502</td>\n",
       "    </tr>\n",
       "    <tr>\n",
       "      <th id=\"T_ea647_level0_row18\" class=\"row_heading level0 row18\" >19</th>\n",
       "      <td id=\"T_ea647_row18_col0\" class=\"data row18 col0\" >I'm</td>\n",
       "      <td id=\"T_ea647_row18_col1\" class=\"data row18 col1\" >502</td>\n",
       "    </tr>\n",
       "  </tbody>\n",
       "</table>\n"
      ],
      "text/plain": [
       "<pandas.io.formats.style.Styler at 0x11c909afc70>"
      ]
     },
     "execution_count": 10,
     "metadata": {},
     "output_type": "execute_result"
    }
   ],
   "source": [
    "top = Counter([item for sublist in train_df['temp_list'] for item in sublist])\n",
    "temp = pd.DataFrame(top.most_common(20))\n",
    "temp = temp.iloc[1:,:]\n",
    "temp.columns = ['Common_words','count']\n",
    "temp.style.background_gradient(cmap='Purples')"
   ]
  },
  {
   "cell_type": "code",
   "execution_count": 11,
   "metadata": {},
   "outputs": [
    {
     "data": {
      "text/html": [
       "<style type=\"text/css\">\n",
       "#T_28cca_row0_col1 {\n",
       "  background-color: #00441b;\n",
       "  color: #f1f1f1;\n",
       "}\n",
       "#T_28cca_row1_col1 {\n",
       "  background-color: #c0e6b9;\n",
       "  color: #000000;\n",
       "}\n",
       "#T_28cca_row2_col1 {\n",
       "  background-color: #c8e9c1;\n",
       "  color: #000000;\n",
       "}\n",
       "#T_28cca_row3_col1 {\n",
       "  background-color: #def2d9;\n",
       "  color: #000000;\n",
       "}\n",
       "#T_28cca_row4_col1 {\n",
       "  background-color: #e6f5e1;\n",
       "  color: #000000;\n",
       "}\n",
       "#T_28cca_row5_col1 {\n",
       "  background-color: #e9f7e5;\n",
       "  color: #000000;\n",
       "}\n",
       "#T_28cca_row6_col1 {\n",
       "  background-color: #eaf7e6;\n",
       "  color: #000000;\n",
       "}\n",
       "#T_28cca_row7_col1 {\n",
       "  background-color: #ecf8e8;\n",
       "  color: #000000;\n",
       "}\n",
       "#T_28cca_row8_col1 {\n",
       "  background-color: #eff9ec;\n",
       "  color: #000000;\n",
       "}\n",
       "#T_28cca_row9_col1, #T_28cca_row10_col1 {\n",
       "  background-color: #f1faee;\n",
       "  color: #000000;\n",
       "}\n",
       "#T_28cca_row11_col1 {\n",
       "  background-color: #f2faf0;\n",
       "  color: #000000;\n",
       "}\n",
       "#T_28cca_row12_col1 {\n",
       "  background-color: #f3faf0;\n",
       "  color: #000000;\n",
       "}\n",
       "#T_28cca_row13_col1, #T_28cca_row14_col1 {\n",
       "  background-color: #f5fbf2;\n",
       "  color: #000000;\n",
       "}\n",
       "#T_28cca_row15_col1 {\n",
       "  background-color: #f5fbf3;\n",
       "  color: #000000;\n",
       "}\n",
       "#T_28cca_row16_col1, #T_28cca_row17_col1, #T_28cca_row18_col1 {\n",
       "  background-color: #f6fcf4;\n",
       "  color: #000000;\n",
       "}\n",
       "#T_28cca_row19_col1 {\n",
       "  background-color: #f7fcf5;\n",
       "  color: #000000;\n",
       "}\n",
       "</style>\n",
       "<table id=\"T_28cca\">\n",
       "  <thead>\n",
       "    <tr>\n",
       "      <th class=\"blank level0\" >&nbsp;</th>\n",
       "      <th id=\"T_28cca_level0_col0\" class=\"col_heading level0 col0\" >Common_words</th>\n",
       "      <th id=\"T_28cca_level0_col1\" class=\"col_heading level0 col1\" >count</th>\n",
       "    </tr>\n",
       "  </thead>\n",
       "  <tbody>\n",
       "    <tr>\n",
       "      <th id=\"T_28cca_level0_row0\" class=\"row_heading level0 row0\" >0</th>\n",
       "      <td id=\"T_28cca_row0_col0\" class=\"data row0 col0\" >I</td>\n",
       "      <td id=\"T_28cca_row0_col1\" class=\"data row0 col1\" >1875</td>\n",
       "    </tr>\n",
       "    <tr>\n",
       "      <th id=\"T_28cca_level0_row1\" class=\"row_heading level0 row1\" >1</th>\n",
       "      <td id=\"T_28cca_row1_col0\" class=\"data row1 col0\" >tomorrow</td>\n",
       "      <td id=\"T_28cca_row1_col1\" class=\"data row1 col1\" >695</td>\n",
       "    </tr>\n",
       "    <tr>\n",
       "      <th id=\"T_28cca_level0_row2\" class=\"row_heading level0 row2\" >2</th>\n",
       "      <td id=\"T_28cca_row2_col0\" class=\"data row2 col0\" >may</td>\n",
       "      <td id=\"T_28cca_row2_col1\" class=\"data row2 col1\" >653</td>\n",
       "    </tr>\n",
       "    <tr>\n",
       "      <th id=\"T_28cca_level0_row3\" class=\"row_heading level0 row3\" >3</th>\n",
       "      <td id=\"T_28cca_row3_col0\" class=\"data row3 col0\" >see</td>\n",
       "      <td id=\"T_28cca_row3_col1\" class=\"data row3 col1\" >499</td>\n",
       "    </tr>\n",
       "    <tr>\n",
       "      <th id=\"T_28cca_level0_row4\" class=\"row_heading level0 row4\" >4</th>\n",
       "      <td id=\"T_28cca_row4_col0\" class=\"data row4 col0\" >going</td>\n",
       "      <td id=\"T_28cca_row4_col1\" class=\"data row4 col1\" >440</td>\n",
       "    </tr>\n",
       "    <tr>\n",
       "      <th id=\"T_28cca_level0_row5\" class=\"row_heading level0 row5\" >5</th>\n",
       "      <td id=\"T_28cca_row5_col0\" class=\"data row5 col0\" >-</td>\n",
       "      <td id=\"T_28cca_row5_col1\" class=\"data row5 col1\" >410</td>\n",
       "    </tr>\n",
       "    <tr>\n",
       "      <th id=\"T_28cca_level0_row6\" class=\"row_heading level0 row6\" >6</th>\n",
       "      <td id=\"T_28cca_row6_col0\" class=\"data row6 col0\" >day</td>\n",
       "      <td id=\"T_28cca_row6_col1\" class=\"data row6 col1\" >396</td>\n",
       "    </tr>\n",
       "    <tr>\n",
       "      <th id=\"T_28cca_level0_row7\" class=\"row_heading level0 row7\" >7</th>\n",
       "      <td id=\"T_28cca_row7_col0\" class=\"data row7 col0\" >The</td>\n",
       "      <td id=\"T_28cca_row7_col1\" class=\"data row7 col1\" >369</td>\n",
       "    </tr>\n",
       "    <tr>\n",
       "      <th id=\"T_28cca_level0_row8\" class=\"row_heading level0 row8\" >8</th>\n",
       "      <td id=\"T_28cca_row8_col0\" class=\"data row8 col0\" >1st</td>\n",
       "      <td id=\"T_28cca_row8_col1\" class=\"data row8 col1\" >337</td>\n",
       "    </tr>\n",
       "    <tr>\n",
       "      <th id=\"T_28cca_level0_row9\" class=\"row_heading level0 row9\" >9</th>\n",
       "      <td id=\"T_28cca_row9_col0\" class=\"data row9 col0\" >like</td>\n",
       "      <td id=\"T_28cca_row9_col1\" class=\"data row9 col1\" >322</td>\n",
       "    </tr>\n",
       "    <tr>\n",
       "      <th id=\"T_28cca_level0_row10\" class=\"row_heading level0 row10\" >10</th>\n",
       "      <td id=\"T_28cca_row10_col0\" class=\"data row10 col0\" >night</td>\n",
       "      <td id=\"T_28cca_row10_col1\" class=\"data row10 col1\" >315</td>\n",
       "    </tr>\n",
       "    <tr>\n",
       "      <th id=\"T_28cca_level0_row11\" class=\"row_heading level0 row11\" >11</th>\n",
       "      <td id=\"T_28cca_row11_col0\" class=\"data row11 col0\" >get</td>\n",
       "      <td id=\"T_28cca_row11_col1\" class=\"data row11 col1\" >301</td>\n",
       "    </tr>\n",
       "    <tr>\n",
       "      <th id=\"T_28cca_level0_row12\" class=\"row_heading level0 row12\" >12</th>\n",
       "      <td id=\"T_28cca_row12_col0\" class=\"data row12 col0\" >:)</td>\n",
       "      <td id=\"T_28cca_row12_col1\" class=\"data row12 col1\" >295</td>\n",
       "    </tr>\n",
       "    <tr>\n",
       "      <th id=\"T_28cca_level0_row13\" class=\"row_heading level0 row13\" >13</th>\n",
       "      <td id=\"T_28cca_row13_col0\" class=\"data row13 col0\" >I'm</td>\n",
       "      <td id=\"T_28cca_row13_col1\" class=\"data row13 col1\" >277</td>\n",
       "    </tr>\n",
       "    <tr>\n",
       "      <th id=\"T_28cca_level0_row14\" class=\"row_heading level0 row14\" >14</th>\n",
       "      <td id=\"T_28cca_row14_col0\" class=\"data row14 col0\" >time</td>\n",
       "      <td id=\"T_28cca_row14_col1\" class=\"data row14 col1\" >273</td>\n",
       "    </tr>\n",
       "    <tr>\n",
       "      <th id=\"T_28cca_level0_row15\" class=\"row_heading level0 row15\" >15</th>\n",
       "      <td id=\"T_28cca_row15_col0\" class=\"data row15 col0\" >good</td>\n",
       "      <td id=\"T_28cca_row15_col1\" class=\"data row15 col1\" >268</td>\n",
       "    </tr>\n",
       "    <tr>\n",
       "      <th id=\"T_28cca_level0_row16\" class=\"row_heading level0 row16\" >16</th>\n",
       "      <td id=\"T_28cca_row16_col0\" class=\"data row16 col0\" >go</td>\n",
       "      <td id=\"T_28cca_row16_col1\" class=\"data row16 col1\" >264</td>\n",
       "    </tr>\n",
       "    <tr>\n",
       "      <th id=\"T_28cca_level0_row17\" class=\"row_heading level0 row17\" >17</th>\n",
       "      <td id=\"T_28cca_row17_col0\" class=\"data row17 col0\" >&</td>\n",
       "      <td id=\"T_28cca_row17_col1\" class=\"data row17 col1\" >260</td>\n",
       "    </tr>\n",
       "    <tr>\n",
       "      <th id=\"T_28cca_level0_row18\" class=\"row_heading level0 row18\" >18</th>\n",
       "      <td id=\"T_28cca_row18_col0\" class=\"data row18 col0\" >love</td>\n",
       "      <td id=\"T_28cca_row18_col1\" class=\"data row18 col1\" >254</td>\n",
       "    </tr>\n",
       "    <tr>\n",
       "      <th id=\"T_28cca_level0_row19\" class=\"row_heading level0 row19\" >19</th>\n",
       "      <td id=\"T_28cca_row19_col0\" class=\"data row19 col0\" >2nd</td>\n",
       "      <td id=\"T_28cca_row19_col1\" class=\"data row19 col1\" >246</td>\n",
       "    </tr>\n",
       "  </tbody>\n",
       "</table>\n"
      ],
      "text/plain": [
       "<pandas.io.formats.style.Styler at 0x11c90e859f0>"
      ]
     },
     "execution_count": 11,
     "metadata": {},
     "output_type": "execute_result"
    }
   ],
   "source": [
    "#MosT common positive words\n",
    "Positive_sent = train_df[train_df['sentiment']=='positive']\n",
    "\n",
    "top = Counter([item for sublist in Positive_sent['temp_list'] for item in sublist])\n",
    "temp_positive = pd.DataFrame(top.most_common(20))\n",
    "temp_positive.columns = ['Common_words','count']\n",
    "temp_positive.style.background_gradient(cmap='Greens')"
   ]
  },
  {
   "cell_type": "markdown",
   "metadata": {},
   "source": [
    "# **Dev set - Processing**"
   ]
  },
  {
   "cell_type": "code",
   "execution_count": 13,
   "metadata": {},
   "outputs": [
    {
     "name": "stdout",
     "output_type": "stream",
     "text": [
      "Size of dev dataset : (3620, 3)\n"
     ]
    },
    {
     "data": {
      "text/html": [
       "<div>\n",
       "<style scoped>\n",
       "    .dataframe tbody tr th:only-of-type {\n",
       "        vertical-align: middle;\n",
       "    }\n",
       "\n",
       "    .dataframe tbody tr th {\n",
       "        vertical-align: top;\n",
       "    }\n",
       "\n",
       "    .dataframe thead th {\n",
       "        text-align: right;\n",
       "    }\n",
       "</style>\n",
       "<table border=\"1\" class=\"dataframe\">\n",
       "  <thead>\n",
       "    <tr style=\"text-align: right;\">\n",
       "      <th></th>\n",
       "      <th>id</th>\n",
       "      <th>sentiment</th>\n",
       "      <th>tweet</th>\n",
       "    </tr>\n",
       "  </thead>\n",
       "  <tbody>\n",
       "    <tr>\n",
       "      <th>0</th>\n",
       "      <td>260097528899452929</td>\n",
       "      <td>neutral</td>\n",
       "      <td>Won the match #getin . Plus\\u002c tomorrow is ...</td>\n",
       "    </tr>\n",
       "    <tr>\n",
       "      <th>1</th>\n",
       "      <td>263791921753882624</td>\n",
       "      <td>neutral</td>\n",
       "      <td>Some areas of New England could see the first ...</td>\n",
       "    </tr>\n",
       "    <tr>\n",
       "      <th>2</th>\n",
       "      <td>264194578381410304</td>\n",
       "      <td>negative</td>\n",
       "      <td>@francesco_con40 2nd worst QB. DEFINITELY Tony...</td>\n",
       "    </tr>\n",
       "    <tr>\n",
       "      <th>3</th>\n",
       "      <td>264041328420204544</td>\n",
       "      <td>neutral</td>\n",
       "      <td>#Thailand Washington - US President Barack Oba...</td>\n",
       "    </tr>\n",
       "    <tr>\n",
       "      <th>4</th>\n",
       "      <td>263816256640126976</td>\n",
       "      <td>neutral</td>\n",
       "      <td>Did y\\u2019all hear what Tony Romo dressed up ...</td>\n",
       "    </tr>\n",
       "  </tbody>\n",
       "</table>\n",
       "</div>"
      ],
      "text/plain": [
       "                   id sentiment  \\\n",
       "0  260097528899452929   neutral   \n",
       "1  263791921753882624   neutral   \n",
       "2  264194578381410304  negative   \n",
       "3  264041328420204544   neutral   \n",
       "4  263816256640126976   neutral   \n",
       "\n",
       "                                               tweet  \n",
       "0  Won the match #getin . Plus\\u002c tomorrow is ...  \n",
       "1  Some areas of New England could see the first ...  \n",
       "2  @francesco_con40 2nd worst QB. DEFINITELY Tony...  \n",
       "3  #Thailand Washington - US President Barack Oba...  \n",
       "4  Did y\\u2019all hear what Tony Romo dressed up ...  "
      ]
     },
     "execution_count": 13,
     "metadata": {},
     "output_type": "execute_result"
    }
   ],
   "source": [
    "dev_path = glob.glob('./data/downloaded/*dev-A.tsv')\n",
    "dev_df = pd.concat(map(f, dev_path))\n",
    "dev_df = dev_df.rename(columns={0:'id', 1:'sentiment', 2:'tweet'})\n",
    "dev_df.sentiment = dev_df.sentiment.str.strip()\n",
    "print(f'Size of dev dataset : {dev_df.shape}')\n",
    "dev_df.head()"
   ]
  },
  {
   "cell_type": "code",
   "execution_count": 14,
   "metadata": {},
   "outputs": [],
   "source": [
    "# dev_df['sentiment'].replace('positive', 1,inplace=True)\n",
    "# dev_df['sentiment'].replace('negative', -1,inplace=True)\n",
    "# dev_df['sentiment'].replace('neutral', 0,inplace=True)\n",
    "# dev_df.head()"
   ]
  },
  {
   "cell_type": "code",
   "execution_count": 14,
   "metadata": {},
   "outputs": [
    {
     "name": "stdout",
     "output_type": "stream",
     "text": [
      " No. of duplicate values in dev dataset : 4\n"
     ]
    }
   ],
   "source": [
    "print(f' No. of duplicate values in dev dataset : {dev_df.duplicated().sum()}')"
   ]
  },
  {
   "cell_type": "code",
   "execution_count": 15,
   "metadata": {},
   "outputs": [
    {
     "data": {
      "text/html": [
       "<style type=\"text/css\">\n",
       "#T_7f5cd_row0_col1 {\n",
       "  background-color: #7f2704;\n",
       "  color: #f1f1f1;\n",
       "}\n",
       "#T_7f5cd_row1_col1 {\n",
       "  background-color: #a03403;\n",
       "  color: #f1f1f1;\n",
       "}\n",
       "#T_7f5cd_row2_col1 {\n",
       "  background-color: #fff5eb;\n",
       "  color: #000000;\n",
       "}\n",
       "</style>\n",
       "<table id=\"T_7f5cd\">\n",
       "  <thead>\n",
       "    <tr>\n",
       "      <th class=\"blank level0\" >&nbsp;</th>\n",
       "      <th id=\"T_7f5cd_level0_col0\" class=\"col_heading level0 col0\" >sentiment</th>\n",
       "      <th id=\"T_7f5cd_level0_col1\" class=\"col_heading level0 col1\" >tweet</th>\n",
       "    </tr>\n",
       "  </thead>\n",
       "  <tbody>\n",
       "    <tr>\n",
       "      <th id=\"T_7f5cd_level0_row0\" class=\"row_heading level0 row0\" >1</th>\n",
       "      <td id=\"T_7f5cd_row0_col0\" class=\"data row0 col0\" >neutral</td>\n",
       "      <td id=\"T_7f5cd_row0_col1\" class=\"data row0 col1\" >1485</td>\n",
       "    </tr>\n",
       "    <tr>\n",
       "      <th id=\"T_7f5cd_level0_row1\" class=\"row_heading level0 row1\" >2</th>\n",
       "      <td id=\"T_7f5cd_row1_col0\" class=\"data row1 col0\" >positive</td>\n",
       "      <td id=\"T_7f5cd_row1_col1\" class=\"data row1 col1\" >1404</td>\n",
       "    </tr>\n",
       "    <tr>\n",
       "      <th id=\"T_7f5cd_level0_row2\" class=\"row_heading level0 row2\" >0</th>\n",
       "      <td id=\"T_7f5cd_row2_col0\" class=\"data row2 col0\" >negative</td>\n",
       "      <td id=\"T_7f5cd_row2_col1\" class=\"data row2 col1\" >731</td>\n",
       "    </tr>\n",
       "  </tbody>\n",
       "</table>\n"
      ],
      "text/plain": [
       "<pandas.io.formats.style.Styler at 0x11c954ef190>"
      ]
     },
     "execution_count": 15,
     "metadata": {},
     "output_type": "execute_result"
    }
   ],
   "source": [
    "dev_sentiment_cnt = dev_df.groupby('sentiment').count()['tweet'].reset_index().sort_values(by='tweet',ascending=False)\n",
    "dev_sentiment_cnt.style.background_gradient(cmap='Oranges')"
   ]
  },
  {
   "cell_type": "markdown",
   "metadata": {},
   "source": [
    "# **Test set - Processing**"
   ]
  },
  {
   "cell_type": "code",
   "execution_count": 16,
   "metadata": {},
   "outputs": [
    {
     "name": "stdout",
     "output_type": "stream",
     "text": [
      "Size of test dataset : (30422, 3)\n"
     ]
    },
    {
     "data": {
      "text/html": [
       "<div>\n",
       "<style scoped>\n",
       "    .dataframe tbody tr th:only-of-type {\n",
       "        vertical-align: middle;\n",
       "    }\n",
       "\n",
       "    .dataframe tbody tr th {\n",
       "        vertical-align: top;\n",
       "    }\n",
       "\n",
       "    .dataframe thead th {\n",
       "        text-align: right;\n",
       "    }\n",
       "</style>\n",
       "<table border=\"1\" class=\"dataframe\">\n",
       "  <thead>\n",
       "    <tr style=\"text-align: right;\">\n",
       "      <th></th>\n",
       "      <th>id</th>\n",
       "      <th>sentiment</th>\n",
       "      <th>tweet</th>\n",
       "    </tr>\n",
       "  </thead>\n",
       "  <tbody>\n",
       "    <tr>\n",
       "      <th>0</th>\n",
       "      <td>264238274963451904</td>\n",
       "      <td>positive</td>\n",
       "      <td>@jjuueellzz down in the Atlantic city, ventnor...</td>\n",
       "    </tr>\n",
       "    <tr>\n",
       "      <th>1</th>\n",
       "      <td>218775148495515649</td>\n",
       "      <td>positive</td>\n",
       "      <td>Musical awareness: Great Big Beautiful Tomorro...</td>\n",
       "    </tr>\n",
       "    <tr>\n",
       "      <th>2</th>\n",
       "      <td>258965201766998017</td>\n",
       "      <td>neutral</td>\n",
       "      <td>On Radio786 100.4fm 7:10 Fri Oct 19 Labour ana...</td>\n",
       "    </tr>\n",
       "    <tr>\n",
       "      <th>3</th>\n",
       "      <td>262926411352903682</td>\n",
       "      <td>negative</td>\n",
       "      <td>Kapan sih lo ngebuktiin,jan ngomong doang Susa...</td>\n",
       "    </tr>\n",
       "    <tr>\n",
       "      <th>4</th>\n",
       "      <td>171874368908050432</td>\n",
       "      <td>neutral</td>\n",
       "      <td>Excuse the connectivity of this live stream, f...</td>\n",
       "    </tr>\n",
       "  </tbody>\n",
       "</table>\n",
       "</div>"
      ],
      "text/plain": [
       "                   id sentiment  \\\n",
       "0  264238274963451904  positive   \n",
       "1  218775148495515649  positive   \n",
       "2  258965201766998017   neutral   \n",
       "3  262926411352903682  negative   \n",
       "4  171874368908050432   neutral   \n",
       "\n",
       "                                               tweet  \n",
       "0  @jjuueellzz down in the Atlantic city, ventnor...  \n",
       "1  Musical awareness: Great Big Beautiful Tomorro...  \n",
       "2  On Radio786 100.4fm 7:10 Fri Oct 19 Labour ana...  \n",
       "3  Kapan sih lo ngebuktiin,jan ngomong doang Susa...  \n",
       "4  Excuse the connectivity of this live stream, f...  "
      ]
     },
     "execution_count": 16,
     "metadata": {},
     "output_type": "execute_result"
    }
   ],
   "source": [
    "test_path = glob.glob('./data/downloaded/*test-A.tsv')\n",
    "test_df = pd.concat(map(f, test_path))\n",
    "test_df = test_df.drop(columns=[3], axis=1) # because of timestamp at the end of twitter-2016test-A.tsv file, it show 4th column that is not need for our analysis\n",
    "test_df = test_df.rename(columns={0:'id', 1:'sentiment', 2:'tweet'})\n",
    "test_df.sentiment = test_df.sentiment.str.strip()\n",
    "print(f'Size of test dataset : {test_df.shape}')\n",
    "test_df.head()"
   ]
  },
  {
   "cell_type": "code",
   "execution_count": 18,
   "metadata": {},
   "outputs": [],
   "source": [
    "# test_df['sentiment'].replace('positive', 1,inplace=True)\n",
    "# test_df['sentiment'].replace('negative', -1,inplace=True)\n",
    "# test_df['sentiment'].replace('neutral', 0,inplace=True)\n",
    "# test_df.head()"
   ]
  },
  {
   "cell_type": "code",
   "execution_count": 17,
   "metadata": {},
   "outputs": [
    {
     "name": "stdout",
     "output_type": "stream",
     "text": [
      " No. of duplicate values in test dataset : 66\n"
     ]
    }
   ],
   "source": [
    "print(f' No. of duplicate values in test dataset : {test_df.duplicated().sum()}')"
   ]
  },
  {
   "cell_type": "code",
   "execution_count": 18,
   "metadata": {},
   "outputs": [
    {
     "data": {
      "text/html": [
       "<style type=\"text/css\">\n",
       "#T_f1e9f_row0_col1 {\n",
       "  background-color: #7f2704;\n",
       "  color: #f1f1f1;\n",
       "}\n",
       "#T_f1e9f_row1_col1 {\n",
       "  background-color: #de5005;\n",
       "  color: #f1f1f1;\n",
       "}\n",
       "#T_f1e9f_row2_col1 {\n",
       "  background-color: #fff5eb;\n",
       "  color: #000000;\n",
       "}\n",
       "</style>\n",
       "<table id=\"T_f1e9f\">\n",
       "  <thead>\n",
       "    <tr>\n",
       "      <th class=\"blank level0\" >&nbsp;</th>\n",
       "      <th id=\"T_f1e9f_level0_col0\" class=\"col_heading level0 col0\" >sentiment</th>\n",
       "      <th id=\"T_f1e9f_level0_col1\" class=\"col_heading level0 col1\" >tweet</th>\n",
       "    </tr>\n",
       "  </thead>\n",
       "  <tbody>\n",
       "    <tr>\n",
       "      <th id=\"T_f1e9f_level0_row0\" class=\"row_heading level0 row0\" >1</th>\n",
       "      <td id=\"T_f1e9f_row0_col0\" class=\"data row0 col0\" >neutral</td>\n",
       "      <td id=\"T_f1e9f_row0_col1\" class=\"data row0 col1\" >14192</td>\n",
       "    </tr>\n",
       "    <tr>\n",
       "      <th id=\"T_f1e9f_level0_row1\" class=\"row_heading level0 row1\" >2</th>\n",
       "      <td id=\"T_f1e9f_row1_col0\" class=\"data row1 col0\" >positive</td>\n",
       "      <td id=\"T_f1e9f_row1_col1\" class=\"data row1 col1\" >11548</td>\n",
       "    </tr>\n",
       "    <tr>\n",
       "      <th id=\"T_f1e9f_level0_row2\" class=\"row_heading level0 row2\" >0</th>\n",
       "      <td id=\"T_f1e9f_row2_col0\" class=\"data row2 col0\" >negative</td>\n",
       "      <td id=\"T_f1e9f_row2_col1\" class=\"data row2 col1\" >4682</td>\n",
       "    </tr>\n",
       "  </tbody>\n",
       "</table>\n"
      ],
      "text/plain": [
       "<pandas.io.formats.style.Styler at 0x11c954ef0d0>"
      ]
     },
     "execution_count": 18,
     "metadata": {},
     "output_type": "execute_result"
    }
   ],
   "source": [
    "test_sentiment_cnt = test_df.groupby('sentiment').count()['tweet'].reset_index().sort_values(by='tweet',ascending=False)\n",
    "test_sentiment_cnt.style.background_gradient(cmap='Oranges')"
   ]
  },
  {
   "cell_type": "code",
   "execution_count": 19,
   "metadata": {},
   "outputs": [
    {
     "data": {
      "image/png": "[encoded data removed]",
      "text/plain": [
       "<Figure size 300x300 with 1 Axes>"
      ]
     },
     "metadata": {},
     "output_type": "display_data"
    }
   ],
   "source": [
    "plt.figure(figsize=(3,3))\n",
    "sns.countplot(x='sentiment',data=test_df).set_title('Sentiment Distribution of Test set')\n",
    "plt.show()"
   ]
  },
  {
   "cell_type": "code",
   "execution_count": 53,
   "metadata": {},
   "outputs": [
    {
     "data": {
      "image/png": "[encoded data removed]",
      "text/plain": [
       "<Figure size 1000x500 with 3 Axes>"
      ]
     },
     "metadata": {},
     "output_type": "display_data"
    }
   ],
   "source": [
    "fig, ax = plt.subplots(1, 3, sharex='all', figsize=(10,5))\n",
    "fig.suptitle('Sentiment Distribution In Tweets', fontsize=20)\n",
    "sns.countplot(ax = ax[0], x='sentiment',data=dev_df)\n",
    "ax[0].set(xlabel=None) \n",
    "ax[0].set_title('Dev Set')\n",
    "sns.countplot(ax = ax[1], x='sentiment',data=train_df)\n",
    "ax[1].set_title('Train Set')\n",
    "ax[1].set(xlabel=None, ylabel=None) \n",
    "sns.countplot(ax = ax[2], x='sentiment',data=test_df)\n",
    "ax[2].set_title('Test Set')\n",
    "ax[2].set(xlabel=None, ylabel=None) \n",
    "plt.tight_layout()\n",
    "plt.show()"
   ]
  },
  {
   "cell_type": "markdown",
   "metadata": {},
   "source": [
    "# **Individual datasets**"
   ]
  },
  {
   "cell_type": "code",
   "execution_count": 23,
   "metadata": {},
   "outputs": [],
   "source": [
    "train_13 = pd.read_csv('./data/downloaded/twitter-2013train-A.tsv', sep='\\t', header=None)\n",
    "train_14sarcasm = pd.read_csv('./data/downloaded/twitter-2014sarcasm-A.tsv', sep='\\t', header=None)\n",
    "train_15 = pd.read_csv('./data/downloaded/twitter-2015train-A.tsv', sep='\\t', header=None)\n",
    "train_16 = pd.read_csv('./data/downloaded/twitter-2016train-A.tsv', sep='\\t', header=None)\n"
   ]
  },
  {
   "cell_type": "code",
   "execution_count": 24,
   "metadata": {},
   "outputs": [],
   "source": [
    "def prop(df, dataset_name):\n",
    "    print(f'Size of {dataset_name} dataset : {df.shape}')\n",
    "    df = df.rename(columns={0:'id', 1:'sentiment', 2:'tweet'})\n",
    "    df.sentiment = df.sentiment.str.strip()\n",
    "    sentiment_cnt = df.groupby('sentiment').count()['tweet'].reset_index().sort_values(by='tweet',ascending=False)\n",
    "    display(sentiment_cnt.style.background_gradient(cmap='Oranges'))\n",
    "    return df    "
   ]
  },
  {
   "cell_type": "code",
   "execution_count": 25,
   "metadata": {},
   "outputs": [
    {
     "name": "stdout",
     "output_type": "stream",
     "text": [
      "Size of train_13 dataset : (9684, 3)\n"
     ]
    },
    {
     "data": {
      "text/html": [
       "<style type=\"text/css\">\n",
       "#T_118b8_row0_col1 {\n",
       "  background-color: #7f2704;\n",
       "  color: #f1f1f1;\n",
       "}\n",
       "#T_118b8_row1_col1 {\n",
       "  background-color: #e35608;\n",
       "  color: #f1f1f1;\n",
       "}\n",
       "#T_118b8_row2_col1 {\n",
       "  background-color: #fff5eb;\n",
       "  color: #000000;\n",
       "}\n",
       "</style>\n",
       "<table id=\"T_118b8\">\n",
       "  <thead>\n",
       "    <tr>\n",
       "      <th class=\"blank level0\" >&nbsp;</th>\n",
       "      <th id=\"T_118b8_level0_col0\" class=\"col_heading level0 col0\" >sentiment</th>\n",
       "      <th id=\"T_118b8_level0_col1\" class=\"col_heading level0 col1\" >tweet</th>\n",
       "    </tr>\n",
       "  </thead>\n",
       "  <tbody>\n",
       "    <tr>\n",
       "      <th id=\"T_118b8_level0_row0\" class=\"row_heading level0 row0\" >1</th>\n",
       "      <td id=\"T_118b8_row0_col0\" class=\"data row0 col0\" >neutral</td>\n",
       "      <td id=\"T_118b8_row0_col1\" class=\"data row0 col1\" >4586</td>\n",
       "    </tr>\n",
       "    <tr>\n",
       "      <th id=\"T_118b8_level0_row1\" class=\"row_heading level0 row1\" >2</th>\n",
       "      <td id=\"T_118b8_row1_col0\" class=\"data row1 col0\" >positive</td>\n",
       "      <td id=\"T_118b8_row1_col1\" class=\"data row1 col1\" >3640</td>\n",
       "    </tr>\n",
       "    <tr>\n",
       "      <th id=\"T_118b8_level0_row2\" class=\"row_heading level0 row2\" >0</th>\n",
       "      <td id=\"T_118b8_row2_col0\" class=\"data row2 col0\" >negative</td>\n",
       "      <td id=\"T_118b8_row2_col1\" class=\"data row2 col1\" >1458</td>\n",
       "    </tr>\n",
       "  </tbody>\n",
       "</table>\n"
      ],
      "text/plain": [
       "<pandas.io.formats.style.Styler at 0x260f9d979a0>"
      ]
     },
     "metadata": {},
     "output_type": "display_data"
    },
    {
     "name": "stdout",
     "output_type": "stream",
     "text": [
      "Size of train_14sarcasm dataset : (49, 3)\n"
     ]
    },
    {
     "data": {
      "text/html": [
       "<style type=\"text/css\">\n",
       "#T_86510_row0_col1 {\n",
       "  background-color: #7f2704;\n",
       "  color: #f1f1f1;\n",
       "}\n",
       "#T_86510_row1_col1 {\n",
       "  background-color: #a93703;\n",
       "  color: #f1f1f1;\n",
       "}\n",
       "#T_86510_row2_col1 {\n",
       "  background-color: #fff5eb;\n",
       "  color: #000000;\n",
       "}\n",
       "</style>\n",
       "<table id=\"T_86510\">\n",
       "  <thead>\n",
       "    <tr>\n",
       "      <th class=\"blank level0\" >&nbsp;</th>\n",
       "      <th id=\"T_86510_level0_col0\" class=\"col_heading level0 col0\" >sentiment</th>\n",
       "      <th id=\"T_86510_level0_col1\" class=\"col_heading level0 col1\" >tweet</th>\n",
       "    </tr>\n",
       "  </thead>\n",
       "  <tbody>\n",
       "    <tr>\n",
       "      <th id=\"T_86510_level0_row0\" class=\"row_heading level0 row0\" >0</th>\n",
       "      <td id=\"T_86510_row0_col0\" class=\"data row0 col0\" >negative</td>\n",
       "      <td id=\"T_86510_row0_col1\" class=\"data row0 col1\" >22</td>\n",
       "    </tr>\n",
       "    <tr>\n",
       "      <th id=\"T_86510_level0_row1\" class=\"row_heading level0 row1\" >2</th>\n",
       "      <td id=\"T_86510_row1_col0\" class=\"data row1 col0\" >positive</td>\n",
       "      <td id=\"T_86510_row1_col1\" class=\"data row1 col1\" >20</td>\n",
       "    </tr>\n",
       "    <tr>\n",
       "      <th id=\"T_86510_level0_row2\" class=\"row_heading level0 row2\" >1</th>\n",
       "      <td id=\"T_86510_row2_col0\" class=\"data row2 col0\" >neutral</td>\n",
       "      <td id=\"T_86510_row2_col1\" class=\"data row2 col1\" >7</td>\n",
       "    </tr>\n",
       "  </tbody>\n",
       "</table>\n"
      ],
      "text/plain": [
       "<pandas.io.formats.style.Styler at 0x260f792b190>"
      ]
     },
     "metadata": {},
     "output_type": "display_data"
    },
    {
     "name": "stdout",
     "output_type": "stream",
     "text": [
      "Size of train_15 dataset : (489, 3)\n"
     ]
    },
    {
     "data": {
      "text/html": [
       "<style type=\"text/css\">\n",
       "#T_40cef_row0_col1 {\n",
       "  background-color: #7f2704;\n",
       "  color: #f1f1f1;\n",
       "}\n",
       "#T_40cef_row1_col1 {\n",
       "  background-color: #f87d29;\n",
       "  color: #f1f1f1;\n",
       "}\n",
       "#T_40cef_row2_col1 {\n",
       "  background-color: #fff5eb;\n",
       "  color: #000000;\n",
       "}\n",
       "</style>\n",
       "<table id=\"T_40cef\">\n",
       "  <thead>\n",
       "    <tr>\n",
       "      <th class=\"blank level0\" >&nbsp;</th>\n",
       "      <th id=\"T_40cef_level0_col0\" class=\"col_heading level0 col0\" >sentiment</th>\n",
       "      <th id=\"T_40cef_level0_col1\" class=\"col_heading level0 col1\" >tweet</th>\n",
       "    </tr>\n",
       "  </thead>\n",
       "  <tbody>\n",
       "    <tr>\n",
       "      <th id=\"T_40cef_level0_row0\" class=\"row_heading level0 row0\" >1</th>\n",
       "      <td id=\"T_40cef_row0_col0\" class=\"data row0 col0\" >neutral</td>\n",
       "      <td id=\"T_40cef_row0_col1\" class=\"data row0 col1\" >253</td>\n",
       "    </tr>\n",
       "    <tr>\n",
       "      <th id=\"T_40cef_level0_row1\" class=\"row_heading level0 row1\" >2</th>\n",
       "      <td id=\"T_40cef_row1_col0\" class=\"data row1 col0\" >positive</td>\n",
       "      <td id=\"T_40cef_row1_col1\" class=\"data row1 col1\" >170</td>\n",
       "    </tr>\n",
       "    <tr>\n",
       "      <th id=\"T_40cef_level0_row2\" class=\"row_heading level0 row2\" >0</th>\n",
       "      <td id=\"T_40cef_row2_col0\" class=\"data row2 col0\" >negative</td>\n",
       "      <td id=\"T_40cef_row2_col1\" class=\"data row2 col1\" >66</td>\n",
       "    </tr>\n",
       "  </tbody>\n",
       "</table>\n"
      ],
      "text/plain": [
       "<pandas.io.formats.style.Styler at 0x260f6c9c9d0>"
      ]
     },
     "metadata": {},
     "output_type": "display_data"
    },
    {
     "name": "stdout",
     "output_type": "stream",
     "text": [
      "Size of train_16 dataset : (5868, 3)\n"
     ]
    },
    {
     "data": {
      "text/html": [
       "<style type=\"text/css\">\n",
       "#T_eba85_row0_col1 {\n",
       "  background-color: #7f2704;\n",
       "  color: #f1f1f1;\n",
       "}\n",
       "#T_eba85_row1_col1 {\n",
       "  background-color: #fa8532;\n",
       "  color: #f1f1f1;\n",
       "}\n",
       "#T_eba85_row2_col1 {\n",
       "  background-color: #fff5eb;\n",
       "  color: #000000;\n",
       "}\n",
       "</style>\n",
       "<table id=\"T_eba85\">\n",
       "  <thead>\n",
       "    <tr>\n",
       "      <th class=\"blank level0\" >&nbsp;</th>\n",
       "      <th id=\"T_eba85_level0_col0\" class=\"col_heading level0 col0\" >sentiment</th>\n",
       "      <th id=\"T_eba85_level0_col1\" class=\"col_heading level0 col1\" >tweet</th>\n",
       "    </tr>\n",
       "  </thead>\n",
       "  <tbody>\n",
       "    <tr>\n",
       "      <th id=\"T_eba85_level0_row0\" class=\"row_heading level0 row0\" >2</th>\n",
       "      <td id=\"T_eba85_row0_col0\" class=\"data row0 col0\" >positive</td>\n",
       "      <td id=\"T_eba85_row0_col1\" class=\"data row0 col1\" >3017</td>\n",
       "    </tr>\n",
       "    <tr>\n",
       "      <th id=\"T_eba85_level0_row1\" class=\"row_heading level0 row1\" >1</th>\n",
       "      <td id=\"T_eba85_row1_col0\" class=\"data row1 col0\" >neutral</td>\n",
       "      <td id=\"T_eba85_row1_col1\" class=\"data row1 col1\" >2001</td>\n",
       "    </tr>\n",
       "    <tr>\n",
       "      <th id=\"T_eba85_level0_row2\" class=\"row_heading level0 row2\" >0</th>\n",
       "      <td id=\"T_eba85_row2_col0\" class=\"data row2 col0\" >negative</td>\n",
       "      <td id=\"T_eba85_row2_col1\" class=\"data row2 col1\" >850</td>\n",
       "    </tr>\n",
       "  </tbody>\n",
       "</table>\n"
      ],
      "text/plain": [
       "<pandas.io.formats.style.Styler at 0x260f9b51fc0>"
      ]
     },
     "metadata": {},
     "output_type": "display_data"
    }
   ],
   "source": [
    "train_13 = prop(train_13, 'train_13')\n",
    "train_14sarcasm = prop(train_14sarcasm, 'train_14sarcasm')\n",
    "train_15 = prop(train_15, 'train_15')\n",
    "train_16 = prop(train_16, 'train_16')"
   ]
  },
  {
   "cell_type": "code",
   "execution_count": 26,
   "metadata": {},
   "outputs": [],
   "source": [
    "test_13 = pd.read_csv('./data/downloaded/twitter-2013test-A.tsv', sep='\\t', header=None)\n",
    "test_14 = pd.read_csv('./data/downloaded/twitter-2014test-A.tsv', sep='\\t', header=None)\n",
    "test_15 = pd.read_csv('./data/downloaded/twitter-2015test-A.tsv', sep='\\t', header=None)\n",
    "test_16 = pd.read_csv('./data/downloaded/twitter-2016test-A.tsv', sep='\\t', header=None)"
   ]
  },
  {
   "cell_type": "code",
   "execution_count": 27,
   "metadata": {},
   "outputs": [
    {
     "name": "stdout",
     "output_type": "stream",
     "text": [
      "Size of test_13 dataset : (3547, 3)\n"
     ]
    },
    {
     "data": {
      "text/html": [
       "<style type=\"text/css\">\n",
       "#T_06fdb_row0_col1 {\n",
       "  background-color: #7f2704;\n",
       "  color: #f1f1f1;\n",
       "}\n",
       "#T_06fdb_row1_col1 {\n",
       "  background-color: #8b2c04;\n",
       "  color: #f1f1f1;\n",
       "}\n",
       "#T_06fdb_row2_col1 {\n",
       "  background-color: #fff5eb;\n",
       "  color: #000000;\n",
       "}\n",
       "</style>\n",
       "<table id=\"T_06fdb\">\n",
       "  <thead>\n",
       "    <tr>\n",
       "      <th class=\"blank level0\" >&nbsp;</th>\n",
       "      <th id=\"T_06fdb_level0_col0\" class=\"col_heading level0 col0\" >sentiment</th>\n",
       "      <th id=\"T_06fdb_level0_col1\" class=\"col_heading level0 col1\" >tweet</th>\n",
       "    </tr>\n",
       "  </thead>\n",
       "  <tbody>\n",
       "    <tr>\n",
       "      <th id=\"T_06fdb_level0_row0\" class=\"row_heading level0 row0\" >1</th>\n",
       "      <td id=\"T_06fdb_row0_col0\" class=\"data row0 col0\" >neutral</td>\n",
       "      <td id=\"T_06fdb_row0_col1\" class=\"data row0 col1\" >1513</td>\n",
       "    </tr>\n",
       "    <tr>\n",
       "      <th id=\"T_06fdb_level0_row1\" class=\"row_heading level0 row1\" >2</th>\n",
       "      <td id=\"T_06fdb_row1_col0\" class=\"data row1 col0\" >positive</td>\n",
       "      <td id=\"T_06fdb_row1_col1\" class=\"data row1 col1\" >1475</td>\n",
       "    </tr>\n",
       "    <tr>\n",
       "      <th id=\"T_06fdb_level0_row2\" class=\"row_heading level0 row2\" >0</th>\n",
       "      <td id=\"T_06fdb_row2_col0\" class=\"data row2 col0\" >negative</td>\n",
       "      <td id=\"T_06fdb_row2_col1\" class=\"data row2 col1\" >559</td>\n",
       "    </tr>\n",
       "  </tbody>\n",
       "</table>\n"
      ],
      "text/plain": [
       "<pandas.io.formats.style.Styler at 0x260f9b37070>"
      ]
     },
     "metadata": {},
     "output_type": "display_data"
    },
    {
     "name": "stdout",
     "output_type": "stream",
     "text": [
      "Size of test_14 dataset : (1853, 3)\n"
     ]
    },
    {
     "data": {
      "text/html": [
       "<style type=\"text/css\">\n",
       "#T_42720_row0_col1 {\n",
       "  background-color: #7f2704;\n",
       "  color: #f1f1f1;\n",
       "}\n",
       "#T_42720_row1_col1 {\n",
       "  background-color: #f3701b;\n",
       "  color: #f1f1f1;\n",
       "}\n",
       "#T_42720_row2_col1 {\n",
       "  background-color: #fff5eb;\n",
       "  color: #000000;\n",
       "}\n",
       "</style>\n",
       "<table id=\"T_42720\">\n",
       "  <thead>\n",
       "    <tr>\n",
       "      <th class=\"blank level0\" >&nbsp;</th>\n",
       "      <th id=\"T_42720_level0_col0\" class=\"col_heading level0 col0\" >sentiment</th>\n",
       "      <th id=\"T_42720_level0_col1\" class=\"col_heading level0 col1\" >tweet</th>\n",
       "    </tr>\n",
       "  </thead>\n",
       "  <tbody>\n",
       "    <tr>\n",
       "      <th id=\"T_42720_level0_row0\" class=\"row_heading level0 row0\" >2</th>\n",
       "      <td id=\"T_42720_row0_col0\" class=\"data row0 col0\" >positive</td>\n",
       "      <td id=\"T_42720_row0_col1\" class=\"data row0 col1\" >982</td>\n",
       "    </tr>\n",
       "    <tr>\n",
       "      <th id=\"T_42720_level0_row1\" class=\"row_heading level0 row1\" >1</th>\n",
       "      <td id=\"T_42720_row1_col0\" class=\"data row1 col0\" >neutral</td>\n",
       "      <td id=\"T_42720_row1_col1\" class=\"data row1 col1\" >669</td>\n",
       "    </tr>\n",
       "    <tr>\n",
       "      <th id=\"T_42720_level0_row2\" class=\"row_heading level0 row2\" >0</th>\n",
       "      <td id=\"T_42720_row2_col0\" class=\"data row2 col0\" >negative</td>\n",
       "      <td id=\"T_42720_row2_col1\" class=\"data row2 col1\" >202</td>\n",
       "    </tr>\n",
       "  </tbody>\n",
       "</table>\n"
      ],
      "text/plain": [
       "<pandas.io.formats.style.Styler at 0x260f9b37070>"
      ]
     },
     "metadata": {},
     "output_type": "display_data"
    },
    {
     "name": "stdout",
     "output_type": "stream",
     "text": [
      "Size of test_15 dataset : (2390, 3)\n"
     ]
    },
    {
     "data": {
      "text/html": [
       "<style type=\"text/css\">\n",
       "#T_7f63e_row0_col1 {\n",
       "  background-color: #7f2704;\n",
       "  color: #f1f1f1;\n",
       "}\n",
       "#T_7f63e_row1_col1 {\n",
       "  background-color: #963003;\n",
       "  color: #f1f1f1;\n",
       "}\n",
       "#T_7f63e_row2_col1 {\n",
       "  background-color: #fff5eb;\n",
       "  color: #000000;\n",
       "}\n",
       "</style>\n",
       "<table id=\"T_7f63e\">\n",
       "  <thead>\n",
       "    <tr>\n",
       "      <th class=\"blank level0\" >&nbsp;</th>\n",
       "      <th id=\"T_7f63e_level0_col0\" class=\"col_heading level0 col0\" >sentiment</th>\n",
       "      <th id=\"T_7f63e_level0_col1\" class=\"col_heading level0 col1\" >tweet</th>\n",
       "    </tr>\n",
       "  </thead>\n",
       "  <tbody>\n",
       "    <tr>\n",
       "      <th id=\"T_7f63e_level0_row0\" class=\"row_heading level0 row0\" >2</th>\n",
       "      <td id=\"T_7f63e_row0_col0\" class=\"data row0 col0\" >positive</td>\n",
       "      <td id=\"T_7f63e_row0_col1\" class=\"data row0 col1\" >1038</td>\n",
       "    </tr>\n",
       "    <tr>\n",
       "      <th id=\"T_7f63e_level0_row1\" class=\"row_heading level0 row1\" >1</th>\n",
       "      <td id=\"T_7f63e_row1_col0\" class=\"data row1 col0\" >neutral</td>\n",
       "      <td id=\"T_7f63e_row1_col1\" class=\"data row1 col1\" >987</td>\n",
       "    </tr>\n",
       "    <tr>\n",
       "      <th id=\"T_7f63e_level0_row2\" class=\"row_heading level0 row2\" >0</th>\n",
       "      <td id=\"T_7f63e_row2_col0\" class=\"data row2 col0\" >negative</td>\n",
       "      <td id=\"T_7f63e_row2_col1\" class=\"data row2 col1\" >365</td>\n",
       "    </tr>\n",
       "  </tbody>\n",
       "</table>\n"
      ],
      "text/plain": [
       "<pandas.io.formats.style.Styler at 0x260f9d979d0>"
      ]
     },
     "metadata": {},
     "output_type": "display_data"
    },
    {
     "name": "stdout",
     "output_type": "stream",
     "text": [
      "Size of test_16 dataset : (20632, 4)\n"
     ]
    },
    {
     "data": {
      "text/html": [
       "<style type=\"text/css\">\n",
       "#T_aa060_row0_col1 {\n",
       "  background-color: #7f2704;\n",
       "  color: #f1f1f1;\n",
       "}\n",
       "#T_aa060_row1_col1 {\n",
       "  background-color: #f98230;\n",
       "  color: #f1f1f1;\n",
       "}\n",
       "#T_aa060_row2_col1 {\n",
       "  background-color: #fff5eb;\n",
       "  color: #000000;\n",
       "}\n",
       "</style>\n",
       "<table id=\"T_aa060\">\n",
       "  <thead>\n",
       "    <tr>\n",
       "      <th class=\"blank level0\" >&nbsp;</th>\n",
       "      <th id=\"T_aa060_level0_col0\" class=\"col_heading level0 col0\" >sentiment</th>\n",
       "      <th id=\"T_aa060_level0_col1\" class=\"col_heading level0 col1\" >tweet</th>\n",
       "    </tr>\n",
       "  </thead>\n",
       "  <tbody>\n",
       "    <tr>\n",
       "      <th id=\"T_aa060_level0_row0\" class=\"row_heading level0 row0\" >1</th>\n",
       "      <td id=\"T_aa060_row0_col0\" class=\"data row0 col0\" >neutral</td>\n",
       "      <td id=\"T_aa060_row0_col1\" class=\"data row0 col1\" >10342</td>\n",
       "    </tr>\n",
       "    <tr>\n",
       "      <th id=\"T_aa060_level0_row1\" class=\"row_heading level0 row1\" >2</th>\n",
       "      <td id=\"T_aa060_row1_col0\" class=\"data row1 col0\" >positive</td>\n",
       "      <td id=\"T_aa060_row1_col1\" class=\"data row1 col1\" >7059</td>\n",
       "    </tr>\n",
       "    <tr>\n",
       "      <th id=\"T_aa060_level0_row2\" class=\"row_heading level0 row2\" >0</th>\n",
       "      <td id=\"T_aa060_row2_col0\" class=\"data row2 col0\" >negative</td>\n",
       "      <td id=\"T_aa060_row2_col1\" class=\"data row2 col1\" >3231</td>\n",
       "    </tr>\n",
       "  </tbody>\n",
       "</table>\n"
      ],
      "text/plain": [
       "<pandas.io.formats.style.Styler at 0x260f9daa800>"
      ]
     },
     "metadata": {},
     "output_type": "display_data"
    }
   ],
   "source": [
    "test_13 = prop(test_13, 'test_13')\n",
    "test_14 = prop(test_14, 'test_14')\n",
    "test_15 = prop(test_15, 'test_15')\n",
    "test_16 = prop(test_16, 'test_16')"
   ]
  },
  {
   "cell_type": "code",
   "execution_count": 28,
   "metadata": {},
   "outputs": [],
   "source": [
    "dev_13 = pd.read_csv('./data/downloaded/twitter-2013dev-A.tsv', sep='\\t', header=None)\n",
    "dev_16 = pd.read_csv('./data/downloaded/twitter-2016dev-A.tsv', sep='\\t', header=None)\n",
    "dev_16_test = pd.read_csv('./data/downloaded/twitter-2016devtest-A.tsv', sep='\\t', header=None)"
   ]
  },
  {
   "cell_type": "code",
   "execution_count": 29,
   "metadata": {},
   "outputs": [
    {
     "name": "stdout",
     "output_type": "stream",
     "text": [
      "Size of dev_13 dataset : (1654, 3)\n"
     ]
    },
    {
     "data": {
      "text/html": [
       "<style type=\"text/css\">\n",
       "#T_f869e_row0_col1 {\n",
       "  background-color: #7f2704;\n",
       "  color: #f1f1f1;\n",
       "}\n",
       "#T_f869e_row1_col1 {\n",
       "  background-color: #f5741f;\n",
       "  color: #f1f1f1;\n",
       "}\n",
       "#T_f869e_row2_col1 {\n",
       "  background-color: #fff5eb;\n",
       "  color: #000000;\n",
       "}\n",
       "</style>\n",
       "<table id=\"T_f869e\">\n",
       "  <thead>\n",
       "    <tr>\n",
       "      <th class=\"blank level0\" >&nbsp;</th>\n",
       "      <th id=\"T_f869e_level0_col0\" class=\"col_heading level0 col0\" >sentiment</th>\n",
       "      <th id=\"T_f869e_level0_col1\" class=\"col_heading level0 col1\" >tweet</th>\n",
       "    </tr>\n",
       "  </thead>\n",
       "  <tbody>\n",
       "    <tr>\n",
       "      <th id=\"T_f869e_level0_row0\" class=\"row_heading level0 row0\" >1</th>\n",
       "      <td id=\"T_f869e_row0_col0\" class=\"data row0 col0\" >neutral</td>\n",
       "      <td id=\"T_f869e_row0_col1\" class=\"data row0 col1\" >739</td>\n",
       "    </tr>\n",
       "    <tr>\n",
       "      <th id=\"T_f869e_level0_row1\" class=\"row_heading level0 row1\" >2</th>\n",
       "      <td id=\"T_f869e_row1_col0\" class=\"data row1 col0\" >positive</td>\n",
       "      <td id=\"T_f869e_row1_col1\" class=\"data row1 col1\" >575</td>\n",
       "    </tr>\n",
       "    <tr>\n",
       "      <th id=\"T_f869e_level0_row2\" class=\"row_heading level0 row2\" >0</th>\n",
       "      <td id=\"T_f869e_row2_col0\" class=\"data row2 col0\" >negative</td>\n",
       "      <td id=\"T_f869e_row2_col1\" class=\"data row2 col1\" >340</td>\n",
       "    </tr>\n",
       "  </tbody>\n",
       "</table>\n"
      ],
      "text/plain": [
       "<pandas.io.formats.style.Styler at 0x260f866a560>"
      ]
     },
     "metadata": {},
     "output_type": "display_data"
    },
    {
     "name": "stdout",
     "output_type": "stream",
     "text": [
      "Size of dev_16 dataset : (1966, 3)\n"
     ]
    },
    {
     "data": {
      "text/html": [
       "<style type=\"text/css\">\n",
       "#T_a92ab_row0_col1 {\n",
       "  background-color: #7f2704;\n",
       "  color: #f1f1f1;\n",
       "}\n",
       "#T_a92ab_row1_col1 {\n",
       "  background-color: #c03f02;\n",
       "  color: #f1f1f1;\n",
       "}\n",
       "#T_a92ab_row2_col1 {\n",
       "  background-color: #fff5eb;\n",
       "  color: #000000;\n",
       "}\n",
       "</style>\n",
       "<table id=\"T_a92ab\">\n",
       "  <thead>\n",
       "    <tr>\n",
       "      <th class=\"blank level0\" >&nbsp;</th>\n",
       "      <th id=\"T_a92ab_level0_col0\" class=\"col_heading level0 col0\" >sentiment</th>\n",
       "      <th id=\"T_a92ab_level0_col1\" class=\"col_heading level0 col1\" >tweet</th>\n",
       "    </tr>\n",
       "  </thead>\n",
       "  <tbody>\n",
       "    <tr>\n",
       "      <th id=\"T_a92ab_level0_row0\" class=\"row_heading level0 row0\" >2</th>\n",
       "      <td id=\"T_a92ab_row0_col0\" class=\"data row0 col0\" >positive</td>\n",
       "      <td id=\"T_a92ab_row0_col1\" class=\"data row0 col1\" >829</td>\n",
       "    </tr>\n",
       "    <tr>\n",
       "      <th id=\"T_a92ab_level0_row1\" class=\"row_heading level0 row1\" >1</th>\n",
       "      <td id=\"T_a92ab_row1_col0\" class=\"data row1 col0\" >neutral</td>\n",
       "      <td id=\"T_a92ab_row1_col1\" class=\"data row1 col1\" >746</td>\n",
       "    </tr>\n",
       "    <tr>\n",
       "      <th id=\"T_a92ab_level0_row2\" class=\"row_heading level0 row2\" >0</th>\n",
       "      <td id=\"T_a92ab_row2_col0\" class=\"data row2 col0\" >negative</td>\n",
       "      <td id=\"T_a92ab_row2_col1\" class=\"data row2 col1\" >391</td>\n",
       "    </tr>\n",
       "  </tbody>\n",
       "</table>\n"
      ],
      "text/plain": [
       "<pandas.io.formats.style.Styler at 0x260f9b0c250>"
      ]
     },
     "metadata": {},
     "output_type": "display_data"
    },
    {
     "name": "stdout",
     "output_type": "stream",
     "text": [
      "Size of dev_16_test dataset : (2000, 3)\n"
     ]
    },
    {
     "data": {
      "text/html": [
       "<style type=\"text/css\">\n",
       "#T_375df_row0_col1 {\n",
       "  background-color: #7f2704;\n",
       "  color: #f1f1f1;\n",
       "}\n",
       "#T_375df_row1_col1 {\n",
       "  background-color: #fa8331;\n",
       "  color: #f1f1f1;\n",
       "}\n",
       "#T_375df_row2_col1 {\n",
       "  background-color: #fff5eb;\n",
       "  color: #000000;\n",
       "}\n",
       "</style>\n",
       "<table id=\"T_375df\">\n",
       "  <thead>\n",
       "    <tr>\n",
       "      <th class=\"blank level0\" >&nbsp;</th>\n",
       "      <th id=\"T_375df_level0_col0\" class=\"col_heading level0 col0\" >sentiment</th>\n",
       "      <th id=\"T_375df_level0_col1\" class=\"col_heading level0 col1\" >tweet</th>\n",
       "    </tr>\n",
       "  </thead>\n",
       "  <tbody>\n",
       "    <tr>\n",
       "      <th id=\"T_375df_level0_row0\" class=\"row_heading level0 row0\" >2</th>\n",
       "      <td id=\"T_375df_row0_col0\" class=\"data row0 col0\" >positive</td>\n",
       "      <td id=\"T_375df_row0_col1\" class=\"data row0 col1\" >994</td>\n",
       "    </tr>\n",
       "    <tr>\n",
       "      <th id=\"T_375df_level0_row1\" class=\"row_heading level0 row1\" >1</th>\n",
       "      <td id=\"T_375df_row1_col0\" class=\"data row1 col0\" >neutral</td>\n",
       "      <td id=\"T_375df_row1_col1\" class=\"data row1 col1\" >681</td>\n",
       "    </tr>\n",
       "    <tr>\n",
       "      <th id=\"T_375df_level0_row2\" class=\"row_heading level0 row2\" >0</th>\n",
       "      <td id=\"T_375df_row2_col0\" class=\"data row2 col0\" >negative</td>\n",
       "      <td id=\"T_375df_row2_col1\" class=\"data row2 col1\" >325</td>\n",
       "    </tr>\n",
       "  </tbody>\n",
       "</table>\n"
      ],
      "text/plain": [
       "<pandas.io.formats.style.Styler at 0x260f9dab2b0>"
      ]
     },
     "metadata": {},
     "output_type": "display_data"
    }
   ],
   "source": [
    "dev_13 = prop(dev_13, 'dev_13')\n",
    "dev_16 = prop(dev_16, 'dev_16')\n",
    "dev_16_test = prop(dev_16_test, 'dev_16_test')"
   ]
  }
 ],
 "metadata": {
  "kernelspec": {
   "display_name": "Python 3.10.8 64-bit",
   "language": "python",
   "name": "python3"
  },
  "language_info": {
   "codemirror_mode": {
    "name": "ipython",
    "version": 3
   },
   "file_extension": ".py",
   "mimetype": "text/x-python",
   "name": "python",
   "nbconvert_exporter": "python",
   "pygments_lexer": "ipython3",
   "version": "3.10.8"
  },
  "orig_nbformat": 4,
  "vscode": {
   "interpreter": {
    "hash": "989f1c85a0753a3f5387357a9d8cdada932b18385ad81a9223bb8329c9a4fd3b"
   }
  }
 },
 "nbformat": 4,
 "nbformat_minor": 2
}
