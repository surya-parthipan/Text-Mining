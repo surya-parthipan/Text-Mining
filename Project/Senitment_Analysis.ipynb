{
 "cells": [
  {
   "cell_type": "code",
   "execution_count": 1,
   "metadata": {},
   "outputs": [
    {
     "name": "stderr",
     "output_type": "stream",
     "text": [
      "[nltk_data] Downloading package stopwords to\n",
      "[nltk_data]     C:\\Users\\rsury\\AppData\\Roaming\\nltk_data...\n",
      "[nltk_data]   Package stopwords is already up-to-date!\n",
      "[nltk_data] Downloading package wordnet to\n",
      "[nltk_data]     C:\\Users\\rsury\\AppData\\Roaming\\nltk_data...\n",
      "[nltk_data]   Package wordnet is already up-to-date!\n",
      "[nltk_data] Downloading package omw-1.4 to\n",
      "[nltk_data]     C:\\Users\\rsury\\AppData\\Roaming\\nltk_data...\n",
      "[nltk_data]   Package omw-1.4 is already up-to-date!\n"
     ]
    }
   ],
   "source": [
    "import pandas as pd\n",
    "import numpy as np\n",
    "import matplotlib.pyplot as plt\n",
    "# %matplotlib inline\n",
    "# plt.style.use('fivethirtyeight')\n",
    "import seaborn as sns\n",
    "color_palette = sns.color_palette()\n",
    "\n",
    "import glob\n",
    "from collections import Counter\n",
    "import plotly.express as px\n",
    "\n",
    "import nltk\n",
    "nltk.download('stopwords')\n",
    "nltk.download('wordnet')\n",
    "nltk.download('omw-1.4')\n",
    "from nltk.corpus import stopwords\n",
    "from nltk.stem import WordNetLemmatizer\n",
    "from nltk import word_tokenize\n",
    "import re\n",
    "import spacy\n",
    "import emoji\n",
    "from imblearn.over_sampling import RandomOverSampler\n",
    "\n",
    "from sklearn.feature_extraction.text import CountVectorizer, TfidfTransformer\n",
    "from sklearn.pipeline import Pipeline\n",
    "from sklearn.naive_bayes import MultinomialNB\n",
    "from sklearn import metrics, preprocessing\n",
    "from sklearn.model_selection import GridSearchCV, train_test_split\n",
    "from sklearn.metrics import precision_score, recall_score, f1_score"
   ]
  },
  {
   "cell_type": "code",
   "execution_count": 2,
   "metadata": {},
   "outputs": [],
   "source": [
    "def f(i):\n",
    "    return pd.read_csv(i, sep ='\\t', header=None)"
   ]
  },
  {
   "cell_type": "markdown",
   "metadata": {},
   "source": [
    "# **Train set - Processing**"
   ]
  },
  {
   "cell_type": "code",
   "execution_count": 3,
   "metadata": {},
   "outputs": [
    {
     "name": "stdout",
     "output_type": "stream",
     "text": [
      "Size of train dataset : (16173, 3)\n"
     ]
    },
    {
     "data": {
      "text/html": [
       "<div>\n",
       "<style scoped>\n",
       "    .dataframe tbody tr th:only-of-type {\n",
       "        vertical-align: middle;\n",
       "    }\n",
       "\n",
       "    .dataframe tbody tr th {\n",
       "        vertical-align: top;\n",
       "    }\n",
       "\n",
       "    .dataframe thead th {\n",
       "        text-align: right;\n",
       "    }\n",
       "</style>\n",
       "<table border=\"1\" class=\"dataframe\">\n",
       "  <thead>\n",
       "    <tr style=\"text-align: right;\">\n",
       "      <th></th>\n",
       "      <th>id</th>\n",
       "      <th>sentiment</th>\n",
       "      <th>tweet</th>\n",
       "    </tr>\n",
       "  </thead>\n",
       "  <tbody>\n",
       "    <tr>\n",
       "      <th>0</th>\n",
       "      <td>264183816548130816</td>\n",
       "      <td>positive</td>\n",
       "      <td>Gas by my house hit $3.39!!!! I’m going to Cha...</td>\n",
       "    </tr>\n",
       "    <tr>\n",
       "      <th>1</th>\n",
       "      <td>263405084770172928</td>\n",
       "      <td>negative</td>\n",
       "      <td>Theo Walcott is still shit, watch Rafa and Joh...</td>\n",
       "    </tr>\n",
       "    <tr>\n",
       "      <th>2</th>\n",
       "      <td>262163168678248449</td>\n",
       "      <td>negative</td>\n",
       "      <td>its not that I’m a GSP fan, i just hate Nick D...</td>\n",
       "    </tr>\n",
       "    <tr>\n",
       "      <th>3</th>\n",
       "      <td>264249301910310912</td>\n",
       "      <td>negative</td>\n",
       "      <td>Iranian general says Israel’s Iron Dome can’t ...</td>\n",
       "    </tr>\n",
       "    <tr>\n",
       "      <th>4</th>\n",
       "      <td>262682041215234048</td>\n",
       "      <td>neutral</td>\n",
       "      <td>Tehran, Mon Amour: Obama Tried to Establish Ti...</td>\n",
       "    </tr>\n",
       "  </tbody>\n",
       "</table>\n",
       "</div>"
      ],
      "text/plain": [
       "                   id sentiment  \\\n",
       "0  264183816548130816  positive   \n",
       "1  263405084770172928  negative   \n",
       "2  262163168678248449  negative   \n",
       "3  264249301910310912  negative   \n",
       "4  262682041215234048   neutral   \n",
       "\n",
       "                                               tweet  \n",
       "0  Gas by my house hit $3.39!!!! I’m going to Cha...  \n",
       "1  Theo Walcott is still shit, watch Rafa and Joh...  \n",
       "2  its not that I’m a GSP fan, i just hate Nick D...  \n",
       "3  Iranian general says Israel’s Iron Dome can’t ...  \n",
       "4  Tehran, Mon Amour: Obama Tried to Establish Ti...  "
      ]
     },
     "execution_count": 3,
     "metadata": {},
     "output_type": "execute_result"
    }
   ],
   "source": [
    "train_path = glob.glob('./data/downloaded/*train-A.tsv')\n",
    "train_df = pd.concat(map(f, train_path))\n",
    "train_df = train_df.rename(columns={0:'id', 1:'sentiment', 2:'tweet'})\n",
    "train_df.sentiment = train_df.sentiment.str.strip()\n",
    "print(f'Size of train dataset : {train_df.shape}')\n",
    "train_df.head()"
   ]
  },
  {
   "cell_type": "code",
   "execution_count": 4,
   "metadata": {},
   "outputs": [
    {
     "name": "stdout",
     "output_type": "stream",
     "text": [
      " No. of duplicate values in train dataset : 306\n"
     ]
    }
   ],
   "source": [
    "print(f' No. of duplicate values in train dataset : {train_df.duplicated().sum()}')"
   ]
  },
  {
   "cell_type": "code",
   "execution_count": 5,
   "metadata": {},
   "outputs": [],
   "source": [
    "# train_df['sentiment'].replace('positive', 1,inplace=True)\n",
    "# train_df['sentiment'].replace('negative', -1,inplace=True)\n",
    "# train_df['sentiment'].replace('neutral', 0,inplace=True)\n",
    "# train_df.head()"
   ]
  },
  {
   "cell_type": "code",
   "execution_count": 6,
   "metadata": {},
   "outputs": [
    {
     "data": {
      "text/html": [
       "<style type=\"text/css\">\n",
       "#T_c52a1_row0_col1 {\n",
       "  background-color: #7f2704;\n",
       "  color: #f1f1f1;\n",
       "}\n",
       "#T_c52a1_row1_col1 {\n",
       "  background-color: #802704;\n",
       "  color: #f1f1f1;\n",
       "}\n",
       "#T_c52a1_row2_col1 {\n",
       "  background-color: #fff5eb;\n",
       "  color: #000000;\n",
       "}\n",
       "</style>\n",
       "<table id=\"T_c52a1\">\n",
       "  <thead>\n",
       "    <tr>\n",
       "      <th class=\"blank level0\" >&nbsp;</th>\n",
       "      <th id=\"T_c52a1_level0_col0\" class=\"col_heading level0 col0\" >sentiment</th>\n",
       "      <th id=\"T_c52a1_level0_col1\" class=\"col_heading level0 col1\" >tweet</th>\n",
       "    </tr>\n",
       "  </thead>\n",
       "  <tbody>\n",
       "    <tr>\n",
       "      <th id=\"T_c52a1_level0_row0\" class=\"row_heading level0 row0\" >2</th>\n",
       "      <td id=\"T_c52a1_row0_col0\" class=\"data row0 col0\" >positive</td>\n",
       "      <td id=\"T_c52a1_row0_col1\" class=\"data row0 col1\" >6904</td>\n",
       "    </tr>\n",
       "    <tr>\n",
       "      <th id=\"T_c52a1_level0_row1\" class=\"row_heading level0 row1\" >1</th>\n",
       "      <td id=\"T_c52a1_row1_col0\" class=\"data row1 col0\" >neutral</td>\n",
       "      <td id=\"T_c52a1_row1_col1\" class=\"data row1 col1\" >6882</td>\n",
       "    </tr>\n",
       "    <tr>\n",
       "      <th id=\"T_c52a1_level0_row2\" class=\"row_heading level0 row2\" >0</th>\n",
       "      <td id=\"T_c52a1_row2_col0\" class=\"data row2 col0\" >negative</td>\n",
       "      <td id=\"T_c52a1_row2_col1\" class=\"data row2 col1\" >2387</td>\n",
       "    </tr>\n",
       "  </tbody>\n",
       "</table>\n"
      ],
      "text/plain": [
       "<pandas.io.formats.style.Styler at 0x1ced7c6a350>"
      ]
     },
     "execution_count": 6,
     "metadata": {},
     "output_type": "execute_result"
    }
   ],
   "source": [
    "train_sentiment_cnt = train_df.groupby('sentiment').count()['tweet'].reset_index().sort_values(by='tweet',ascending=False)\n",
    "train_sentiment_cnt.style.background_gradient(cmap='Oranges')"
   ]
  },
  {
   "cell_type": "code",
   "execution_count": 7,
   "metadata": {},
   "outputs": [
    {
     "data": {
      "image/png": "[encoded data removed]",
      "text/plain": [
       "<Figure size 300x300 with 1 Axes>"
      ]
     },
     "metadata": {},
     "output_type": "display_data"
    }
   ],
   "source": [
    "plt.figure(figsize=(3,3))\n",
    "sns.countplot(x='sentiment',data=train_df).set_title('Sentiment Distribution of Train set')\n",
    "plt.show()"
   ]
  },
  {
   "cell_type": "code",
   "execution_count": 8,
   "metadata": {},
   "outputs": [
    {
     "data": {
      "text/html": [
       "<style type=\"text/css\">\n",
       "#T_aecec_row0_col1 {\n",
       "  background-color: #08306b;\n",
       "  color: #f1f1f1;\n",
       "}\n",
       "#T_aecec_row1_col1 {\n",
       "  background-color: #58a1cf;\n",
       "  color: #f1f1f1;\n",
       "}\n",
       "#T_aecec_row2_col1 {\n",
       "  background-color: #b7d4ea;\n",
       "  color: #000000;\n",
       "}\n",
       "#T_aecec_row3_col1 {\n",
       "  background-color: #b8d5ea;\n",
       "  color: #000000;\n",
       "}\n",
       "#T_aecec_row4_col1 {\n",
       "  background-color: #c3daee;\n",
       "  color: #000000;\n",
       "}\n",
       "#T_aecec_row5_col1 {\n",
       "  background-color: #c6dbef;\n",
       "  color: #000000;\n",
       "}\n",
       "#T_aecec_row6_col1 {\n",
       "  background-color: #c8dcf0;\n",
       "  color: #000000;\n",
       "}\n",
       "#T_aecec_row7_col1 {\n",
       "  background-color: #ccdff1;\n",
       "  color: #000000;\n",
       "}\n",
       "#T_aecec_row8_col1 {\n",
       "  background-color: #d0e2f2;\n",
       "  color: #000000;\n",
       "}\n",
       "#T_aecec_row9_col1 {\n",
       "  background-color: #d7e6f5;\n",
       "  color: #000000;\n",
       "}\n",
       "#T_aecec_row10_col1 {\n",
       "  background-color: #dfecf7;\n",
       "  color: #000000;\n",
       "}\n",
       "#T_aecec_row11_col1 {\n",
       "  background-color: #e0ecf8;\n",
       "  color: #000000;\n",
       "}\n",
       "#T_aecec_row12_col1 {\n",
       "  background-color: #e3eef9;\n",
       "  color: #000000;\n",
       "}\n",
       "#T_aecec_row13_col1 {\n",
       "  background-color: #e4eff9;\n",
       "  color: #000000;\n",
       "}\n",
       "#T_aecec_row14_col1 {\n",
       "  background-color: #eef5fc;\n",
       "  color: #000000;\n",
       "}\n",
       "#T_aecec_row15_col1 {\n",
       "  background-color: #f1f7fd;\n",
       "  color: #000000;\n",
       "}\n",
       "#T_aecec_row16_col1 {\n",
       "  background-color: #f3f8fe;\n",
       "  color: #000000;\n",
       "}\n",
       "#T_aecec_row17_col1 {\n",
       "  background-color: #f5f9fe;\n",
       "  color: #000000;\n",
       "}\n",
       "#T_aecec_row18_col1 {\n",
       "  background-color: #f5fafe;\n",
       "  color: #000000;\n",
       "}\n",
       "#T_aecec_row19_col1 {\n",
       "  background-color: #f7fbff;\n",
       "  color: #000000;\n",
       "}\n",
       "</style>\n",
       "<table id=\"T_aecec\">\n",
       "  <thead>\n",
       "    <tr>\n",
       "      <th class=\"blank level0\" >&nbsp;</th>\n",
       "      <th id=\"T_aecec_level0_col0\" class=\"col_heading level0 col0\" >Common_words</th>\n",
       "      <th id=\"T_aecec_level0_col1\" class=\"col_heading level0 col1\" >count</th>\n",
       "    </tr>\n",
       "  </thead>\n",
       "  <tbody>\n",
       "    <tr>\n",
       "      <th id=\"T_aecec_level0_row0\" class=\"row_heading level0 row0\" >0</th>\n",
       "      <td id=\"T_aecec_row0_col0\" class=\"data row0 col0\" >the</td>\n",
       "      <td id=\"T_aecec_row0_col1\" class=\"data row0 col1\" >12220</td>\n",
       "    </tr>\n",
       "    <tr>\n",
       "      <th id=\"T_aecec_level0_row1\" class=\"row_heading level0 row1\" >1</th>\n",
       "      <td id=\"T_aecec_row1_col0\" class=\"data row1 col0\" >to</td>\n",
       "      <td id=\"T_aecec_row1_col1\" class=\"data row1 col1\" >7407</td>\n",
       "    </tr>\n",
       "    <tr>\n",
       "      <th id=\"T_aecec_level0_row2\" class=\"row_heading level0 row2\" >2</th>\n",
       "      <td id=\"T_aecec_row2_col0\" class=\"data row2 col0\" >on</td>\n",
       "      <td id=\"T_aecec_row2_col1\" class=\"data row2 col1\" >4581</td>\n",
       "    </tr>\n",
       "    <tr>\n",
       "      <th id=\"T_aecec_level0_row3\" class=\"row_heading level0 row3\" >3</th>\n",
       "      <td id=\"T_aecec_row3_col0\" class=\"data row3 col0\" >in</td>\n",
       "      <td id=\"T_aecec_row3_col1\" class=\"data row3 col1\" >4544</td>\n",
       "    </tr>\n",
       "    <tr>\n",
       "      <th id=\"T_aecec_level0_row4\" class=\"row_heading level0 row4\" >4</th>\n",
       "      <td id=\"T_aecec_row4_col0\" class=\"data row4 col0\" >a</td>\n",
       "      <td id=\"T_aecec_row4_col1\" class=\"data row4 col1\" >4149</td>\n",
       "    </tr>\n",
       "    <tr>\n",
       "      <th id=\"T_aecec_level0_row5\" class=\"row_heading level0 row5\" >5</th>\n",
       "      <td id=\"T_aecec_row5_col0\" class=\"data row5 col0\" >and</td>\n",
       "      <td id=\"T_aecec_row5_col1\" class=\"data row5 col1\" >4091</td>\n",
       "    </tr>\n",
       "    <tr>\n",
       "      <th id=\"T_aecec_level0_row6\" class=\"row_heading level0 row6\" >6</th>\n",
       "      <td id=\"T_aecec_row6_col0\" class=\"data row6 col0\" >I</td>\n",
       "      <td id=\"T_aecec_row6_col1\" class=\"data row6 col1\" >3974</td>\n",
       "    </tr>\n",
       "    <tr>\n",
       "      <th id=\"T_aecec_level0_row7\" class=\"row_heading level0 row7\" >7</th>\n",
       "      <td id=\"T_aecec_row7_col0\" class=\"data row7 col0\" >of</td>\n",
       "      <td id=\"T_aecec_row7_col1\" class=\"data row7 col1\" >3748</td>\n",
       "    </tr>\n",
       "    <tr>\n",
       "      <th id=\"T_aecec_level0_row8\" class=\"row_heading level0 row8\" >8</th>\n",
       "      <td id=\"T_aecec_row8_col0\" class=\"data row8 col0\" >for</td>\n",
       "      <td id=\"T_aecec_row8_col1\" class=\"data row8 col1\" >3472</td>\n",
       "    </tr>\n",
       "    <tr>\n",
       "      <th id=\"T_aecec_level0_row9\" class=\"row_heading level0 row9\" >9</th>\n",
       "      <td id=\"T_aecec_row9_col0\" class=\"data row9 col0\" >is</td>\n",
       "      <td id=\"T_aecec_row9_col1\" class=\"data row9 col1\" >3092</td>\n",
       "    </tr>\n",
       "    <tr>\n",
       "      <th id=\"T_aecec_level0_row10\" class=\"row_heading level0 row10\" >10</th>\n",
       "      <td id=\"T_aecec_row10_col0\" class=\"data row10 col0\" >at</td>\n",
       "      <td id=\"T_aecec_row10_col1\" class=\"data row10 col1\" >2652</td>\n",
       "    </tr>\n",
       "    <tr>\n",
       "      <th id=\"T_aecec_level0_row11\" class=\"row_heading level0 row11\" >11</th>\n",
       "      <td id=\"T_aecec_row11_col0\" class=\"data row11 col0\" >with</td>\n",
       "      <td id=\"T_aecec_row11_col1\" class=\"data row11 col1\" >2580</td>\n",
       "    </tr>\n",
       "    <tr>\n",
       "      <th id=\"T_aecec_level0_row12\" class=\"row_heading level0 row12\" >12</th>\n",
       "      <td id=\"T_aecec_row12_col0\" class=\"data row12 col0\" >be</td>\n",
       "      <td id=\"T_aecec_row12_col1\" class=\"data row12 col1\" >2424</td>\n",
       "    </tr>\n",
       "    <tr>\n",
       "      <th id=\"T_aecec_level0_row13\" class=\"row_heading level0 row13\" >13</th>\n",
       "      <td id=\"T_aecec_row13_col0\" class=\"data row13 col0\" >you</td>\n",
       "      <td id=\"T_aecec_row13_col1\" class=\"data row13 col1\" >2385</td>\n",
       "    </tr>\n",
       "    <tr>\n",
       "      <th id=\"T_aecec_level0_row14\" class=\"row_heading level0 row14\" >14</th>\n",
       "      <td id=\"T_aecec_row14_col0\" class=\"data row14 col0\" >it</td>\n",
       "      <td id=\"T_aecec_row14_col1\" class=\"data row14 col1\" >1836</td>\n",
       "    </tr>\n",
       "    <tr>\n",
       "      <th id=\"T_aecec_level0_row15\" class=\"row_heading level0 row15\" >15</th>\n",
       "      <td id=\"T_aecec_row15_col0\" class=\"data row15 col0\" >may</td>\n",
       "      <td id=\"T_aecec_row15_col1\" class=\"data row15 col1\" >1705</td>\n",
       "    </tr>\n",
       "    <tr>\n",
       "      <th id=\"T_aecec_level0_row16\" class=\"row_heading level0 row16\" >16</th>\n",
       "      <td id=\"T_aecec_row16_col0\" class=\"data row16 col0\" >my</td>\n",
       "      <td id=\"T_aecec_row16_col1\" class=\"data row16 col1\" >1573</td>\n",
       "    </tr>\n",
       "    <tr>\n",
       "      <th id=\"T_aecec_level0_row17\" class=\"row_heading level0 row17\" >17</th>\n",
       "      <td id=\"T_aecec_row17_col0\" class=\"data row17 col0\" >tomorrow</td>\n",
       "      <td id=\"T_aecec_row17_col1\" class=\"data row17 col1\" >1489</td>\n",
       "    </tr>\n",
       "    <tr>\n",
       "      <th id=\"T_aecec_level0_row18\" class=\"row_heading level0 row18\" >18</th>\n",
       "      <td id=\"T_aecec_row18_col0\" class=\"data row18 col0\" >have</td>\n",
       "      <td id=\"T_aecec_row18_col1\" class=\"data row18 col1\" >1467</td>\n",
       "    </tr>\n",
       "    <tr>\n",
       "      <th id=\"T_aecec_level0_row19\" class=\"row_heading level0 row19\" >19</th>\n",
       "      <td id=\"T_aecec_row19_col0\" class=\"data row19 col0\" >that</td>\n",
       "      <td id=\"T_aecec_row19_col1\" class=\"data row19 col1\" >1344</td>\n",
       "    </tr>\n",
       "  </tbody>\n",
       "</table>\n"
      ],
      "text/plain": [
       "<pandas.io.formats.style.Styler at 0x1ceb0d9cc70>"
      ]
     },
     "execution_count": 8,
     "metadata": {},
     "output_type": "execute_result"
    }
   ],
   "source": [
    "train_df['temp_list'] = train_df['tweet'].apply(lambda x:str(x).split())\n",
    "top = Counter([item for sublist in train_df['temp_list'] for item in sublist])\n",
    "temp = pd.DataFrame(top.most_common(20))\n",
    "temp.columns = ['Common_words','count']\n",
    "temp.style.background_gradient(cmap='Blues')"
   ]
  },
  {
   "cell_type": "code",
   "execution_count": 9,
   "metadata": {},
   "outputs": [
    {
     "data": {
      "application/vnd.plotly.v1+json": {
       "config": {
        "plotlyServerURL": "https://plot.ly"
       },
       "data": [
        {
         "alignmentgroup": "True",
         "hovertemplate": "Common_words=%{y}<br>count=%{x}<extra></extra>",
         "legendgroup": "the",
         "marker": {
          "color": "#636efa",
          "pattern": {
           "shape": ""
          }
         },
         "name": "the",
         "offsetgroup": "the",
         "orientation": "h",
         "showlegend": true,
         "textposition": "auto",
         "type": "bar",
         "x": [
          12220
         ],
         "xaxis": "x",
         "y": [
          "the"
         ],
         "yaxis": "y"
        },
        {
         "alignmentgroup": "True",
         "hovertemplate": "Common_words=%{y}<br>count=%{x}<extra></extra>",
         "legendgroup": "to",
         "marker": {
          "color": "#EF553B",
          "pattern": {
           "shape": ""
          }
         },
         "name": "to",
         "offsetgroup": "to",
         "orientation": "h",
         "showlegend": true,
         "textposition": "auto",
         "type": "bar",
         "x": [
          7407
         ],
         "xaxis": "x",
         "y": [
          "to"
         ],
         "yaxis": "y"
        },
        {
         "alignmentgroup": "True",
         "hovertemplate": "Common_words=%{y}<br>count=%{x}<extra></extra>",
         "legendgroup": "on",
         "marker": {
          "color": "#00cc96",
          "pattern": {
           "shape": ""
          }
         },
         "name": "on",
         "offsetgroup": "on",
         "orientation": "h",
         "showlegend": true,
         "textposition": "auto",
         "type": "bar",
         "x": [
          4581
         ],
         "xaxis": "x",
         "y": [
          "on"
         ],
         "yaxis": "y"
        },
        {
         "alignmentgroup": "True",
         "hovertemplate": "Common_words=%{y}<br>count=%{x}<extra></extra>",
         "legendgroup": "in",
         "marker": {
          "color": "#ab63fa",
          "pattern": {
           "shape": ""
          }
         },
         "name": "in",
         "offsetgroup": "in",
         "orientation": "h",
         "showlegend": true,
         "textposition": "auto",
         "type": "bar",
         "x": [
          4544
         ],
         "xaxis": "x",
         "y": [
          "in"
         ],
         "yaxis": "y"
        },
        {
         "alignmentgroup": "True",
         "hovertemplate": "Common_words=%{y}<br>count=%{x}<extra></extra>",
         "legendgroup": "a",
         "marker": {
          "color": "#FFA15A",
          "pattern": {
           "shape": ""
          }
         },
         "name": "a",
         "offsetgroup": "a",
         "orientation": "h",
         "showlegend": true,
         "textposition": "auto",
         "type": "bar",
         "x": [
          4149
         ],
         "xaxis": "x",
         "y": [
          "a"
         ],
         "yaxis": "y"
        },
        {
         "alignmentgroup": "True",
         "hovertemplate": "Common_words=%{y}<br>count=%{x}<extra></extra>",
         "legendgroup": "and",
         "marker": {
          "color": "#19d3f3",
          "pattern": {
           "shape": ""
          }
         },
         "name": "and",
         "offsetgroup": "and",
         "orientation": "h",
         "showlegend": true,
         "textposition": "auto",
         "type": "bar",
         "x": [
          4091
         ],
         "xaxis": "x",
         "y": [
          "and"
         ],
         "yaxis": "y"
        },
        {
         "alignmentgroup": "True",
         "hovertemplate": "Common_words=%{y}<br>count=%{x}<extra></extra>",
         "legendgroup": "I",
         "marker": {
          "color": "#FF6692",
          "pattern": {
           "shape": ""
          }
         },
         "name": "I",
         "offsetgroup": "I",
         "orientation": "h",
         "showlegend": true,
         "textposition": "auto",
         "type": "bar",
         "x": [
          3974
         ],
         "xaxis": "x",
         "y": [
          "I"
         ],
         "yaxis": "y"
        },
        {
         "alignmentgroup": "True",
         "hovertemplate": "Common_words=%{y}<br>count=%{x}<extra></extra>",
         "legendgroup": "of",
         "marker": {
          "color": "#B6E880",
          "pattern": {
           "shape": ""
          }
         },
         "name": "of",
         "offsetgroup": "of",
         "orientation": "h",
         "showlegend": true,
         "textposition": "auto",
         "type": "bar",
         "x": [
          3748
         ],
         "xaxis": "x",
         "y": [
          "of"
         ],
         "yaxis": "y"
        },
        {
         "alignmentgroup": "True",
         "hovertemplate": "Common_words=%{y}<br>count=%{x}<extra></extra>",
         "legendgroup": "for",
         "marker": {
          "color": "#FF97FF",
          "pattern": {
           "shape": ""
          }
         },
         "name": "for",
         "offsetgroup": "for",
         "orientation": "h",
         "showlegend": true,
         "textposition": "auto",
         "type": "bar",
         "x": [
          3472
         ],
         "xaxis": "x",
         "y": [
          "for"
         ],
         "yaxis": "y"
        },
        {
         "alignmentgroup": "True",
         "hovertemplate": "Common_words=%{y}<br>count=%{x}<extra></extra>",
         "legendgroup": "is",
         "marker": {
          "color": "#FECB52",
          "pattern": {
           "shape": ""
          }
         },
         "name": "is",
         "offsetgroup": "is",
         "orientation": "h",
         "showlegend": true,
         "textposition": "auto",
         "type": "bar",
         "x": [
          3092
         ],
         "xaxis": "x",
         "y": [
          "is"
         ],
         "yaxis": "y"
        },
        {
         "alignmentgroup": "True",
         "hovertemplate": "Common_words=%{y}<br>count=%{x}<extra></extra>",
         "legendgroup": "at",
         "marker": {
          "color": "#636efa",
          "pattern": {
           "shape": ""
          }
         },
         "name": "at",
         "offsetgroup": "at",
         "orientation": "h",
         "showlegend": true,
         "textposition": "auto",
         "type": "bar",
         "x": [
          2652
         ],
         "xaxis": "x",
         "y": [
          "at"
         ],
         "yaxis": "y"
        },
        {
         "alignmentgroup": "True",
         "hovertemplate": "Common_words=%{y}<br>count=%{x}<extra></extra>",
         "legendgroup": "with",
         "marker": {
          "color": "#EF553B",
          "pattern": {
           "shape": ""
          }
         },
         "name": "with",
         "offsetgroup": "with",
         "orientation": "h",
         "showlegend": true,
         "textposition": "auto",
         "type": "bar",
         "x": [
          2580
         ],
         "xaxis": "x",
         "y": [
          "with"
         ],
         "yaxis": "y"
        },
        {
         "alignmentgroup": "True",
         "hovertemplate": "Common_words=%{y}<br>count=%{x}<extra></extra>",
         "legendgroup": "be",
         "marker": {
          "color": "#00cc96",
          "pattern": {
           "shape": ""
          }
         },
         "name": "be",
         "offsetgroup": "be",
         "orientation": "h",
         "showlegend": true,
         "textposition": "auto",
         "type": "bar",
         "x": [
          2424
         ],
         "xaxis": "x",
         "y": [
          "be"
         ],
         "yaxis": "y"
        },
        {
         "alignmentgroup": "True",
         "hovertemplate": "Common_words=%{y}<br>count=%{x}<extra></extra>",
         "legendgroup": "you",
         "marker": {
          "color": "#ab63fa",
          "pattern": {
           "shape": ""
          }
         },
         "name": "you",
         "offsetgroup": "you",
         "orientation": "h",
         "showlegend": true,
         "textposition": "auto",
         "type": "bar",
         "x": [
          2385
         ],
         "xaxis": "x",
         "y": [
          "you"
         ],
         "yaxis": "y"
        },
        {
         "alignmentgroup": "True",
         "hovertemplate": "Common_words=%{y}<br>count=%{x}<extra></extra>",
         "legendgroup": "it",
         "marker": {
          "color": "#FFA15A",
          "pattern": {
           "shape": ""
          }
         },
         "name": "it",
         "offsetgroup": "it",
         "orientation": "h",
         "showlegend": true,
         "textposition": "auto",
         "type": "bar",
         "x": [
          1836
         ],
         "xaxis": "x",
         "y": [
          "it"
         ],
         "yaxis": "y"
        },
        {
         "alignmentgroup": "True",
         "hovertemplate": "Common_words=%{y}<br>count=%{x}<extra></extra>",
         "legendgroup": "may",
         "marker": {
          "color": "#19d3f3",
          "pattern": {
           "shape": ""
          }
         },
         "name": "may",
         "offsetgroup": "may",
         "orientation": "h",
         "showlegend": true,
         "textposition": "auto",
         "type": "bar",
         "x": [
          1705
         ],
         "xaxis": "x",
         "y": [
          "may"
         ],
         "yaxis": "y"
        },
        {
         "alignmentgroup": "True",
         "hovertemplate": "Common_words=%{y}<br>count=%{x}<extra></extra>",
         "legendgroup": "my",
         "marker": {
          "color": "#FF6692",
          "pattern": {
           "shape": ""
          }
         },
         "name": "my",
         "offsetgroup": "my",
         "orientation": "h",
         "showlegend": true,
         "textposition": "auto",
         "type": "bar",
         "x": [
          1573
         ],
         "xaxis": "x",
         "y": [
          "my"
         ],
         "yaxis": "y"
        },
        {
         "alignmentgroup": "True",
         "hovertemplate": "Common_words=%{y}<br>count=%{x}<extra></extra>",
         "legendgroup": "tomorrow",
         "marker": {
          "color": "#B6E880",
          "pattern": {
           "shape": ""
          }
         },
         "name": "tomorrow",
         "offsetgroup": "tomorrow",
         "orientation": "h",
         "showlegend": true,
         "textposition": "auto",
         "type": "bar",
         "x": [
          1489
         ],
         "xaxis": "x",
         "y": [
          "tomorrow"
         ],
         "yaxis": "y"
        },
        {
         "alignmentgroup": "True",
         "hovertemplate": "Common_words=%{y}<br>count=%{x}<extra></extra>",
         "legendgroup": "have",
         "marker": {
          "color": "#FF97FF",
          "pattern": {
           "shape": ""
          }
         },
         "name": "have",
         "offsetgroup": "have",
         "orientation": "h",
         "showlegend": true,
         "textposition": "auto",
         "type": "bar",
         "x": [
          1467
         ],
         "xaxis": "x",
         "y": [
          "have"
         ],
         "yaxis": "y"
        },
        {
         "alignmentgroup": "True",
         "hovertemplate": "Common_words=%{y}<br>count=%{x}<extra></extra>",
         "legendgroup": "that",
         "marker": {
          "color": "#FECB52",
          "pattern": {
           "shape": ""
          }
         },
         "name": "that",
         "offsetgroup": "that",
         "orientation": "h",
         "showlegend": true,
         "textposition": "auto",
         "type": "bar",
         "x": [
          1344
         ],
         "xaxis": "x",
         "y": [
          "that"
         ],
         "yaxis": "y"
        }
       ],
       "layout": {
        "barmode": "relative",
        "height": 700,
        "legend": {
         "title": {
          "text": "Common_words"
         },
         "tracegroupgap": 0
        },
        "template": {
         "data": {
          "bar": [
           {
            "error_x": {
             "color": "#2a3f5f"
            },
            "error_y": {
             "color": "#2a3f5f"
            },
            "marker": {
             "line": {
              "color": "#E5ECF6",
              "width": 0.5
             },
             "pattern": {
              "fillmode": "overlay",
              "size": 10,
              "solidity": 0.2
             }
            },
            "type": "bar"
           }
          ],
          "barpolar": [
           {
            "marker": {
             "line": {
              "color": "#E5ECF6",
              "width": 0.5
             },
             "pattern": {
              "fillmode": "overlay",
              "size": 10,
              "solidity": 0.2
             }
            },
            "type": "barpolar"
           }
          ],
          "carpet": [
           {
            "aaxis": {
             "endlinecolor": "#2a3f5f",
             "gridcolor": "white",
             "linecolor": "white",
             "minorgridcolor": "white",
             "startlinecolor": "#2a3f5f"
            },
            "baxis": {
             "endlinecolor": "#2a3f5f",
             "gridcolor": "white",
             "linecolor": "white",
             "minorgridcolor": "white",
             "startlinecolor": "#2a3f5f"
            },
            "type": "carpet"
           }
          ],
          "choropleth": [
           {
            "colorbar": {
             "outlinewidth": 0,
             "ticks": ""
            },
            "type": "choropleth"
           }
          ],
          "contour": [
           {
            "colorbar": {
             "outlinewidth": 0,
             "ticks": ""
            },
            "colorscale": [
             [
              0,
              "#0d0887"
             ],
             [
              0.1111111111111111,
              "#46039f"
             ],
             [
              0.2222222222222222,
              "#7201a8"
             ],
             [
              0.3333333333333333,
              "#9c179e"
             ],
             [
              0.4444444444444444,
              "#bd3786"
             ],
             [
              0.5555555555555556,
              "#d8576b"
             ],
             [
              0.6666666666666666,
              "#ed7953"
             ],
             [
              0.7777777777777778,
              "#fb9f3a"
             ],
             [
              0.8888888888888888,
              "#fdca26"
             ],
             [
              1,
              "#f0f921"
             ]
            ],
            "type": "contour"
           }
          ],
          "contourcarpet": [
           {
            "colorbar": {
             "outlinewidth": 0,
             "ticks": ""
            },
            "type": "contourcarpet"
           }
          ],
          "heatmap": [
           {
            "colorbar": {
             "outlinewidth": 0,
             "ticks": ""
            },
            "colorscale": [
             [
              0,
              "#0d0887"
             ],
             [
              0.1111111111111111,
              "#46039f"
             ],
             [
              0.2222222222222222,
              "#7201a8"
             ],
             [
              0.3333333333333333,
              "#9c179e"
             ],
             [
              0.4444444444444444,
              "#bd3786"
             ],
             [
              0.5555555555555556,
              "#d8576b"
             ],
             [
              0.6666666666666666,
              "#ed7953"
             ],
             [
              0.7777777777777778,
              "#fb9f3a"
             ],
             [
              0.8888888888888888,
              "#fdca26"
             ],
             [
              1,
              "#f0f921"
             ]
            ],
            "type": "heatmap"
           }
          ],
          "heatmapgl": [
           {
            "colorbar": {
             "outlinewidth": 0,
             "ticks": ""
            },
            "colorscale": [
             [
              0,
              "#0d0887"
             ],
             [
              0.1111111111111111,
              "#46039f"
             ],
             [
              0.2222222222222222,
              "#7201a8"
             ],
             [
              0.3333333333333333,
              "#9c179e"
             ],
             [
              0.4444444444444444,
              "#bd3786"
             ],
             [
              0.5555555555555556,
              "#d8576b"
             ],
             [
              0.6666666666666666,
              "#ed7953"
             ],
             [
              0.7777777777777778,
              "#fb9f3a"
             ],
             [
              0.8888888888888888,
              "#fdca26"
             ],
             [
              1,
              "#f0f921"
             ]
            ],
            "type": "heatmapgl"
           }
          ],
          "histogram": [
           {
            "marker": {
             "pattern": {
              "fillmode": "overlay",
              "size": 10,
              "solidity": 0.2
             }
            },
            "type": "histogram"
           }
          ],
          "histogram2d": [
           {
            "colorbar": {
             "outlinewidth": 0,
             "ticks": ""
            },
            "colorscale": [
             [
              0,
              "#0d0887"
             ],
             [
              0.1111111111111111,
              "#46039f"
             ],
             [
              0.2222222222222222,
              "#7201a8"
             ],
             [
              0.3333333333333333,
              "#9c179e"
             ],
             [
              0.4444444444444444,
              "#bd3786"
             ],
             [
              0.5555555555555556,
              "#d8576b"
             ],
             [
              0.6666666666666666,
              "#ed7953"
             ],
             [
              0.7777777777777778,
              "#fb9f3a"
             ],
             [
              0.8888888888888888,
              "#fdca26"
             ],
             [
              1,
              "#f0f921"
             ]
            ],
            "type": "histogram2d"
           }
          ],
          "histogram2dcontour": [
           {
            "colorbar": {
             "outlinewidth": 0,
             "ticks": ""
            },
            "colorscale": [
             [
              0,
              "#0d0887"
             ],
             [
              0.1111111111111111,
              "#46039f"
             ],
             [
              0.2222222222222222,
              "#7201a8"
             ],
             [
              0.3333333333333333,
              "#9c179e"
             ],
             [
              0.4444444444444444,
              "#bd3786"
             ],
             [
              0.5555555555555556,
              "#d8576b"
             ],
             [
              0.6666666666666666,
              "#ed7953"
             ],
             [
              0.7777777777777778,
              "#fb9f3a"
             ],
             [
              0.8888888888888888,
              "#fdca26"
             ],
             [
              1,
              "#f0f921"
             ]
            ],
            "type": "histogram2dcontour"
           }
          ],
          "mesh3d": [
           {
            "colorbar": {
             "outlinewidth": 0,
             "ticks": ""
            },
            "type": "mesh3d"
           }
          ],
          "parcoords": [
           {
            "line": {
             "colorbar": {
              "outlinewidth": 0,
              "ticks": ""
             }
            },
            "type": "parcoords"
           }
          ],
          "pie": [
           {
            "automargin": true,
            "type": "pie"
           }
          ],
          "scatter": [
           {
            "fillpattern": {
             "fillmode": "overlay",
             "size": 10,
             "solidity": 0.2
            },
            "type": "scatter"
           }
          ],
          "scatter3d": [
           {
            "line": {
             "colorbar": {
              "outlinewidth": 0,
              "ticks": ""
             }
            },
            "marker": {
             "colorbar": {
              "outlinewidth": 0,
              "ticks": ""
             }
            },
            "type": "scatter3d"
           }
          ],
          "scattercarpet": [
           {
            "marker": {
             "colorbar": {
              "outlinewidth": 0,
              "ticks": ""
             }
            },
            "type": "scattercarpet"
           }
          ],
          "scattergeo": [
           {
            "marker": {
             "colorbar": {
              "outlinewidth": 0,
              "ticks": ""
             }
            },
            "type": "scattergeo"
           }
          ],
          "scattergl": [
           {
            "marker": {
             "colorbar": {
              "outlinewidth": 0,
              "ticks": ""
             }
            },
            "type": "scattergl"
           }
          ],
          "scattermapbox": [
           {
            "marker": {
             "colorbar": {
              "outlinewidth": 0,
              "ticks": ""
             }
            },
            "type": "scattermapbox"
           }
          ],
          "scatterpolar": [
           {
            "marker": {
             "colorbar": {
              "outlinewidth": 0,
              "ticks": ""
             }
            },
            "type": "scatterpolar"
           }
          ],
          "scatterpolargl": [
           {
            "marker": {
             "colorbar": {
              "outlinewidth": 0,
              "ticks": ""
             }
            },
            "type": "scatterpolargl"
           }
          ],
          "scatterternary": [
           {
            "marker": {
             "colorbar": {
              "outlinewidth": 0,
              "ticks": ""
             }
            },
            "type": "scatterternary"
           }
          ],
          "surface": [
           {
            "colorbar": {
             "outlinewidth": 0,
             "ticks": ""
            },
            "colorscale": [
             [
              0,
              "#0d0887"
             ],
             [
              0.1111111111111111,
              "#46039f"
             ],
             [
              0.2222222222222222,
              "#7201a8"
             ],
             [
              0.3333333333333333,
              "#9c179e"
             ],
             [
              0.4444444444444444,
              "#bd3786"
             ],
             [
              0.5555555555555556,
              "#d8576b"
             ],
             [
              0.6666666666666666,
              "#ed7953"
             ],
             [
              0.7777777777777778,
              "#fb9f3a"
             ],
             [
              0.8888888888888888,
              "#fdca26"
             ],
             [
              1,
              "#f0f921"
             ]
            ],
            "type": "surface"
           }
          ],
          "table": [
           {
            "cells": {
             "fill": {
              "color": "#EBF0F8"
             },
             "line": {
              "color": "white"
             }
            },
            "header": {
             "fill": {
              "color": "#C8D4E3"
             },
             "line": {
              "color": "white"
             }
            },
            "type": "table"
           }
          ]
         },
         "layout": {
          "annotationdefaults": {
           "arrowcolor": "#2a3f5f",
           "arrowhead": 0,
           "arrowwidth": 1
          },
          "autotypenumbers": "strict",
          "coloraxis": {
           "colorbar": {
            "outlinewidth": 0,
            "ticks": ""
           }
          },
          "colorscale": {
           "diverging": [
            [
             0,
             "#8e0152"
            ],
            [
             0.1,
             "#c51b7d"
            ],
            [
             0.2,
             "#de77ae"
            ],
            [
             0.3,
             "#f1b6da"
            ],
            [
             0.4,
             "#fde0ef"
            ],
            [
             0.5,
             "#f7f7f7"
            ],
            [
             0.6,
             "#e6f5d0"
            ],
            [
             0.7,
             "#b8e186"
            ],
            [
             0.8,
             "#7fbc41"
            ],
            [
             0.9,
             "#4d9221"
            ],
            [
             1,
             "#276419"
            ]
           ],
           "sequential": [
            [
             0,
             "#0d0887"
            ],
            [
             0.1111111111111111,
             "#46039f"
            ],
            [
             0.2222222222222222,
             "#7201a8"
            ],
            [
             0.3333333333333333,
             "#9c179e"
            ],
            [
             0.4444444444444444,
             "#bd3786"
            ],
            [
             0.5555555555555556,
             "#d8576b"
            ],
            [
             0.6666666666666666,
             "#ed7953"
            ],
            [
             0.7777777777777778,
             "#fb9f3a"
            ],
            [
             0.8888888888888888,
             "#fdca26"
            ],
            [
             1,
             "#f0f921"
            ]
           ],
           "sequentialminus": [
            [
             0,
             "#0d0887"
            ],
            [
             0.1111111111111111,
             "#46039f"
            ],
            [
             0.2222222222222222,
             "#7201a8"
            ],
            [
             0.3333333333333333,
             "#9c179e"
            ],
            [
             0.4444444444444444,
             "#bd3786"
            ],
            [
             0.5555555555555556,
             "#d8576b"
            ],
            [
             0.6666666666666666,
             "#ed7953"
            ],
            [
             0.7777777777777778,
             "#fb9f3a"
            ],
            [
             0.8888888888888888,
             "#fdca26"
            ],
            [
             1,
             "#f0f921"
            ]
           ]
          },
          "colorway": [
           "#636efa",
           "#EF553B",
           "#00cc96",
           "#ab63fa",
           "#FFA15A",
           "#19d3f3",
           "#FF6692",
           "#B6E880",
           "#FF97FF",
           "#FECB52"
          ],
          "font": {
           "color": "#2a3f5f"
          },
          "geo": {
           "bgcolor": "white",
           "lakecolor": "white",
           "landcolor": "#E5ECF6",
           "showlakes": true,
           "showland": true,
           "subunitcolor": "white"
          },
          "hoverlabel": {
           "align": "left"
          },
          "hovermode": "closest",
          "mapbox": {
           "style": "light"
          },
          "paper_bgcolor": "white",
          "plot_bgcolor": "#E5ECF6",
          "polar": {
           "angularaxis": {
            "gridcolor": "white",
            "linecolor": "white",
            "ticks": ""
           },
           "bgcolor": "#E5ECF6",
           "radialaxis": {
            "gridcolor": "white",
            "linecolor": "white",
            "ticks": ""
           }
          },
          "scene": {
           "xaxis": {
            "backgroundcolor": "#E5ECF6",
            "gridcolor": "white",
            "gridwidth": 2,
            "linecolor": "white",
            "showbackground": true,
            "ticks": "",
            "zerolinecolor": "white"
           },
           "yaxis": {
            "backgroundcolor": "#E5ECF6",
            "gridcolor": "white",
            "gridwidth": 2,
            "linecolor": "white",
            "showbackground": true,
            "ticks": "",
            "zerolinecolor": "white"
           },
           "zaxis": {
            "backgroundcolor": "#E5ECF6",
            "gridcolor": "white",
            "gridwidth": 2,
            "linecolor": "white",
            "showbackground": true,
            "ticks": "",
            "zerolinecolor": "white"
           }
          },
          "shapedefaults": {
           "line": {
            "color": "#2a3f5f"
           }
          },
          "ternary": {
           "aaxis": {
            "gridcolor": "white",
            "linecolor": "white",
            "ticks": ""
           },
           "baxis": {
            "gridcolor": "white",
            "linecolor": "white",
            "ticks": ""
           },
           "bgcolor": "#E5ECF6",
           "caxis": {
            "gridcolor": "white",
            "linecolor": "white",
            "ticks": ""
           }
          },
          "title": {
           "x": 0.05
          },
          "xaxis": {
           "automargin": true,
           "gridcolor": "white",
           "linecolor": "white",
           "ticks": "",
           "title": {
            "standoff": 15
           },
           "zerolinecolor": "white",
           "zerolinewidth": 2
          },
          "yaxis": {
           "automargin": true,
           "gridcolor": "white",
           "linecolor": "white",
           "ticks": "",
           "title": {
            "standoff": 15
           },
           "zerolinecolor": "white",
           "zerolinewidth": 2
          }
         }
        },
        "title": {
         "text": "Commmon Words in Train Dataset"
        },
        "width": 700,
        "xaxis": {
         "anchor": "y",
         "domain": [
          0,
          1
         ],
         "title": {
          "text": "count"
         }
        },
        "yaxis": {
         "anchor": "x",
         "categoryarray": [
          "that",
          "have",
          "tomorrow",
          "my",
          "may",
          "it",
          "you",
          "be",
          "with",
          "at",
          "is",
          "for",
          "of",
          "I",
          "and",
          "a",
          "in",
          "on",
          "to",
          "the"
         ],
         "categoryorder": "array",
         "domain": [
          0,
          1
         ],
         "title": {
          "text": "Common_words"
         }
        }
       }
      }
     },
     "metadata": {},
     "output_type": "display_data"
    }
   ],
   "source": [
    "fig = px.bar(temp, x=\"count\", y=\"Common_words\", title='Commmon Words in Train Dataset', orientation='h', \n",
    "             width=700, height=700,color='Common_words')\n",
    "fig.show()"
   ]
  },
  {
   "cell_type": "code",
   "execution_count": 10,
   "metadata": {},
   "outputs": [],
   "source": [
    "def remove_stopword(x):\n",
    "    return [y for y in x if y not in stopwords.words('english')]\n",
    "train_df['temp_list'] = train_df['temp_list'].apply(lambda x:remove_stopword(x))"
   ]
  },
  {
   "cell_type": "code",
   "execution_count": 11,
   "metadata": {},
   "outputs": [
    {
     "data": {
      "text/html": [
       "<style type=\"text/css\">\n",
       "#T_b5170_row0_col1 {\n",
       "  background-color: #3f007d;\n",
       "  color: #f1f1f1;\n",
       "}\n",
       "#T_b5170_row1_col1 {\n",
       "  background-color: #5e3a98;\n",
       "  color: #f1f1f1;\n",
       "}\n",
       "#T_b5170_row2_col1 {\n",
       "  background-color: #a19eca;\n",
       "  color: #f1f1f1;\n",
       "}\n",
       "#T_b5170_row3_col1 {\n",
       "  background-color: #a3a0cb;\n",
       "  color: #f1f1f1;\n",
       "}\n",
       "#T_b5170_row4_col1 {\n",
       "  background-color: #b4b4d7;\n",
       "  color: #000000;\n",
       "}\n",
       "#T_b5170_row5_col1 {\n",
       "  background-color: #d1d2e7;\n",
       "  color: #000000;\n",
       "}\n",
       "#T_b5170_row6_col1 {\n",
       "  background-color: #d4d4e8;\n",
       "  color: #000000;\n",
       "}\n",
       "#T_b5170_row7_col1 {\n",
       "  background-color: #ddddec;\n",
       "  color: #000000;\n",
       "}\n",
       "#T_b5170_row8_col1 {\n",
       "  background-color: #e4e3f0;\n",
       "  color: #000000;\n",
       "}\n",
       "#T_b5170_row9_col1 {\n",
       "  background-color: #eae8f2;\n",
       "  color: #000000;\n",
       "}\n",
       "#T_b5170_row10_col1 {\n",
       "  background-color: #edebf4;\n",
       "  color: #000000;\n",
       "}\n",
       "#T_b5170_row11_col1 {\n",
       "  background-color: #efedf5;\n",
       "  color: #000000;\n",
       "}\n",
       "#T_b5170_row12_col1 {\n",
       "  background-color: #f1eff6;\n",
       "  color: #000000;\n",
       "}\n",
       "#T_b5170_row13_col1 {\n",
       "  background-color: #f3f1f7;\n",
       "  color: #000000;\n",
       "}\n",
       "#T_b5170_row14_col1 {\n",
       "  background-color: #f6f5f9;\n",
       "  color: #000000;\n",
       "}\n",
       "#T_b5170_row15_col1, #T_b5170_row16_col1, #T_b5170_row17_col1, #T_b5170_row18_col1 {\n",
       "  background-color: #fcfbfd;\n",
       "  color: #000000;\n",
       "}\n",
       "</style>\n",
       "<table id=\"T_b5170\">\n",
       "  <thead>\n",
       "    <tr>\n",
       "      <th class=\"blank level0\" >&nbsp;</th>\n",
       "      <th id=\"T_b5170_level0_col0\" class=\"col_heading level0 col0\" >Common_words</th>\n",
       "      <th id=\"T_b5170_level0_col1\" class=\"col_heading level0 col1\" >count</th>\n",
       "    </tr>\n",
       "  </thead>\n",
       "  <tbody>\n",
       "    <tr>\n",
       "      <th id=\"T_b5170_level0_row0\" class=\"row_heading level0 row0\" >1</th>\n",
       "      <td id=\"T_b5170_row0_col0\" class=\"data row0 col0\" >may</td>\n",
       "      <td id=\"T_b5170_row0_col1\" class=\"data row0 col1\" >1705</td>\n",
       "    </tr>\n",
       "    <tr>\n",
       "      <th id=\"T_b5170_level0_row1\" class=\"row_heading level0 row1\" >2</th>\n",
       "      <td id=\"T_b5170_row1_col0\" class=\"data row1 col0\" >tomorrow</td>\n",
       "      <td id=\"T_b5170_row1_col1\" class=\"data row1 col1\" >1489</td>\n",
       "    </tr>\n",
       "    <tr>\n",
       "      <th id=\"T_b5170_level0_row2\" class=\"row_heading level0 row2\" >3</th>\n",
       "      <td id=\"T_b5170_row2_col0\" class=\"data row2 col0\" >going</td>\n",
       "      <td id=\"T_b5170_row2_col1\" class=\"data row2 col1\" >1087</td>\n",
       "    </tr>\n",
       "    <tr>\n",
       "      <th id=\"T_b5170_level0_row3\" class=\"row_heading level0 row3\" >4</th>\n",
       "      <td id=\"T_b5170_row3_col0\" class=\"data row3 col0\" >-</td>\n",
       "      <td id=\"T_b5170_row3_col1\" class=\"data row3 col1\" >1076</td>\n",
       "    </tr>\n",
       "    <tr>\n",
       "      <th id=\"T_b5170_level0_row4\" class=\"row_heading level0 row4\" >5</th>\n",
       "      <td id=\"T_b5170_row4_col0\" class=\"data row4 col0\" >The</td>\n",
       "      <td id=\"T_b5170_row4_col1\" class=\"data row4 col1\" >993</td>\n",
       "    </tr>\n",
       "    <tr>\n",
       "      <th id=\"T_b5170_level0_row5\" class=\"row_heading level0 row5\" >6</th>\n",
       "      <td id=\"T_b5170_row5_col0\" class=\"data row5 col0\" >see</td>\n",
       "      <td id=\"T_b5170_row5_col1\" class=\"data row5 col1\" >850</td>\n",
       "    </tr>\n",
       "    <tr>\n",
       "      <th id=\"T_b5170_level0_row6\" class=\"row_heading level0 row6\" >7</th>\n",
       "      <td id=\"T_b5170_row6_col0\" class=\"data row6 col0\" >1st</td>\n",
       "      <td id=\"T_b5170_row6_col1\" class=\"data row6 col1\" >835</td>\n",
       "    </tr>\n",
       "    <tr>\n",
       "      <th id=\"T_b5170_level0_row7\" class=\"row_heading level0 row7\" >8</th>\n",
       "      <td id=\"T_b5170_row7_col0\" class=\"data row7 col0\" >like</td>\n",
       "      <td id=\"T_b5170_row7_col1\" class=\"data row7 col1\" >783</td>\n",
       "    </tr>\n",
       "    <tr>\n",
       "      <th id=\"T_b5170_level0_row8\" class=\"row_heading level0 row8\" >9</th>\n",
       "      <td id=\"T_b5170_row8_col0\" class=\"data row8 col0\" >get</td>\n",
       "      <td id=\"T_b5170_row8_col1\" class=\"data row8 col1\" >735</td>\n",
       "    </tr>\n",
       "    <tr>\n",
       "      <th id=\"T_b5170_level0_row9\" class=\"row_heading level0 row9\" >10</th>\n",
       "      <td id=\"T_b5170_row9_col0\" class=\"data row9 col0\" >day</td>\n",
       "      <td id=\"T_b5170_row9_col1\" class=\"data row9 col1\" >695</td>\n",
       "    </tr>\n",
       "    <tr>\n",
       "      <th id=\"T_b5170_level0_row10\" class=\"row_heading level0 row10\" >11</th>\n",
       "      <td id=\"T_b5170_row10_col0\" class=\"data row10 col0\" >&</td>\n",
       "      <td id=\"T_b5170_row10_col1\" class=\"data row10 col1\" >670</td>\n",
       "    </tr>\n",
       "    <tr>\n",
       "      <th id=\"T_b5170_level0_row11\" class=\"row_heading level0 row11\" >12</th>\n",
       "      <td id=\"T_b5170_row11_col0\" class=\"data row11 col0\" >night</td>\n",
       "      <td id=\"T_b5170_row11_col1\" class=\"data row11 col1\" >653</td>\n",
       "    </tr>\n",
       "    <tr>\n",
       "      <th id=\"T_b5170_level0_row12\" class=\"row_heading level0 row12\" >13</th>\n",
       "      <td id=\"T_b5170_row12_col0\" class=\"data row12 col0\" >go</td>\n",
       "      <td id=\"T_b5170_row12_col1\" class=\"data row12 col1\" >633</td>\n",
       "    </tr>\n",
       "    <tr>\n",
       "      <th id=\"T_b5170_level0_row13\" class=\"row_heading level0 row13\" >14</th>\n",
       "      <td id=\"T_b5170_row13_col0\" class=\"data row13 col0\" >time</td>\n",
       "      <td id=\"T_b5170_row13_col1\" class=\"data row13 col1\" >609</td>\n",
       "    </tr>\n",
       "    <tr>\n",
       "      <th id=\"T_b5170_level0_row14\" class=\"row_heading level0 row14\" >15</th>\n",
       "      <td id=\"T_b5170_row14_col0\" class=\"data row14 col0\" >2nd</td>\n",
       "      <td id=\"T_b5170_row14_col1\" class=\"data row14 col1\" >573</td>\n",
       "    </tr>\n",
       "    <tr>\n",
       "      <th id=\"T_b5170_level0_row15\" class=\"row_heading level0 row15\" >16</th>\n",
       "      <td id=\"T_b5170_row15_col0\" class=\"data row15 col0\" >Friday</td>\n",
       "      <td id=\"T_b5170_row15_col1\" class=\"data row15 col1\" >510</td>\n",
       "    </tr>\n",
       "    <tr>\n",
       "      <th id=\"T_b5170_level0_row16\" class=\"row_heading level0 row16\" >17</th>\n",
       "      <td id=\"T_b5170_row16_col0\" class=\"data row16 col0\" >game</td>\n",
       "      <td id=\"T_b5170_row16_col1\" class=\"data row16 col1\" >506</td>\n",
       "    </tr>\n",
       "    <tr>\n",
       "      <th id=\"T_b5170_level0_row17\" class=\"row_heading level0 row17\" >18</th>\n",
       "      <td id=\"T_b5170_row17_col0\" class=\"data row17 col0\" >I'm</td>\n",
       "      <td id=\"T_b5170_row17_col1\" class=\"data row17 col1\" >505</td>\n",
       "    </tr>\n",
       "    <tr>\n",
       "      <th id=\"T_b5170_level0_row18\" class=\"row_heading level0 row18\" >19</th>\n",
       "      <td id=\"T_b5170_row18_col0\" class=\"data row18 col0\" >one</td>\n",
       "      <td id=\"T_b5170_row18_col1\" class=\"data row18 col1\" >503</td>\n",
       "    </tr>\n",
       "  </tbody>\n",
       "</table>\n"
      ],
      "text/plain": [
       "<pandas.io.formats.style.Styler at 0x1ceb0d9ffd0>"
      ]
     },
     "execution_count": 11,
     "metadata": {},
     "output_type": "execute_result"
    }
   ],
   "source": [
    "top = Counter([item for sublist in train_df['temp_list'] for item in sublist])\n",
    "temp = pd.DataFrame(top.most_common(20))\n",
    "temp = temp.iloc[1:,:]\n",
    "temp.columns = ['Common_words','count']\n",
    "temp.style.background_gradient(cmap='Purples')"
   ]
  },
  {
   "cell_type": "code",
   "execution_count": 12,
   "metadata": {},
   "outputs": [
    {
     "data": {
      "text/html": [
       "<style type=\"text/css\">\n",
       "#T_4d41d_row0_col1 {\n",
       "  background-color: #00441b;\n",
       "  color: #f1f1f1;\n",
       "}\n",
       "#T_4d41d_row1_col1 {\n",
       "  background-color: #bee5b8;\n",
       "  color: #000000;\n",
       "}\n",
       "#T_4d41d_row2_col1 {\n",
       "  background-color: #c8e9c1;\n",
       "  color: #000000;\n",
       "}\n",
       "#T_4d41d_row3_col1 {\n",
       "  background-color: #ddf2d8;\n",
       "  color: #000000;\n",
       "}\n",
       "#T_4d41d_row4_col1 {\n",
       "  background-color: #e5f5e0;\n",
       "  color: #000000;\n",
       "}\n",
       "#T_4d41d_row5_col1 {\n",
       "  background-color: #e9f7e5;\n",
       "  color: #000000;\n",
       "}\n",
       "#T_4d41d_row6_col1 {\n",
       "  background-color: #eaf7e6;\n",
       "  color: #000000;\n",
       "}\n",
       "#T_4d41d_row7_col1 {\n",
       "  background-color: #ecf8e8;\n",
       "  color: #000000;\n",
       "}\n",
       "#T_4d41d_row8_col1 {\n",
       "  background-color: #eff9ec;\n",
       "  color: #000000;\n",
       "}\n",
       "#T_4d41d_row9_col1 {\n",
       "  background-color: #f0f9ed;\n",
       "  color: #000000;\n",
       "}\n",
       "#T_4d41d_row10_col1 {\n",
       "  background-color: #f1faee;\n",
       "  color: #000000;\n",
       "}\n",
       "#T_4d41d_row11_col1 {\n",
       "  background-color: #f2faef;\n",
       "  color: #000000;\n",
       "}\n",
       "#T_4d41d_row12_col1, #T_4d41d_row13_col1 {\n",
       "  background-color: #f3faf0;\n",
       "  color: #000000;\n",
       "}\n",
       "#T_4d41d_row14_col1 {\n",
       "  background-color: #f5fbf2;\n",
       "  color: #000000;\n",
       "}\n",
       "#T_4d41d_row15_col1, #T_4d41d_row16_col1 {\n",
       "  background-color: #f5fbf3;\n",
       "  color: #000000;\n",
       "}\n",
       "#T_4d41d_row17_col1, #T_4d41d_row18_col1 {\n",
       "  background-color: #f6fcf4;\n",
       "  color: #000000;\n",
       "}\n",
       "#T_4d41d_row19_col1 {\n",
       "  background-color: #f7fcf5;\n",
       "  color: #000000;\n",
       "}\n",
       "</style>\n",
       "<table id=\"T_4d41d\">\n",
       "  <thead>\n",
       "    <tr>\n",
       "      <th class=\"blank level0\" >&nbsp;</th>\n",
       "      <th id=\"T_4d41d_level0_col0\" class=\"col_heading level0 col0\" >Common_words</th>\n",
       "      <th id=\"T_4d41d_level0_col1\" class=\"col_heading level0 col1\" >count</th>\n",
       "    </tr>\n",
       "  </thead>\n",
       "  <tbody>\n",
       "    <tr>\n",
       "      <th id=\"T_4d41d_level0_row0\" class=\"row_heading level0 row0\" >0</th>\n",
       "      <td id=\"T_4d41d_row0_col0\" class=\"data row0 col0\" >I</td>\n",
       "      <td id=\"T_4d41d_row0_col1\" class=\"data row0 col1\" >1884</td>\n",
       "    </tr>\n",
       "    <tr>\n",
       "      <th id=\"T_4d41d_level0_row1\" class=\"row_heading level0 row1\" >1</th>\n",
       "      <td id=\"T_4d41d_row1_col0\" class=\"data row1 col0\" >tomorrow</td>\n",
       "      <td id=\"T_4d41d_row1_col1\" class=\"data row1 col1\" >703</td>\n",
       "    </tr>\n",
       "    <tr>\n",
       "      <th id=\"T_4d41d_level0_row2\" class=\"row_heading level0 row2\" >2</th>\n",
       "      <td id=\"T_4d41d_row2_col0\" class=\"data row2 col0\" >may</td>\n",
       "      <td id=\"T_4d41d_row2_col1\" class=\"data row2 col1\" >651</td>\n",
       "    </tr>\n",
       "    <tr>\n",
       "      <th id=\"T_4d41d_level0_row3\" class=\"row_heading level0 row3\" >3</th>\n",
       "      <td id=\"T_4d41d_row3_col0\" class=\"data row3 col0\" >see</td>\n",
       "      <td id=\"T_4d41d_row3_col1\" class=\"data row3 col1\" >503</td>\n",
       "    </tr>\n",
       "    <tr>\n",
       "      <th id=\"T_4d41d_level0_row4\" class=\"row_heading level0 row4\" >4</th>\n",
       "      <td id=\"T_4d41d_row4_col0\" class=\"data row4 col0\" >going</td>\n",
       "      <td id=\"T_4d41d_row4_col1\" class=\"data row4 col1\" >452</td>\n",
       "    </tr>\n",
       "    <tr>\n",
       "      <th id=\"T_4d41d_level0_row5\" class=\"row_heading level0 row5\" >5</th>\n",
       "      <td id=\"T_4d41d_row5_col0\" class=\"data row5 col0\" >-</td>\n",
       "      <td id=\"T_4d41d_row5_col1\" class=\"data row5 col1\" >409</td>\n",
       "    </tr>\n",
       "    <tr>\n",
       "      <th id=\"T_4d41d_level0_row6\" class=\"row_heading level0 row6\" >6</th>\n",
       "      <td id=\"T_4d41d_row6_col0\" class=\"data row6 col0\" >day</td>\n",
       "      <td id=\"T_4d41d_row6_col1\" class=\"data row6 col1\" >394</td>\n",
       "    </tr>\n",
       "    <tr>\n",
       "      <th id=\"T_4d41d_level0_row7\" class=\"row_heading level0 row7\" >7</th>\n",
       "      <td id=\"T_4d41d_row7_col0\" class=\"data row7 col0\" >The</td>\n",
       "      <td id=\"T_4d41d_row7_col1\" class=\"data row7 col1\" >369</td>\n",
       "    </tr>\n",
       "    <tr>\n",
       "      <th id=\"T_4d41d_level0_row8\" class=\"row_heading level0 row8\" >8</th>\n",
       "      <td id=\"T_4d41d_row8_col0\" class=\"data row8 col0\" >1st</td>\n",
       "      <td id=\"T_4d41d_row8_col1\" class=\"data row8 col1\" >337</td>\n",
       "    </tr>\n",
       "    <tr>\n",
       "      <th id=\"T_4d41d_level0_row9\" class=\"row_heading level0 row9\" >9</th>\n",
       "      <td id=\"T_4d41d_row9_col0\" class=\"data row9 col0\" >like</td>\n",
       "      <td id=\"T_4d41d_row9_col1\" class=\"data row9 col1\" >322</td>\n",
       "    </tr>\n",
       "    <tr>\n",
       "      <th id=\"T_4d41d_level0_row10\" class=\"row_heading level0 row10\" >10</th>\n",
       "      <td id=\"T_4d41d_row10_col0\" class=\"data row10 col0\" >night</td>\n",
       "      <td id=\"T_4d41d_row10_col1\" class=\"data row10 col1\" >314</td>\n",
       "    </tr>\n",
       "    <tr>\n",
       "      <th id=\"T_4d41d_level0_row11\" class=\"row_heading level0 row11\" >11</th>\n",
       "      <td id=\"T_4d41d_row11_col0\" class=\"data row11 col0\" >get</td>\n",
       "      <td id=\"T_4d41d_row11_col1\" class=\"data row11 col1\" >303</td>\n",
       "    </tr>\n",
       "    <tr>\n",
       "      <th id=\"T_4d41d_level0_row12\" class=\"row_heading level0 row12\" >12</th>\n",
       "      <td id=\"T_4d41d_row12_col0\" class=\"data row12 col0\" >:)</td>\n",
       "      <td id=\"T_4d41d_row12_col1\" class=\"data row12 col1\" >295</td>\n",
       "    </tr>\n",
       "    <tr>\n",
       "      <th id=\"T_4d41d_level0_row13\" class=\"row_heading level0 row13\" >13</th>\n",
       "      <td id=\"T_4d41d_row13_col0\" class=\"data row13 col0\" >I'm</td>\n",
       "      <td id=\"T_4d41d_row13_col1\" class=\"data row13 col1\" >290</td>\n",
       "    </tr>\n",
       "    <tr>\n",
       "      <th id=\"T_4d41d_level0_row14\" class=\"row_heading level0 row14\" >14</th>\n",
       "      <td id=\"T_4d41d_row14_col0\" class=\"data row14 col0\" >time</td>\n",
       "      <td id=\"T_4d41d_row14_col1\" class=\"data row14 col1\" >275</td>\n",
       "    </tr>\n",
       "    <tr>\n",
       "      <th id=\"T_4d41d_level0_row15\" class=\"row_heading level0 row15\" >15</th>\n",
       "      <td id=\"T_4d41d_row15_col0\" class=\"data row15 col0\" >good</td>\n",
       "      <td id=\"T_4d41d_row15_col1\" class=\"data row15 col1\" >269</td>\n",
       "    </tr>\n",
       "    <tr>\n",
       "      <th id=\"T_4d41d_level0_row16\" class=\"row_heading level0 row16\" >16</th>\n",
       "      <td id=\"T_4d41d_row16_col0\" class=\"data row16 col0\" >go</td>\n",
       "      <td id=\"T_4d41d_row16_col1\" class=\"data row16 col1\" >267</td>\n",
       "    </tr>\n",
       "    <tr>\n",
       "      <th id=\"T_4d41d_level0_row17\" class=\"row_heading level0 row17\" >17</th>\n",
       "      <td id=\"T_4d41d_row17_col0\" class=\"data row17 col0\" >&</td>\n",
       "      <td id=\"T_4d41d_row17_col1\" class=\"data row17 col1\" >260</td>\n",
       "    </tr>\n",
       "    <tr>\n",
       "      <th id=\"T_4d41d_level0_row18\" class=\"row_heading level0 row18\" >18</th>\n",
       "      <td id=\"T_4d41d_row18_col0\" class=\"data row18 col0\" >love</td>\n",
       "      <td id=\"T_4d41d_row18_col1\" class=\"data row18 col1\" >255</td>\n",
       "    </tr>\n",
       "    <tr>\n",
       "      <th id=\"T_4d41d_level0_row19\" class=\"row_heading level0 row19\" >19</th>\n",
       "      <td id=\"T_4d41d_row19_col0\" class=\"data row19 col0\" >2nd</td>\n",
       "      <td id=\"T_4d41d_row19_col1\" class=\"data row19 col1\" >244</td>\n",
       "    </tr>\n",
       "  </tbody>\n",
       "</table>\n"
      ],
      "text/plain": [
       "<pandas.io.formats.style.Styler at 0x1ceb0ccba30>"
      ]
     },
     "execution_count": 12,
     "metadata": {},
     "output_type": "execute_result"
    }
   ],
   "source": [
    "#MosT common positive words\n",
    "Positive_sent = train_df[train_df['sentiment']=='positive']\n",
    "\n",
    "top = Counter([item for sublist in Positive_sent['temp_list'] for item in sublist])\n",
    "temp_positive = pd.DataFrame(top.most_common(20))\n",
    "temp_positive.columns = ['Common_words','count']\n",
    "temp_positive.style.background_gradient(cmap='Greens')"
   ]
  },
  {
   "cell_type": "markdown",
   "metadata": {},
   "source": [
    "# **Dev set - Processing**"
   ]
  },
  {
   "cell_type": "code",
   "execution_count": 13,
   "metadata": {},
   "outputs": [
    {
     "name": "stdout",
     "output_type": "stream",
     "text": [
      "Size of dev dataset : (3653, 3)\n"
     ]
    },
    {
     "data": {
      "text/html": [
       "<div>\n",
       "<style scoped>\n",
       "    .dataframe tbody tr th:only-of-type {\n",
       "        vertical-align: middle;\n",
       "    }\n",
       "\n",
       "    .dataframe tbody tr th {\n",
       "        vertical-align: top;\n",
       "    }\n",
       "\n",
       "    .dataframe thead th {\n",
       "        text-align: right;\n",
       "    }\n",
       "</style>\n",
       "<table border=\"1\" class=\"dataframe\">\n",
       "  <thead>\n",
       "    <tr style=\"text-align: right;\">\n",
       "      <th></th>\n",
       "      <th>id</th>\n",
       "      <th>sentiment</th>\n",
       "      <th>tweet</th>\n",
       "    </tr>\n",
       "  </thead>\n",
       "  <tbody>\n",
       "    <tr>\n",
       "      <th>0</th>\n",
       "      <td>260097528899452929</td>\n",
       "      <td>neutral</td>\n",
       "      <td>Won the match #getin . Plus\\u002c tomorrow is ...</td>\n",
       "    </tr>\n",
       "    <tr>\n",
       "      <th>1</th>\n",
       "      <td>263791921753882624</td>\n",
       "      <td>neutral</td>\n",
       "      <td>Some areas of New England could see the first ...</td>\n",
       "    </tr>\n",
       "    <tr>\n",
       "      <th>2</th>\n",
       "      <td>264194578381410304</td>\n",
       "      <td>negative</td>\n",
       "      <td>@francesco_con40 2nd worst QB. DEFINITELY Tony...</td>\n",
       "    </tr>\n",
       "    <tr>\n",
       "      <th>3</th>\n",
       "      <td>264041328420204544</td>\n",
       "      <td>neutral</td>\n",
       "      <td>#Thailand Washington - US President Barack Oba...</td>\n",
       "    </tr>\n",
       "    <tr>\n",
       "      <th>4</th>\n",
       "      <td>263816256640126976</td>\n",
       "      <td>neutral</td>\n",
       "      <td>Did y\\u2019all hear what Tony Romo dressed up ...</td>\n",
       "    </tr>\n",
       "  </tbody>\n",
       "</table>\n",
       "</div>"
      ],
      "text/plain": [
       "                   id sentiment  \\\n",
       "0  260097528899452929   neutral   \n",
       "1  263791921753882624   neutral   \n",
       "2  264194578381410304  negative   \n",
       "3  264041328420204544   neutral   \n",
       "4  263816256640126976   neutral   \n",
       "\n",
       "                                               tweet  \n",
       "0  Won the match #getin . Plus\\u002c tomorrow is ...  \n",
       "1  Some areas of New England could see the first ...  \n",
       "2  @francesco_con40 2nd worst QB. DEFINITELY Tony...  \n",
       "3  #Thailand Washington - US President Barack Oba...  \n",
       "4  Did y\\u2019all hear what Tony Romo dressed up ...  "
      ]
     },
     "execution_count": 13,
     "metadata": {},
     "output_type": "execute_result"
    }
   ],
   "source": [
    "dev_path = glob.glob('./data/downloaded/*dev-A.tsv')\n",
    "dev_df = pd.concat(map(f, dev_path))\n",
    "dev_df = dev_df.rename(columns={0:'id', 1:'sentiment', 2:'tweet'})\n",
    "dev_df.sentiment = dev_df.sentiment.str.strip()\n",
    "print(f'Size of dev dataset : {dev_df.shape}')\n",
    "dev_df.head()"
   ]
  },
  {
   "cell_type": "code",
   "execution_count": 14,
   "metadata": {},
   "outputs": [],
   "source": [
    "# dev_df['sentiment'].replace('positive', 1,inplace=True)\n",
    "# dev_df['sentiment'].replace('negative', -1,inplace=True)\n",
    "# dev_df['sentiment'].replace('neutral', 0,inplace=True)\n",
    "# dev_df.head()"
   ]
  },
  {
   "cell_type": "code",
   "execution_count": 15,
   "metadata": {},
   "outputs": [
    {
     "name": "stdout",
     "output_type": "stream",
     "text": [
      " No. of duplicate values in dev dataset : 4\n"
     ]
    }
   ],
   "source": [
    "print(f' No. of duplicate values in dev dataset : {dev_df.duplicated().sum()}')"
   ]
  },
  {
   "cell_type": "code",
   "execution_count": 16,
   "metadata": {},
   "outputs": [
    {
     "data": {
      "text/html": [
       "<style type=\"text/css\">\n",
       "#T_09e34_row0_col1 {\n",
       "  background-color: #7f2704;\n",
       "  color: #f1f1f1;\n",
       "}\n",
       "#T_09e34_row1_col1 {\n",
       "  background-color: #a13403;\n",
       "  color: #f1f1f1;\n",
       "}\n",
       "#T_09e34_row2_col1 {\n",
       "  background-color: #fff5eb;\n",
       "  color: #000000;\n",
       "}\n",
       "</style>\n",
       "<table id=\"T_09e34\">\n",
       "  <thead>\n",
       "    <tr>\n",
       "      <th class=\"blank level0\" >&nbsp;</th>\n",
       "      <th id=\"T_09e34_level0_col0\" class=\"col_heading level0 col0\" >sentiment</th>\n",
       "      <th id=\"T_09e34_level0_col1\" class=\"col_heading level0 col1\" >tweet</th>\n",
       "    </tr>\n",
       "  </thead>\n",
       "  <tbody>\n",
       "    <tr>\n",
       "      <th id=\"T_09e34_level0_row0\" class=\"row_heading level0 row0\" >1</th>\n",
       "      <td id=\"T_09e34_row0_col0\" class=\"data row0 col0\" >neutral</td>\n",
       "      <td id=\"T_09e34_row0_col1\" class=\"data row0 col1\" >1504</td>\n",
       "    </tr>\n",
       "    <tr>\n",
       "      <th id=\"T_09e34_level0_row1\" class=\"row_heading level0 row1\" >2</th>\n",
       "      <td id=\"T_09e34_row1_col0\" class=\"data row1 col0\" >positive</td>\n",
       "      <td id=\"T_09e34_row1_col1\" class=\"data row1 col1\" >1418</td>\n",
       "    </tr>\n",
       "    <tr>\n",
       "      <th id=\"T_09e34_level0_row2\" class=\"row_heading level0 row2\" >0</th>\n",
       "      <td id=\"T_09e34_row2_col0\" class=\"data row2 col0\" >negative</td>\n",
       "      <td id=\"T_09e34_row2_col1\" class=\"data row2 col1\" >731</td>\n",
       "    </tr>\n",
       "  </tbody>\n",
       "</table>\n"
      ],
      "text/plain": [
       "<pandas.io.formats.style.Styler at 0x1ceb0ccb850>"
      ]
     },
     "execution_count": 16,
     "metadata": {},
     "output_type": "execute_result"
    }
   ],
   "source": [
    "dev_sentiment_cnt = dev_df.groupby('sentiment').count()['tweet'].reset_index().sort_values(by='tweet',ascending=False)\n",
    "dev_sentiment_cnt.style.background_gradient(cmap='Oranges')"
   ]
  },
  {
   "cell_type": "markdown",
   "metadata": {},
   "source": [
    "# **Test set - Processing**"
   ]
  },
  {
   "cell_type": "code",
   "execution_count": 17,
   "metadata": {},
   "outputs": [
    {
     "name": "stdout",
     "output_type": "stream",
     "text": [
      "Size of test dataset : (30422, 3)\n"
     ]
    },
    {
     "data": {
      "text/html": [
       "<div>\n",
       "<style scoped>\n",
       "    .dataframe tbody tr th:only-of-type {\n",
       "        vertical-align: middle;\n",
       "    }\n",
       "\n",
       "    .dataframe tbody tr th {\n",
       "        vertical-align: top;\n",
       "    }\n",
       "\n",
       "    .dataframe thead th {\n",
       "        text-align: right;\n",
       "    }\n",
       "</style>\n",
       "<table border=\"1\" class=\"dataframe\">\n",
       "  <thead>\n",
       "    <tr style=\"text-align: right;\">\n",
       "      <th></th>\n",
       "      <th>id</th>\n",
       "      <th>sentiment</th>\n",
       "      <th>tweet</th>\n",
       "    </tr>\n",
       "  </thead>\n",
       "  <tbody>\n",
       "    <tr>\n",
       "      <th>0</th>\n",
       "      <td>264238274963451904</td>\n",
       "      <td>positive</td>\n",
       "      <td>@jjuueellzz down in the Atlantic city, ventnor...</td>\n",
       "    </tr>\n",
       "    <tr>\n",
       "      <th>1</th>\n",
       "      <td>218775148495515649</td>\n",
       "      <td>positive</td>\n",
       "      <td>Musical awareness: Great Big Beautiful Tomorro...</td>\n",
       "    </tr>\n",
       "    <tr>\n",
       "      <th>2</th>\n",
       "      <td>258965201766998017</td>\n",
       "      <td>neutral</td>\n",
       "      <td>On Radio786 100.4fm 7:10 Fri Oct 19 Labour ana...</td>\n",
       "    </tr>\n",
       "    <tr>\n",
       "      <th>3</th>\n",
       "      <td>262926411352903682</td>\n",
       "      <td>negative</td>\n",
       "      <td>Kapan sih lo ngebuktiin,jan ngomong doang Susa...</td>\n",
       "    </tr>\n",
       "    <tr>\n",
       "      <th>4</th>\n",
       "      <td>171874368908050432</td>\n",
       "      <td>neutral</td>\n",
       "      <td>Excuse the connectivity of this live stream, f...</td>\n",
       "    </tr>\n",
       "  </tbody>\n",
       "</table>\n",
       "</div>"
      ],
      "text/plain": [
       "                   id sentiment  \\\n",
       "0  264238274963451904  positive   \n",
       "1  218775148495515649  positive   \n",
       "2  258965201766998017   neutral   \n",
       "3  262926411352903682  negative   \n",
       "4  171874368908050432   neutral   \n",
       "\n",
       "                                               tweet  \n",
       "0  @jjuueellzz down in the Atlantic city, ventnor...  \n",
       "1  Musical awareness: Great Big Beautiful Tomorro...  \n",
       "2  On Radio786 100.4fm 7:10 Fri Oct 19 Labour ana...  \n",
       "3  Kapan sih lo ngebuktiin,jan ngomong doang Susa...  \n",
       "4  Excuse the connectivity of this live stream, f...  "
      ]
     },
     "execution_count": 17,
     "metadata": {},
     "output_type": "execute_result"
    }
   ],
   "source": [
    "test_path = glob.glob('./data/downloaded/*test-A.tsv')\n",
    "test_df = pd.concat(map(f, test_path))\n",
    "test_df = test_df.drop(columns=[3], axis=1) # because of timestamp at the end of twitter-2016test-A.tsv file, it show 4th column that is not need for our analysis\n",
    "test_df = test_df.rename(columns={0:'id', 1:'sentiment', 2:'tweet'})\n",
    "test_df.sentiment = test_df.sentiment.str.strip()\n",
    "print(f'Size of test dataset : {test_df.shape}')\n",
    "test_df.head()"
   ]
  },
  {
   "cell_type": "code",
   "execution_count": 18,
   "metadata": {},
   "outputs": [],
   "source": [
    "# test_df['sentiment'].replace('positive', 1,inplace=True)\n",
    "# test_df['sentiment'].replace('negative', -1,inplace=True)\n",
    "# test_df['sentiment'].replace('neutral', 0,inplace=True)\n",
    "# test_df.head()"
   ]
  },
  {
   "cell_type": "code",
   "execution_count": 19,
   "metadata": {},
   "outputs": [
    {
     "name": "stdout",
     "output_type": "stream",
     "text": [
      " No. of duplicate values in test dataset : 66\n"
     ]
    }
   ],
   "source": [
    "print(f' No. of duplicate values in test dataset : {test_df.duplicated().sum()}')"
   ]
  },
  {
   "cell_type": "code",
   "execution_count": 20,
   "metadata": {},
   "outputs": [
    {
     "data": {
      "text/html": [
       "<style type=\"text/css\">\n",
       "#T_df512_row0_col1 {\n",
       "  background-color: #7f2704;\n",
       "  color: #f1f1f1;\n",
       "}\n",
       "#T_df512_row1_col1 {\n",
       "  background-color: #de5005;\n",
       "  color: #f1f1f1;\n",
       "}\n",
       "#T_df512_row2_col1 {\n",
       "  background-color: #fff5eb;\n",
       "  color: #000000;\n",
       "}\n",
       "</style>\n",
       "<table id=\"T_df512\">\n",
       "  <thead>\n",
       "    <tr>\n",
       "      <th class=\"blank level0\" >&nbsp;</th>\n",
       "      <th id=\"T_df512_level0_col0\" class=\"col_heading level0 col0\" >sentiment</th>\n",
       "      <th id=\"T_df512_level0_col1\" class=\"col_heading level0 col1\" >tweet</th>\n",
       "    </tr>\n",
       "  </thead>\n",
       "  <tbody>\n",
       "    <tr>\n",
       "      <th id=\"T_df512_level0_row0\" class=\"row_heading level0 row0\" >1</th>\n",
       "      <td id=\"T_df512_row0_col0\" class=\"data row0 col0\" >neutral</td>\n",
       "      <td id=\"T_df512_row0_col1\" class=\"data row0 col1\" >14192</td>\n",
       "    </tr>\n",
       "    <tr>\n",
       "      <th id=\"T_df512_level0_row1\" class=\"row_heading level0 row1\" >2</th>\n",
       "      <td id=\"T_df512_row1_col0\" class=\"data row1 col0\" >positive</td>\n",
       "      <td id=\"T_df512_row1_col1\" class=\"data row1 col1\" >11548</td>\n",
       "    </tr>\n",
       "    <tr>\n",
       "      <th id=\"T_df512_level0_row2\" class=\"row_heading level0 row2\" >0</th>\n",
       "      <td id=\"T_df512_row2_col0\" class=\"data row2 col0\" >negative</td>\n",
       "      <td id=\"T_df512_row2_col1\" class=\"data row2 col1\" >4682</td>\n",
       "    </tr>\n",
       "  </tbody>\n",
       "</table>\n"
      ],
      "text/plain": [
       "<pandas.io.formats.style.Styler at 0x1ce996bb8e0>"
      ]
     },
     "execution_count": 20,
     "metadata": {},
     "output_type": "execute_result"
    }
   ],
   "source": [
    "test_sentiment_cnt = test_df.groupby('sentiment').count()['tweet'].reset_index().sort_values(by='tweet',ascending=False)\n",
    "test_sentiment_cnt.style.background_gradient(cmap='Oranges')"
   ]
  },
  {
   "cell_type": "code",
   "execution_count": 21,
   "metadata": {},
   "outputs": [
    {
     "data": {
      "image/png": "[encoded data removed]",
      "text/plain": [
       "<Figure size 300x300 with 1 Axes>"
      ]
     },
     "metadata": {},
     "output_type": "display_data"
    }
   ],
   "source": [
    "plt.figure(figsize=(3,3))\n",
    "sns.countplot(x='sentiment',data=test_df).set_title('Sentiment Distribution of Test set')\n",
    "plt.show()"
   ]
  },
  {
   "cell_type": "code",
   "execution_count": 22,
   "metadata": {},
   "outputs": [
    {
     "data": {
      "image/png": "[encoded data removed]",
      "text/plain": [
       "<Figure size 1000x500 with 3 Axes>"
      ]
     },
     "metadata": {},
     "output_type": "display_data"
    }
   ],
   "source": [
    "fig, ax = plt.subplots(1, 3, sharex='all', figsize=(10,5))\n",
    "fig.suptitle('Sentiment Distribution In Tweets', fontsize=20)\n",
    "sns.countplot(ax = ax[0], x='sentiment',data=dev_df)\n",
    "ax[0].set(xlabel=None) \n",
    "ax[0].set_title('Dev Set')\n",
    "sns.countplot(ax = ax[1], x='sentiment',data=train_df)\n",
    "ax[1].set_title('Train Set')\n",
    "ax[1].set(xlabel=None, ylabel=None) \n",
    "sns.countplot(ax = ax[2], x='sentiment',data=test_df)\n",
    "ax[2].set_title('Test Set')\n",
    "ax[2].set(xlabel=None, ylabel=None) \n",
    "plt.tight_layout()\n",
    "plt.show()"
   ]
  },
  {
   "cell_type": "code",
   "execution_count": 23,
   "metadata": {},
   "outputs": [],
   "source": [
    "train_df.drop(columns=['temp_list'], inplace=True)"
   ]
  },
  {
   "attachments": {},
   "cell_type": "markdown",
   "metadata": {},
   "source": [
    "# **DataSet Pre-Processing**"
   ]
  },
  {
   "cell_type": "code",
   "execution_count": 24,
   "metadata": {},
   "outputs": [],
   "source": [
    "def decode_unicode_chars(tweets):\n",
    "    tweets = tweets.str.encode('utf-8')\n",
    "    return tweets.str.decode('unicode_escape')"
   ]
  },
  {
   "cell_type": "code",
   "execution_count": 25,
   "metadata": {},
   "outputs": [],
   "source": [
    "# train_df.tweet = decode_unicode_chars(train_df.tweet)\n",
    "# dev_df.tweet = decode_unicode_chars(dev_df.tweet)\n",
    "# test_df.tweet = decode_unicode_chars(test_df.tweet)"
   ]
  },
  {
   "cell_type": "code",
   "execution_count": 26,
   "metadata": {},
   "outputs": [],
   "source": [
    "def preprocess(tweets):\n",
    "    # Lowercase the tweets\n",
    "    tweets = [tweet.lower() for tweet in tweets]\n",
    "    \n",
    "    # Remove URLs, hashtags, and mentions\n",
    "    tweets = [re.sub(r'(?:https?:\\/\\/)?(?:[\\w]+\\.)+[\\w]+(?:\\/[\\w\\d]+)?', '', tweet) for tweet in tweets]\n",
    "    tweets = [re.sub(r'#\\w+', '', tweet) for tweet in tweets]\n",
    "    tweets = [re.sub(r'@\\w+', '', tweet) for tweet in tweets]\n",
    "    \n",
    "    # Remove emojis\n",
    "    tweets = [emoji.demojize(tweet) for tweet in tweets]\n",
    "    \n",
    "    # Remove punctuation and extra whitespace\n",
    "    tweets = [re.sub(r'[^\\w\\s]', '', tweet) for tweet in tweets]\n",
    "    tweets = [re.sub(r'\\s+', ' ', tweet) for tweet in tweets]\n",
    "    \n",
    "    # Remove stopwords\n",
    "    stopwords = set(nltk.corpus.stopwords.words('english'))\n",
    "    tweets = [[word for word in tweet.split() if word not in stopwords] for tweet in tweets]\n",
    "    \n",
    "    # Lemmatize the words\n",
    "    # nlp = spacy.load('en_core_web_sm')\n",
    "    # tweets = [[nlp(word)[0].lemma_ for word in tweet] for tweet in tweets]\n",
    "    lemmatizer = WordNetLemmatizer()\n",
    "    tweets = [[lemmatizer.lemmatize(word) for word in tweet] for tweet in tweets]\n",
    "    \n",
    "    # Stem the words\n",
    "    # stemmer = nltk.stem.SnowballStemmer('english')\n",
    "    # tweets = [[stemmer.stem(word) for word in tweet] for tweet in tweets]\n",
    "    \n",
    "    # Join the words back into a single string\n",
    "    tweets = [' '.join(tweet) for tweet in tweets]\n",
    "    \n",
    "    return tweets"
   ]
  },
  {
   "cell_type": "code",
   "execution_count": 27,
   "metadata": {},
   "outputs": [
    {
     "data": {
      "text/html": [
       "<div>\n",
       "<style scoped>\n",
       "    .dataframe tbody tr th:only-of-type {\n",
       "        vertical-align: middle;\n",
       "    }\n",
       "\n",
       "    .dataframe tbody tr th {\n",
       "        vertical-align: top;\n",
       "    }\n",
       "\n",
       "    .dataframe thead th {\n",
       "        text-align: right;\n",
       "    }\n",
       "</style>\n",
       "<table border=\"1\" class=\"dataframe\">\n",
       "  <thead>\n",
       "    <tr style=\"text-align: right;\">\n",
       "      <th></th>\n",
       "      <th>id</th>\n",
       "      <th>sentiment</th>\n",
       "      <th>tweet</th>\n",
       "      <th>processed_tweet</th>\n",
       "    </tr>\n",
       "  </thead>\n",
       "  <tbody>\n",
       "    <tr>\n",
       "      <th>0</th>\n",
       "      <td>264183816548130816</td>\n",
       "      <td>positive</td>\n",
       "      <td>Gas by my house hit $3.39!!!! I’m going to Cha...</td>\n",
       "      <td>gas house hit im going chapel hill sat</td>\n",
       "    </tr>\n",
       "    <tr>\n",
       "      <th>1</th>\n",
       "      <td>263405084770172928</td>\n",
       "      <td>negative</td>\n",
       "      <td>Theo Walcott is still shit, watch Rafa and Joh...</td>\n",
       "      <td>theo walcott still shit watch rafa johnny deal...</td>\n",
       "    </tr>\n",
       "    <tr>\n",
       "      <th>2</th>\n",
       "      <td>262163168678248449</td>\n",
       "      <td>negative</td>\n",
       "      <td>its not that I’m a GSP fan, i just hate Nick D...</td>\n",
       "      <td>im gsp fan hate nick diaz cant wait february</td>\n",
       "    </tr>\n",
       "    <tr>\n",
       "      <th>3</th>\n",
       "      <td>264249301910310912</td>\n",
       "      <td>negative</td>\n",
       "      <td>Iranian general says Israel’s Iron Dome can’t ...</td>\n",
       "      <td>iranian general say israel iron dome cant deal...</td>\n",
       "    </tr>\n",
       "    <tr>\n",
       "      <th>4</th>\n",
       "      <td>262682041215234048</td>\n",
       "      <td>neutral</td>\n",
       "      <td>Tehran, Mon Amour: Obama Tried to Establish Ti...</td>\n",
       "      <td>tehran mon amour obama tried establish tie mul...</td>\n",
       "    </tr>\n",
       "  </tbody>\n",
       "</table>\n",
       "</div>"
      ],
      "text/plain": [
       "                   id sentiment  \\\n",
       "0  264183816548130816  positive   \n",
       "1  263405084770172928  negative   \n",
       "2  262163168678248449  negative   \n",
       "3  264249301910310912  negative   \n",
       "4  262682041215234048   neutral   \n",
       "\n",
       "                                               tweet  \\\n",
       "0  Gas by my house hit $3.39!!!! I’m going to Cha...   \n",
       "1  Theo Walcott is still shit, watch Rafa and Joh...   \n",
       "2  its not that I’m a GSP fan, i just hate Nick D...   \n",
       "3  Iranian general says Israel’s Iron Dome can’t ...   \n",
       "4  Tehran, Mon Amour: Obama Tried to Establish Ti...   \n",
       "\n",
       "                                     processed_tweet  \n",
       "0             gas house hit im going chapel hill sat  \n",
       "1  theo walcott still shit watch rafa johnny deal...  \n",
       "2       im gsp fan hate nick diaz cant wait february  \n",
       "3  iranian general say israel iron dome cant deal...  \n",
       "4  tehran mon amour obama tried establish tie mul...  "
      ]
     },
     "execution_count": 27,
     "metadata": {},
     "output_type": "execute_result"
    }
   ],
   "source": [
    "train_df['processed_tweet'] = preprocess(train_df.tweet)\n",
    "train_df.head()"
   ]
  },
  {
   "cell_type": "code",
   "execution_count": 28,
   "metadata": {},
   "outputs": [
    {
     "data": {
      "text/html": [
       "<div>\n",
       "<style scoped>\n",
       "    .dataframe tbody tr th:only-of-type {\n",
       "        vertical-align: middle;\n",
       "    }\n",
       "\n",
       "    .dataframe tbody tr th {\n",
       "        vertical-align: top;\n",
       "    }\n",
       "\n",
       "    .dataframe thead th {\n",
       "        text-align: right;\n",
       "    }\n",
       "</style>\n",
       "<table border=\"1\" class=\"dataframe\">\n",
       "  <thead>\n",
       "    <tr style=\"text-align: right;\">\n",
       "      <th></th>\n",
       "      <th>id</th>\n",
       "      <th>sentiment</th>\n",
       "      <th>tweet</th>\n",
       "      <th>processed_tweet</th>\n",
       "    </tr>\n",
       "  </thead>\n",
       "  <tbody>\n",
       "    <tr>\n",
       "      <th>0</th>\n",
       "      <td>260097528899452929</td>\n",
       "      <td>neutral</td>\n",
       "      <td>Won the match #getin . Plus\\u002c tomorrow is ...</td>\n",
       "      <td>match plusu002c tomorrow busy dayu002c awarene...</td>\n",
       "    </tr>\n",
       "    <tr>\n",
       "      <th>1</th>\n",
       "      <td>263791921753882624</td>\n",
       "      <td>neutral</td>\n",
       "      <td>Some areas of New England could see the first ...</td>\n",
       "      <td>area new england could see first flake season ...</td>\n",
       "    </tr>\n",
       "    <tr>\n",
       "      <th>2</th>\n",
       "      <td>264194578381410304</td>\n",
       "      <td>negative</td>\n",
       "      <td>@francesco_con40 2nd worst QB. DEFINITELY Tony...</td>\n",
       "      <td>2nd worst qb definitely tony romo man like sha...</td>\n",
       "    </tr>\n",
       "    <tr>\n",
       "      <th>3</th>\n",
       "      <td>264041328420204544</td>\n",
       "      <td>neutral</td>\n",
       "      <td>#Thailand Washington - US President Barack Oba...</td>\n",
       "      <td>washington u president barack obama vowed wedn...</td>\n",
       "    </tr>\n",
       "    <tr>\n",
       "      <th>4</th>\n",
       "      <td>263816256640126976</td>\n",
       "      <td>neutral</td>\n",
       "      <td>Did y\\u2019all hear what Tony Romo dressed up ...</td>\n",
       "      <td>yu2019all hear tony romo dressed halloween gia...</td>\n",
       "    </tr>\n",
       "  </tbody>\n",
       "</table>\n",
       "</div>"
      ],
      "text/plain": [
       "                   id sentiment  \\\n",
       "0  260097528899452929   neutral   \n",
       "1  263791921753882624   neutral   \n",
       "2  264194578381410304  negative   \n",
       "3  264041328420204544   neutral   \n",
       "4  263816256640126976   neutral   \n",
       "\n",
       "                                               tweet  \\\n",
       "0  Won the match #getin . Plus\\u002c tomorrow is ...   \n",
       "1  Some areas of New England could see the first ...   \n",
       "2  @francesco_con40 2nd worst QB. DEFINITELY Tony...   \n",
       "3  #Thailand Washington - US President Barack Oba...   \n",
       "4  Did y\\u2019all hear what Tony Romo dressed up ...   \n",
       "\n",
       "                                     processed_tweet  \n",
       "0  match plusu002c tomorrow busy dayu002c awarene...  \n",
       "1  area new england could see first flake season ...  \n",
       "2  2nd worst qb definitely tony romo man like sha...  \n",
       "3  washington u president barack obama vowed wedn...  \n",
       "4  yu2019all hear tony romo dressed halloween gia...  "
      ]
     },
     "execution_count": 28,
     "metadata": {},
     "output_type": "execute_result"
    }
   ],
   "source": [
    "dev_df['processed_tweet'] = preprocess(dev_df.tweet)\n",
    "dev_df.head()"
   ]
  },
  {
   "cell_type": "code",
   "execution_count": 29,
   "metadata": {},
   "outputs": [
    {
     "data": {
      "text/html": [
       "<div>\n",
       "<style scoped>\n",
       "    .dataframe tbody tr th:only-of-type {\n",
       "        vertical-align: middle;\n",
       "    }\n",
       "\n",
       "    .dataframe tbody tr th {\n",
       "        vertical-align: top;\n",
       "    }\n",
       "\n",
       "    .dataframe thead th {\n",
       "        text-align: right;\n",
       "    }\n",
       "</style>\n",
       "<table border=\"1\" class=\"dataframe\">\n",
       "  <thead>\n",
       "    <tr style=\"text-align: right;\">\n",
       "      <th></th>\n",
       "      <th>id</th>\n",
       "      <th>sentiment</th>\n",
       "      <th>tweet</th>\n",
       "      <th>processed_tweet</th>\n",
       "    </tr>\n",
       "  </thead>\n",
       "  <tbody>\n",
       "    <tr>\n",
       "      <th>0</th>\n",
       "      <td>264238274963451904</td>\n",
       "      <td>positive</td>\n",
       "      <td>@jjuueellzz down in the Atlantic city, ventnor...</td>\n",
       "      <td>atlantic city ventnor margate ocean city area ...</td>\n",
       "    </tr>\n",
       "    <tr>\n",
       "      <th>1</th>\n",
       "      <td>218775148495515649</td>\n",
       "      <td>positive</td>\n",
       "      <td>Musical awareness: Great Big Beautiful Tomorro...</td>\n",
       "      <td>musical awareness great big beautiful tomorrow...</td>\n",
       "    </tr>\n",
       "    <tr>\n",
       "      <th>2</th>\n",
       "      <td>258965201766998017</td>\n",
       "      <td>neutral</td>\n",
       "      <td>On Radio786 100.4fm 7:10 Fri Oct 19 Labour ana...</td>\n",
       "      <td>radio786 710 fri oct 19 labour analyst shawn h...</td>\n",
       "    </tr>\n",
       "    <tr>\n",
       "      <th>3</th>\n",
       "      <td>262926411352903682</td>\n",
       "      <td>negative</td>\n",
       "      <td>Kapan sih lo ngebuktiin,jan ngomong doang Susa...</td>\n",
       "      <td>kapan sih lo ngebuktiinjan ngomong doang susah...</td>\n",
       "    </tr>\n",
       "    <tr>\n",
       "      <th>4</th>\n",
       "      <td>171874368908050432</td>\n",
       "      <td>neutral</td>\n",
       "      <td>Excuse the connectivity of this live stream, f...</td>\n",
       "      <td>excuse connectivity live stream baba amr many ...</td>\n",
       "    </tr>\n",
       "  </tbody>\n",
       "</table>\n",
       "</div>"
      ],
      "text/plain": [
       "                   id sentiment  \\\n",
       "0  264238274963451904  positive   \n",
       "1  218775148495515649  positive   \n",
       "2  258965201766998017   neutral   \n",
       "3  262926411352903682  negative   \n",
       "4  171874368908050432   neutral   \n",
       "\n",
       "                                               tweet  \\\n",
       "0  @jjuueellzz down in the Atlantic city, ventnor...   \n",
       "1  Musical awareness: Great Big Beautiful Tomorro...   \n",
       "2  On Radio786 100.4fm 7:10 Fri Oct 19 Labour ana...   \n",
       "3  Kapan sih lo ngebuktiin,jan ngomong doang Susa...   \n",
       "4  Excuse the connectivity of this live stream, f...   \n",
       "\n",
       "                                     processed_tweet  \n",
       "0  atlantic city ventnor margate ocean city area ...  \n",
       "1  musical awareness great big beautiful tomorrow...  \n",
       "2  radio786 710 fri oct 19 labour analyst shawn h...  \n",
       "3  kapan sih lo ngebuktiinjan ngomong doang susah...  \n",
       "4  excuse connectivity live stream baba amr many ...  "
      ]
     },
     "execution_count": 29,
     "metadata": {},
     "output_type": "execute_result"
    }
   ],
   "source": [
    "test_df['processed_tweet'] = preprocess(test_df.tweet)\n",
    "test_df.head()"
   ]
  },
  {
   "cell_type": "code",
   "execution_count": 30,
   "metadata": {},
   "outputs": [],
   "source": [
    "# train_df['sentiment'].replace('positive', 1,inplace=True)\n",
    "# train_df['sentiment'].replace('negative', -1,inplace=True)\n",
    "# train_df['sentiment'].replace('neutral', 0,inplace=True)\n",
    "# train_df.head()"
   ]
  },
  {
   "cell_type": "code",
   "execution_count": 31,
   "metadata": {},
   "outputs": [],
   "source": [
    "# https://machinelearningmastery.com/random-oversampling-and-undersampling-for-imbalanced-classification/\n",
    "ros = RandomOverSampler()\n",
    "train_x, train_y = ros.fit_resample(np.array(train_df['processed_tweet']).reshape(-1, 1), np.array(train_df['sentiment']).reshape(-1, 1));\n",
    "train_ = pd.DataFrame(list(zip([x[0] for x in train_x], train_y)), columns = ['processed_tweet', 'sentiment']);"
   ]
  },
  {
   "cell_type": "code",
   "execution_count": 32,
   "metadata": {},
   "outputs": [],
   "source": [
    "X = train_['processed_tweet'].values\n",
    "y = train_['sentiment'].values"
   ]
  },
  {
   "cell_type": "code",
   "execution_count": 33,
   "metadata": {},
   "outputs": [],
   "source": [
    "X_train, X_valid, y_train, y_valid = train_test_split(X, y, test_size=0.2, stratify=y, random_state=42)"
   ]
  },
  {
   "cell_type": "code",
   "execution_count": 34,
   "metadata": {},
   "outputs": [],
   "source": [
    "X_test = test_df['processed_tweet'].values\n",
    "y_test = test_df['sentiment'].values"
   ]
  },
  {
   "attachments": {},
   "cell_type": "markdown",
   "metadata": {},
   "source": [
    "# **Naive Bayes Model**"
   ]
  },
  {
   "cell_type": "code",
   "execution_count": 35,
   "metadata": {},
   "outputs": [
    {
     "name": "stdout",
     "output_type": "stream",
     "text": [
      "              precision    recall  f1-score   support\n",
      "\n",
      "    negative       0.34      0.63      0.44      4682\n",
      "     neutral       0.64      0.42      0.51     14192\n",
      "    positive       0.58      0.64      0.61     11548\n",
      "\n",
      "    accuracy                           0.53     30422\n",
      "   macro avg       0.52      0.56      0.52     30422\n",
      "weighted avg       0.57      0.53      0.53     30422\n",
      "\n"
     ]
    }
   ],
   "source": [
    "nb_model = Pipeline([\n",
    "        ('vect', CountVectorizer()),\n",
    "        ('tdidf', TfidfTransformer(use_idf=True)),\n",
    "        ('clf', MultinomialNB()),\n",
    "    ])\n",
    "nb_model.fit(X_train, y_train)\n",
    "pred_nb = nb_model.predict(X_test)\n",
    "\n",
    "print(metrics.classification_report(y_test, pred_nb))"
   ]
  },
  {
   "cell_type": "code",
   "execution_count": 36,
   "metadata": {},
   "outputs": [
    {
     "data": {
      "text/html": [
       "<div>\n",
       "<style scoped>\n",
       "    .dataframe tbody tr th:only-of-type {\n",
       "        vertical-align: middle;\n",
       "    }\n",
       "\n",
       "    .dataframe tbody tr th {\n",
       "        vertical-align: top;\n",
       "    }\n",
       "\n",
       "    .dataframe thead th {\n",
       "        text-align: right;\n",
       "    }\n",
       "</style>\n",
       "<table border=\"1\" class=\"dataframe\">\n",
       "  <thead>\n",
       "    <tr style=\"text-align: right;\">\n",
       "      <th></th>\n",
       "      <th>id</th>\n",
       "      <th>sentiment</th>\n",
       "      <th>tweet</th>\n",
       "      <th>processed_tweet</th>\n",
       "    </tr>\n",
       "  </thead>\n",
       "  <tbody>\n",
       "    <tr>\n",
       "      <th>0</th>\n",
       "      <td>264183816548130816</td>\n",
       "      <td>positive</td>\n",
       "      <td>Gas by my house hit $3.39!!!! I’m going to Cha...</td>\n",
       "      <td>gas house hit im going chapel hill sat</td>\n",
       "    </tr>\n",
       "    <tr>\n",
       "      <th>1</th>\n",
       "      <td>263405084770172928</td>\n",
       "      <td>negative</td>\n",
       "      <td>Theo Walcott is still shit, watch Rafa and Joh...</td>\n",
       "      <td>theo walcott still shit watch rafa johnny deal...</td>\n",
       "    </tr>\n",
       "    <tr>\n",
       "      <th>2</th>\n",
       "      <td>262163168678248449</td>\n",
       "      <td>negative</td>\n",
       "      <td>its not that I’m a GSP fan, i just hate Nick D...</td>\n",
       "      <td>im gsp fan hate nick diaz cant wait february</td>\n",
       "    </tr>\n",
       "    <tr>\n",
       "      <th>3</th>\n",
       "      <td>264249301910310912</td>\n",
       "      <td>negative</td>\n",
       "      <td>Iranian general says Israel’s Iron Dome can’t ...</td>\n",
       "      <td>iranian general say israel iron dome cant deal...</td>\n",
       "    </tr>\n",
       "    <tr>\n",
       "      <th>4</th>\n",
       "      <td>262682041215234048</td>\n",
       "      <td>neutral</td>\n",
       "      <td>Tehran, Mon Amour: Obama Tried to Establish Ti...</td>\n",
       "      <td>tehran mon amour obama tried establish tie mul...</td>\n",
       "    </tr>\n",
       "  </tbody>\n",
       "</table>\n",
       "</div>"
      ],
      "text/plain": [
       "                   id sentiment  \\\n",
       "0  264183816548130816  positive   \n",
       "1  263405084770172928  negative   \n",
       "2  262163168678248449  negative   \n",
       "3  264249301910310912  negative   \n",
       "4  262682041215234048   neutral   \n",
       "\n",
       "                                               tweet  \\\n",
       "0  Gas by my house hit $3.39!!!! I’m going to Cha...   \n",
       "1  Theo Walcott is still shit, watch Rafa and Joh...   \n",
       "2  its not that I’m a GSP fan, i just hate Nick D...   \n",
       "3  Iranian general says Israel’s Iron Dome can’t ...   \n",
       "4  Tehran, Mon Amour: Obama Tried to Establish Ti...   \n",
       "\n",
       "                                     processed_tweet  \n",
       "0             gas house hit im going chapel hill sat  \n",
       "1  theo walcott still shit watch rafa johnny deal...  \n",
       "2       im gsp fan hate nick diaz cant wait february  \n",
       "3  iranian general say israel iron dome cant deal...  \n",
       "4  tehran mon amour obama tried establish tie mul...  "
      ]
     },
     "execution_count": 36,
     "metadata": {},
     "output_type": "execute_result"
    }
   ],
   "source": [
    "train_df.head()"
   ]
  },
  {
   "cell_type": "code",
   "execution_count": null,
   "metadata": {},
   "outputs": [],
   "source": [
    "from transformers import BertTokenizer,BertForSequenceClassification,AdamW\n",
    "import torch\n",
    "tokenizer = BertTokenizer.from_pretrained('bert-base-uncased',do_lower_case = True)"
   ]
  },
  {
   "cell_type": "code",
   "execution_count": null,
   "metadata": {},
   "outputs": [
    {
     "data": {
      "text/html": [
       "<div>\n",
       "<style scoped>\n",
       "    .dataframe tbody tr th:only-of-type {\n",
       "        vertical-align: middle;\n",
       "    }\n",
       "\n",
       "    .dataframe tbody tr th {\n",
       "        vertical-align: top;\n",
       "    }\n",
       "\n",
       "    .dataframe thead th {\n",
       "        text-align: right;\n",
       "    }\n",
       "</style>\n",
       "<table border=\"1\" class=\"dataframe\">\n",
       "  <thead>\n",
       "    <tr style=\"text-align: right;\">\n",
       "      <th></th>\n",
       "      <th>id</th>\n",
       "      <th>sentiment</th>\n",
       "      <th>tweet</th>\n",
       "      <th>processed_tweet</th>\n",
       "    </tr>\n",
       "  </thead>\n",
       "  <tbody>\n",
       "    <tr>\n",
       "      <th>0</th>\n",
       "      <td>264183816548130816</td>\n",
       "      <td>2</td>\n",
       "      <td>Gas by my house hit $3.39!!!! I’m going to Cha...</td>\n",
       "      <td>gas hous hit im go chapel hill sat</td>\n",
       "    </tr>\n",
       "    <tr>\n",
       "      <th>1</th>\n",
       "      <td>263405084770172928</td>\n",
       "      <td>0</td>\n",
       "      <td>Theo Walcott is still shit, watch Rafa and Joh...</td>\n",
       "      <td>theo walcott still shit watch rafa johnni deal...</td>\n",
       "    </tr>\n",
       "    <tr>\n",
       "      <th>2</th>\n",
       "      <td>262163168678248449</td>\n",
       "      <td>0</td>\n",
       "      <td>its not that I’m a GSP fan, i just hate Nick D...</td>\n",
       "      <td>im gsp fan hate nick diaz cant wait februari</td>\n",
       "    </tr>\n",
       "    <tr>\n",
       "      <th>3</th>\n",
       "      <td>264249301910310912</td>\n",
       "      <td>0</td>\n",
       "      <td>Iranian general says Israel’s Iron Dome can’t ...</td>\n",
       "      <td>iranian general say israel iron dome cant deal...</td>\n",
       "    </tr>\n",
       "    <tr>\n",
       "      <th>4</th>\n",
       "      <td>262682041215234048</td>\n",
       "      <td>1</td>\n",
       "      <td>Tehran, Mon Amour: Obama Tried to Establish Ti...</td>\n",
       "      <td>tehran mon amour obama tri establish tie mulla...</td>\n",
       "    </tr>\n",
       "  </tbody>\n",
       "</table>\n",
       "</div>"
      ],
      "text/plain": [
       "                   id  sentiment  \\\n",
       "0  264183816548130816          2   \n",
       "1  263405084770172928          0   \n",
       "2  262163168678248449          0   \n",
       "3  264249301910310912          0   \n",
       "4  262682041215234048          1   \n",
       "\n",
       "                                               tweet  \\\n",
       "0  Gas by my house hit $3.39!!!! I’m going to Cha...   \n",
       "1  Theo Walcott is still shit, watch Rafa and Joh...   \n",
       "2  its not that I’m a GSP fan, i just hate Nick D...   \n",
       "3  Iranian general says Israel’s Iron Dome can’t ...   \n",
       "4  Tehran, Mon Amour: Obama Tried to Establish Ti...   \n",
       "\n",
       "                                     processed_tweet  \n",
       "0                 gas hous hit im go chapel hill sat  \n",
       "1  theo walcott still shit watch rafa johnni deal...  \n",
       "2       im gsp fan hate nick diaz cant wait februari  \n",
       "3  iranian general say israel iron dome cant deal...  \n",
       "4  tehran mon amour obama tri establish tie mulla...  "
      ]
     },
     "execution_count": 61,
     "metadata": {},
     "output_type": "execute_result"
    }
   ],
   "source": [
    "train_df['sentiment'].replace('positive', 2,inplace=True)\n",
    "train_df['sentiment'].replace('negative', 0,inplace=True)\n",
    "train_df['sentiment'].replace('neutral', 1,inplace=True)\n",
    "train_df.head()"
   ]
  },
  {
   "cell_type": "code",
   "execution_count": null,
   "metadata": {},
   "outputs": [
    {
     "name": "stderr",
     "output_type": "stream",
     "text": [
      "c:\\Users\\rsury\\AppData\\Local\\Programs\\Python\\Python310\\lib\\site-packages\\transformers\\tokenization_utils_base.py:2336: FutureWarning:\n",
      "\n",
      "The `pad_to_max_length` argument is deprecated and will be removed in a future version, use `padding=True` or `padding='longest'` to pad to the longest sequence in the batch, or use `padding='max_length'` to pad to a max length. In this case, you can give a specific length with `max_length` (e.g. `max_length=45`) or leave max_length to None to pad to the maximal input size of the model (e.g. 512 for Bert).\n",
      "\n"
     ]
    }
   ],
   "source": [
    "labels = train_df.sentiment.values\n",
    "text = train_df.processed_tweet.values\n",
    "\n",
    "input_ids = []\n",
    "attention_mask = []\n",
    "for i in text:\n",
    "    encoded_data = tokenizer.encode_plus(\n",
    "    i,\n",
    "    add_special_tokens=True,\n",
    "    max_length=64,\n",
    "    pad_to_max_length = True,\n",
    "    return_attention_mask= True,\n",
    "    return_tensors='pt')\n",
    "    input_ids.append(encoded_data['input_ids'])\n",
    "    attention_mask.append(encoded_data['attention_mask'])\n"
   ]
  },
  {
   "cell_type": "code",
   "execution_count": null,
   "metadata": {},
   "outputs": [],
   "source": [
    "input_ids = torch.cat(input_ids,dim=0)\n",
    "attention_mask = torch.cat(attention_mask,dim=0)\n",
    "labels = torch.tensor(labels)"
   ]
  },
  {
   "cell_type": "code",
   "execution_count": null,
   "metadata": {},
   "outputs": [],
   "source": [
    "from torch.utils.data import DataLoader,SequentialSampler,RandomSampler,TensorDataset,random_split"
   ]
  },
  {
   "cell_type": "code",
   "execution_count": null,
   "metadata": {},
   "outputs": [
    {
     "name": "stdout",
     "output_type": "stream",
     "text": [
      "Training Size -  12832\n",
      "Validation Size -  3209\n"
     ]
    }
   ],
   "source": [
    "dataset = TensorDataset(input_ids,attention_mask,labels)\n",
    "train_size = int(0.8*len(dataset))\n",
    "val_size = len(dataset) - train_size\n",
    "\n",
    "train_dataset,val_dataset = random_split(dataset,[train_size,val_size])\n",
    "\n",
    "print('Training Size - ',train_size)\n",
    "print('Validation Size - ',val_size)"
   ]
  },
  {
   "cell_type": "code",
   "execution_count": null,
   "metadata": {},
   "outputs": [],
   "source": [
    "train_dl = DataLoader(train_dataset,sampler = RandomSampler(train_dataset), batch_size = 32)\n",
    "val_dl = DataLoader(val_dataset,sampler = SequentialSampler(val_dataset), batch_size = 32)"
   ]
  },
  {
   "cell_type": "code",
   "execution_count": null,
   "metadata": {},
   "outputs": [
    {
     "data": {
      "text/plain": [
       "(401, 101)"
      ]
     },
     "execution_count": 67,
     "metadata": {},
     "output_type": "execute_result"
    }
   ],
   "source": [
    "len(train_dl),len(val_dl)"
   ]
  },
  {
   "cell_type": "code",
   "execution_count": null,
   "metadata": {},
   "outputs": [
    {
     "name": "stderr",
     "output_type": "stream",
     "text": [
      "Some weights of the model checkpoint at bert-base-uncased were not used when initializing BertForSequenceClassification: ['cls.predictions.transform.dense.weight', 'cls.predictions.transform.LayerNorm.bias', 'cls.predictions.decoder.weight', 'cls.predictions.transform.dense.bias', 'cls.predictions.bias', 'cls.seq_relationship.weight', 'cls.seq_relationship.bias', 'cls.predictions.transform.LayerNorm.weight']\n",
      "- This IS expected if you are initializing BertForSequenceClassification from the checkpoint of a model trained on another task or with another architecture (e.g. initializing a BertForSequenceClassification model from a BertForPreTraining model).\n",
      "- This IS NOT expected if you are initializing BertForSequenceClassification from the checkpoint of a model that you expect to be exactly identical (initializing a BertForSequenceClassification model from a BertForSequenceClassification model).\n",
      "Some weights of BertForSequenceClassification were not initialized from the model checkpoint at bert-base-uncased and are newly initialized: ['classifier.weight', 'classifier.bias']\n",
      "You should probably TRAIN this model on a down-stream task to be able to use it for predictions and inference.\n"
     ]
    }
   ],
   "source": [
    "model = BertForSequenceClassification.from_pretrained('bert-base-uncased', \n",
    "                                                      num_labels = 3, \n",
    "                                                      output_attentions = False, \n",
    "                                                      output_hidden_states = False)"
   ]
  },
  {
   "cell_type": "code",
   "execution_count": null,
   "metadata": {},
   "outputs": [],
   "source": [
    "import random\n",
    "\n",
    "random.seed(42)\n",
    "np.random.seed(42)\n",
    "torch.manual_seed(42)\n",
    "torch.cuda.manual_seed_all(42)"
   ]
  },
  {
   "cell_type": "code",
   "execution_count": null,
   "metadata": {},
   "outputs": [
    {
     "name": "stdout",
     "output_type": "stream",
     "text": [
      "cpu\n"
     ]
    }
   ],
   "source": [
    "device = torch.device('cuda' if torch.cuda.is_available() else 'cpu')\n",
    "model.to(device)\n",
    "\n",
    "print(device)"
   ]
  },
  {
   "cell_type": "code",
   "execution_count": null,
   "metadata": {},
   "outputs": [],
   "source": [
    "optimizer = AdamW(model.parameters(),lr = 2e-5,eps=1e-8)"
   ]
  },
  {
   "cell_type": "code",
   "execution_count": null,
   "metadata": {},
   "outputs": [],
   "source": [
    "def accuracy(preds,labels):\n",
    "    pred_flat = np.argmax(preds,axis=1).flatten()\n",
    "    label_flat = labels.flatten()\n",
    "    return np.sum(pred_flat==label_flat)/len(label_flat)"
   ]
  },
  {
   "cell_type": "code",
   "execution_count": null,
   "metadata": {},
   "outputs": [],
   "source": [
    "from transformers import get_linear_schedule_with_warmup\n",
    "epochs = 1\n",
    "total_steps = len(train_dl)*epochs\n",
    "scheduler = get_linear_schedule_with_warmup(optimizer,num_warmup_steps=0,\n",
    "                                           num_training_steps=total_steps)"
   ]
  },
  {
   "cell_type": "code",
   "execution_count": null,
   "metadata": {},
   "outputs": [],
   "source": [
    "def evaluate(dataloader_test):\n",
    "    model.eval()\n",
    "    loss_val_total = 0\n",
    "    predictions,true_vals = [],[]\n",
    "    for batch in dataloader_test:\n",
    "        batch = tuple(b.to(device) for b in batch)\n",
    "        inputs = {\n",
    "            'input_ids':batch[0],\n",
    "            'attention_mask': batch[1],\n",
    "            'labels': batch[2]\n",
    "        }\n",
    "        with torch.no_grad():\n",
    "            outputs = model(**inputs)\n",
    "        loss = outputs[0]\n",
    "        logits = outputs[1]\n",
    "        loss_val_total += loss.item()\n",
    "        logits = logits.detach().cpu().numpy()\n",
    "        label_ids = inputs['labels'].cpu().numpy()\n",
    "        predictions.append(logits)\n",
    "        true_vals.append(label_ids)\n",
    "    loss_val_avg = loss_val_total / len(dataloader_test)\n",
    "    predictions = np.concatenate(predictions,axis=0)\n",
    "    true_vals = np.concatenate(true_vals,axis=0)\n",
    "    return loss_val_avg,predictions,true_vals"
   ]
  },
  {
   "cell_type": "code",
   "execution_count": null,
   "metadata": {},
   "outputs": [],
   "source": [
    "from tqdm.notebook import tqdm\n",
    "torch.cuda.empty_cache()\n",
    "for epoch in tqdm(range(1, epochs+1)):\n",
    "    \n",
    "    model.train()\n",
    "    \n",
    "    loss_train_total = 0\n",
    "\n",
    "    progress_bar = tqdm(train_dl, desc='Epoch {:1d}'.format(epoch), leave=False, disable=False)\n",
    "    for batch in progress_bar:\n",
    "\n",
    "        model.zero_grad()\n",
    "        \n",
    "        batch = tuple(b.to(device) for b in batch)\n",
    "        \n",
    "        inputs = {'input_ids':      batch[0],\n",
    "                  'attention_mask': batch[1],\n",
    "                  'labels':         batch[2],\n",
    "                 }       \n",
    "\n",
    "        outputs = model(**inputs)\n",
    "        \n",
    "        loss = outputs[0]\n",
    "        loss_train_total += loss.item()\n",
    "        loss.backward()\n",
    "\n",
    "        torch.nn.utils.clip_grad_norm_(model.parameters(), 1.0)\n",
    "\n",
    "        optimizer.step()\n",
    "        scheduler.step()\n",
    "        \n",
    "        progress_bar.set_postfix({'training_loss': '{:.3f}'.format(loss.item()/len(batch))})"
   ]
  },
  {
   "cell_type": "code",
   "execution_count": null,
   "metadata": {},
   "outputs": [
    {
     "name": "stdout",
     "output_type": "stream",
     "text": [
      "Training loss: 0.8531383151128108\n",
      "Validation loss: 0.7736828521926804\n",
      "Accuracy: 0.649111872857588\n"
     ]
    }
   ],
   "source": [
    "loss_train_avg = loss_train_total/len(train_dl)\n",
    "print(f'Training loss: {loss_train_avg}')\n",
    "\n",
    "val_loss, predictions, true_vals = evaluate(val_dl)\n",
    "val_acc = accuracy(predictions, true_vals)\n",
    "print(f'Validation loss: {val_loss}')\n",
    "print(f'Accuracy: {val_acc}')"
   ]
  },
  {
   "attachments": {},
   "cell_type": "markdown",
   "metadata": {},
   "source": [
    "# **RoBERTa**"
   ]
  },
  {
   "cell_type": "code",
   "execution_count": 2,
   "metadata": {},
   "outputs": [
    {
     "name": "stderr",
     "output_type": "stream",
     "text": [
      "Some weights of the model checkpoint at cardiffnlp/twitter-roberta-base-sentiment-latest were not used when initializing RobertaForSequenceClassification: ['roberta.pooler.dense.weight', 'roberta.pooler.dense.bias']\n",
      "- This IS expected if you are initializing RobertaForSequenceClassification from the checkpoint of a model trained on another task or with another architecture (e.g. initializing a BertForSequenceClassification model from a BertForPreTraining model).\n",
      "- This IS NOT expected if you are initializing RobertaForSequenceClassification from the checkpoint of a model that you expect to be exactly identical (initializing a BertForSequenceClassification model from a BertForSequenceClassification model).\n"
     ]
    }
   ],
   "source": [
    "from transformers import AutoModelForSequenceClassification\n",
    "from transformers import TFAutoModelForSequenceClassification\n",
    "from transformers import AutoTokenizer, AutoConfig\n",
    "import numpy as np\n",
    "from scipy.special import softmax\n",
    "\n",
    "MODEL = f\"cardiffnlp/twitter-roberta-base-sentiment-latest\"\n",
    "tokenizer = AutoTokenizer.from_pretrained(MODEL)\n",
    "config = AutoConfig.from_pretrained(MODEL)\n",
    "# PT\n",
    "model = AutoModelForSequenceClassification.from_pretrained(MODEL)\n",
    "#model.save_pretrained(MODEL)"
   ]
  },
  {
   "cell_type": "code",
   "execution_count": 17,
   "metadata": {},
   "outputs": [
    {
     "data": {
      "text/plain": [
       "<bound method Module.type of RobertaForSequenceClassification(\n",
       "  (roberta): RobertaModel(\n",
       "    (embeddings): RobertaEmbeddings(\n",
       "      (word_embeddings): Embedding(50265, 768, padding_idx=1)\n",
       "      (position_embeddings): Embedding(514, 768, padding_idx=1)\n",
       "      (token_type_embeddings): Embedding(1, 768)\n",
       "      (LayerNorm): LayerNorm((768,), eps=1e-05, elementwise_affine=True)\n",
       "      (dropout): Dropout(p=0.1, inplace=False)\n",
       "    )\n",
       "    (encoder): RobertaEncoder(\n",
       "      (layer): ModuleList(\n",
       "        (0): RobertaLayer(\n",
       "          (attention): RobertaAttention(\n",
       "            (self): RobertaSelfAttention(\n",
       "              (query): Linear(in_features=768, out_features=768, bias=True)\n",
       "              (key): Linear(in_features=768, out_features=768, bias=True)\n",
       "              (value): Linear(in_features=768, out_features=768, bias=True)\n",
       "              (dropout): Dropout(p=0.1, inplace=False)\n",
       "            )\n",
       "            (output): RobertaSelfOutput(\n",
       "              (dense): Linear(in_features=768, out_features=768, bias=True)\n",
       "              (LayerNorm): LayerNorm((768,), eps=1e-05, elementwise_affine=True)\n",
       "              (dropout): Dropout(p=0.1, inplace=False)\n",
       "            )\n",
       "          )\n",
       "          (intermediate): RobertaIntermediate(\n",
       "            (dense): Linear(in_features=768, out_features=3072, bias=True)\n",
       "            (intermediate_act_fn): GELUActivation()\n",
       "          )\n",
       "          (output): RobertaOutput(\n",
       "            (dense): Linear(in_features=3072, out_features=768, bias=True)\n",
       "            (LayerNorm): LayerNorm((768,), eps=1e-05, elementwise_affine=True)\n",
       "            (dropout): Dropout(p=0.1, inplace=False)\n",
       "          )\n",
       "        )\n",
       "        (1): RobertaLayer(\n",
       "          (attention): RobertaAttention(\n",
       "            (self): RobertaSelfAttention(\n",
       "              (query): Linear(in_features=768, out_features=768, bias=True)\n",
       "              (key): Linear(in_features=768, out_features=768, bias=True)\n",
       "              (value): Linear(in_features=768, out_features=768, bias=True)\n",
       "              (dropout): Dropout(p=0.1, inplace=False)\n",
       "            )\n",
       "            (output): RobertaSelfOutput(\n",
       "              (dense): Linear(in_features=768, out_features=768, bias=True)\n",
       "              (LayerNorm): LayerNorm((768,), eps=1e-05, elementwise_affine=True)\n",
       "              (dropout): Dropout(p=0.1, inplace=False)\n",
       "            )\n",
       "          )\n",
       "          (intermediate): RobertaIntermediate(\n",
       "            (dense): Linear(in_features=768, out_features=3072, bias=True)\n",
       "            (intermediate_act_fn): GELUActivation()\n",
       "          )\n",
       "          (output): RobertaOutput(\n",
       "            (dense): Linear(in_features=3072, out_features=768, bias=True)\n",
       "            (LayerNorm): LayerNorm((768,), eps=1e-05, elementwise_affine=True)\n",
       "            (dropout): Dropout(p=0.1, inplace=False)\n",
       "          )\n",
       "        )\n",
       "        (2): RobertaLayer(\n",
       "          (attention): RobertaAttention(\n",
       "            (self): RobertaSelfAttention(\n",
       "              (query): Linear(in_features=768, out_features=768, bias=True)\n",
       "              (key): Linear(in_features=768, out_features=768, bias=True)\n",
       "              (value): Linear(in_features=768, out_features=768, bias=True)\n",
       "              (dropout): Dropout(p=0.1, inplace=False)\n",
       "            )\n",
       "            (output): RobertaSelfOutput(\n",
       "              (dense): Linear(in_features=768, out_features=768, bias=True)\n",
       "              (LayerNorm): LayerNorm((768,), eps=1e-05, elementwise_affine=True)\n",
       "              (dropout): Dropout(p=0.1, inplace=False)\n",
       "            )\n",
       "          )\n",
       "          (intermediate): RobertaIntermediate(\n",
       "            (dense): Linear(in_features=768, out_features=3072, bias=True)\n",
       "            (intermediate_act_fn): GELUActivation()\n",
       "          )\n",
       "          (output): RobertaOutput(\n",
       "            (dense): Linear(in_features=3072, out_features=768, bias=True)\n",
       "            (LayerNorm): LayerNorm((768,), eps=1e-05, elementwise_affine=True)\n",
       "            (dropout): Dropout(p=0.1, inplace=False)\n",
       "          )\n",
       "        )\n",
       "        (3): RobertaLayer(\n",
       "          (attention): RobertaAttention(\n",
       "            (self): RobertaSelfAttention(\n",
       "              (query): Linear(in_features=768, out_features=768, bias=True)\n",
       "              (key): Linear(in_features=768, out_features=768, bias=True)\n",
       "              (value): Linear(in_features=768, out_features=768, bias=True)\n",
       "              (dropout): Dropout(p=0.1, inplace=False)\n",
       "            )\n",
       "            (output): RobertaSelfOutput(\n",
       "              (dense): Linear(in_features=768, out_features=768, bias=True)\n",
       "              (LayerNorm): LayerNorm((768,), eps=1e-05, elementwise_affine=True)\n",
       "              (dropout): Dropout(p=0.1, inplace=False)\n",
       "            )\n",
       "          )\n",
       "          (intermediate): RobertaIntermediate(\n",
       "            (dense): Linear(in_features=768, out_features=3072, bias=True)\n",
       "            (intermediate_act_fn): GELUActivation()\n",
       "          )\n",
       "          (output): RobertaOutput(\n",
       "            (dense): Linear(in_features=3072, out_features=768, bias=True)\n",
       "            (LayerNorm): LayerNorm((768,), eps=1e-05, elementwise_affine=True)\n",
       "            (dropout): Dropout(p=0.1, inplace=False)\n",
       "          )\n",
       "        )\n",
       "        (4): RobertaLayer(\n",
       "          (attention): RobertaAttention(\n",
       "            (self): RobertaSelfAttention(\n",
       "              (query): Linear(in_features=768, out_features=768, bias=True)\n",
       "              (key): Linear(in_features=768, out_features=768, bias=True)\n",
       "              (value): Linear(in_features=768, out_features=768, bias=True)\n",
       "              (dropout): Dropout(p=0.1, inplace=False)\n",
       "            )\n",
       "            (output): RobertaSelfOutput(\n",
       "              (dense): Linear(in_features=768, out_features=768, bias=True)\n",
       "              (LayerNorm): LayerNorm((768,), eps=1e-05, elementwise_affine=True)\n",
       "              (dropout): Dropout(p=0.1, inplace=False)\n",
       "            )\n",
       "          )\n",
       "          (intermediate): RobertaIntermediate(\n",
       "            (dense): Linear(in_features=768, out_features=3072, bias=True)\n",
       "            (intermediate_act_fn): GELUActivation()\n",
       "          )\n",
       "          (output): RobertaOutput(\n",
       "            (dense): Linear(in_features=3072, out_features=768, bias=True)\n",
       "            (LayerNorm): LayerNorm((768,), eps=1e-05, elementwise_affine=True)\n",
       "            (dropout): Dropout(p=0.1, inplace=False)\n",
       "          )\n",
       "        )\n",
       "        (5): RobertaLayer(\n",
       "          (attention): RobertaAttention(\n",
       "            (self): RobertaSelfAttention(\n",
       "              (query): Linear(in_features=768, out_features=768, bias=True)\n",
       "              (key): Linear(in_features=768, out_features=768, bias=True)\n",
       "              (value): Linear(in_features=768, out_features=768, bias=True)\n",
       "              (dropout): Dropout(p=0.1, inplace=False)\n",
       "            )\n",
       "            (output): RobertaSelfOutput(\n",
       "              (dense): Linear(in_features=768, out_features=768, bias=True)\n",
       "              (LayerNorm): LayerNorm((768,), eps=1e-05, elementwise_affine=True)\n",
       "              (dropout): Dropout(p=0.1, inplace=False)\n",
       "            )\n",
       "          )\n",
       "          (intermediate): RobertaIntermediate(\n",
       "            (dense): Linear(in_features=768, out_features=3072, bias=True)\n",
       "            (intermediate_act_fn): GELUActivation()\n",
       "          )\n",
       "          (output): RobertaOutput(\n",
       "            (dense): Linear(in_features=3072, out_features=768, bias=True)\n",
       "            (LayerNorm): LayerNorm((768,), eps=1e-05, elementwise_affine=True)\n",
       "            (dropout): Dropout(p=0.1, inplace=False)\n",
       "          )\n",
       "        )\n",
       "        (6): RobertaLayer(\n",
       "          (attention): RobertaAttention(\n",
       "            (self): RobertaSelfAttention(\n",
       "              (query): Linear(in_features=768, out_features=768, bias=True)\n",
       "              (key): Linear(in_features=768, out_features=768, bias=True)\n",
       "              (value): Linear(in_features=768, out_features=768, bias=True)\n",
       "              (dropout): Dropout(p=0.1, inplace=False)\n",
       "            )\n",
       "            (output): RobertaSelfOutput(\n",
       "              (dense): Linear(in_features=768, out_features=768, bias=True)\n",
       "              (LayerNorm): LayerNorm((768,), eps=1e-05, elementwise_affine=True)\n",
       "              (dropout): Dropout(p=0.1, inplace=False)\n",
       "            )\n",
       "          )\n",
       "          (intermediate): RobertaIntermediate(\n",
       "            (dense): Linear(in_features=768, out_features=3072, bias=True)\n",
       "            (intermediate_act_fn): GELUActivation()\n",
       "          )\n",
       "          (output): RobertaOutput(\n",
       "            (dense): Linear(in_features=3072, out_features=768, bias=True)\n",
       "            (LayerNorm): LayerNorm((768,), eps=1e-05, elementwise_affine=True)\n",
       "            (dropout): Dropout(p=0.1, inplace=False)\n",
       "          )\n",
       "        )\n",
       "        (7): RobertaLayer(\n",
       "          (attention): RobertaAttention(\n",
       "            (self): RobertaSelfAttention(\n",
       "              (query): Linear(in_features=768, out_features=768, bias=True)\n",
       "              (key): Linear(in_features=768, out_features=768, bias=True)\n",
       "              (value): Linear(in_features=768, out_features=768, bias=True)\n",
       "              (dropout): Dropout(p=0.1, inplace=False)\n",
       "            )\n",
       "            (output): RobertaSelfOutput(\n",
       "              (dense): Linear(in_features=768, out_features=768, bias=True)\n",
       "              (LayerNorm): LayerNorm((768,), eps=1e-05, elementwise_affine=True)\n",
       "              (dropout): Dropout(p=0.1, inplace=False)\n",
       "            )\n",
       "          )\n",
       "          (intermediate): RobertaIntermediate(\n",
       "            (dense): Linear(in_features=768, out_features=3072, bias=True)\n",
       "            (intermediate_act_fn): GELUActivation()\n",
       "          )\n",
       "          (output): RobertaOutput(\n",
       "            (dense): Linear(in_features=3072, out_features=768, bias=True)\n",
       "            (LayerNorm): LayerNorm((768,), eps=1e-05, elementwise_affine=True)\n",
       "            (dropout): Dropout(p=0.1, inplace=False)\n",
       "          )\n",
       "        )\n",
       "        (8): RobertaLayer(\n",
       "          (attention): RobertaAttention(\n",
       "            (self): RobertaSelfAttention(\n",
       "              (query): Linear(in_features=768, out_features=768, bias=True)\n",
       "              (key): Linear(in_features=768, out_features=768, bias=True)\n",
       "              (value): Linear(in_features=768, out_features=768, bias=True)\n",
       "              (dropout): Dropout(p=0.1, inplace=False)\n",
       "            )\n",
       "            (output): RobertaSelfOutput(\n",
       "              (dense): Linear(in_features=768, out_features=768, bias=True)\n",
       "              (LayerNorm): LayerNorm((768,), eps=1e-05, elementwise_affine=True)\n",
       "              (dropout): Dropout(p=0.1, inplace=False)\n",
       "            )\n",
       "          )\n",
       "          (intermediate): RobertaIntermediate(\n",
       "            (dense): Linear(in_features=768, out_features=3072, bias=True)\n",
       "            (intermediate_act_fn): GELUActivation()\n",
       "          )\n",
       "          (output): RobertaOutput(\n",
       "            (dense): Linear(in_features=3072, out_features=768, bias=True)\n",
       "            (LayerNorm): LayerNorm((768,), eps=1e-05, elementwise_affine=True)\n",
       "            (dropout): Dropout(p=0.1, inplace=False)\n",
       "          )\n",
       "        )\n",
       "        (9): RobertaLayer(\n",
       "          (attention): RobertaAttention(\n",
       "            (self): RobertaSelfAttention(\n",
       "              (query): Linear(in_features=768, out_features=768, bias=True)\n",
       "              (key): Linear(in_features=768, out_features=768, bias=True)\n",
       "              (value): Linear(in_features=768, out_features=768, bias=True)\n",
       "              (dropout): Dropout(p=0.1, inplace=False)\n",
       "            )\n",
       "            (output): RobertaSelfOutput(\n",
       "              (dense): Linear(in_features=768, out_features=768, bias=True)\n",
       "              (LayerNorm): LayerNorm((768,), eps=1e-05, elementwise_affine=True)\n",
       "              (dropout): Dropout(p=0.1, inplace=False)\n",
       "            )\n",
       "          )\n",
       "          (intermediate): RobertaIntermediate(\n",
       "            (dense): Linear(in_features=768, out_features=3072, bias=True)\n",
       "            (intermediate_act_fn): GELUActivation()\n",
       "          )\n",
       "          (output): RobertaOutput(\n",
       "            (dense): Linear(in_features=3072, out_features=768, bias=True)\n",
       "            (LayerNorm): LayerNorm((768,), eps=1e-05, elementwise_affine=True)\n",
       "            (dropout): Dropout(p=0.1, inplace=False)\n",
       "          )\n",
       "        )\n",
       "        (10): RobertaLayer(\n",
       "          (attention): RobertaAttention(\n",
       "            (self): RobertaSelfAttention(\n",
       "              (query): Linear(in_features=768, out_features=768, bias=True)\n",
       "              (key): Linear(in_features=768, out_features=768, bias=True)\n",
       "              (value): Linear(in_features=768, out_features=768, bias=True)\n",
       "              (dropout): Dropout(p=0.1, inplace=False)\n",
       "            )\n",
       "            (output): RobertaSelfOutput(\n",
       "              (dense): Linear(in_features=768, out_features=768, bias=True)\n",
       "              (LayerNorm): LayerNorm((768,), eps=1e-05, elementwise_affine=True)\n",
       "              (dropout): Dropout(p=0.1, inplace=False)\n",
       "            )\n",
       "          )\n",
       "          (intermediate): RobertaIntermediate(\n",
       "            (dense): Linear(in_features=768, out_features=3072, bias=True)\n",
       "            (intermediate_act_fn): GELUActivation()\n",
       "          )\n",
       "          (output): RobertaOutput(\n",
       "            (dense): Linear(in_features=3072, out_features=768, bias=True)\n",
       "            (LayerNorm): LayerNorm((768,), eps=1e-05, elementwise_affine=True)\n",
       "            (dropout): Dropout(p=0.1, inplace=False)\n",
       "          )\n",
       "        )\n",
       "        (11): RobertaLayer(\n",
       "          (attention): RobertaAttention(\n",
       "            (self): RobertaSelfAttention(\n",
       "              (query): Linear(in_features=768, out_features=768, bias=True)\n",
       "              (key): Linear(in_features=768, out_features=768, bias=True)\n",
       "              (value): Linear(in_features=768, out_features=768, bias=True)\n",
       "              (dropout): Dropout(p=0.1, inplace=False)\n",
       "            )\n",
       "            (output): RobertaSelfOutput(\n",
       "              (dense): Linear(in_features=768, out_features=768, bias=True)\n",
       "              (LayerNorm): LayerNorm((768,), eps=1e-05, elementwise_affine=True)\n",
       "              (dropout): Dropout(p=0.1, inplace=False)\n",
       "            )\n",
       "          )\n",
       "          (intermediate): RobertaIntermediate(\n",
       "            (dense): Linear(in_features=768, out_features=3072, bias=True)\n",
       "            (intermediate_act_fn): GELUActivation()\n",
       "          )\n",
       "          (output): RobertaOutput(\n",
       "            (dense): Linear(in_features=3072, out_features=768, bias=True)\n",
       "            (LayerNorm): LayerNorm((768,), eps=1e-05, elementwise_affine=True)\n",
       "            (dropout): Dropout(p=0.1, inplace=False)\n",
       "          )\n",
       "        )\n",
       "      )\n",
       "    )\n",
       "  )\n",
       "  (classifier): RobertaClassificationHead(\n",
       "    (dense): Linear(in_features=768, out_features=768, bias=True)\n",
       "    (dropout): Dropout(p=0.1, inplace=False)\n",
       "    (out_proj): Linear(in_features=768, out_features=3, bias=True)\n",
       "  )\n",
       ")>"
      ]
     },
     "execution_count": 17,
     "metadata": {},
     "output_type": "execute_result"
    }
   ],
   "source": [
    "model.type"
   ]
  },
  {
   "cell_type": "code",
   "execution_count": 38,
   "metadata": {},
   "outputs": [],
   "source": [
    "label_list = []\n",
    "\n",
    "for i in test_df.processed_tweet:\n",
    "  text = i\n",
    "  #text = preprocess(text)\n",
    "  encoded_input = tokenizer(text, return_tensors='pt')\n",
    "  output = model(**encoded_input)\n",
    "  scores = output[0][0].detach().numpy()\n",
    "  scores = softmax(scores)\n",
    "\n",
    "  label = np.argmax(scores, axis=0)\n",
    "  label_list.append(label)"
   ]
  },
  {
   "cell_type": "code",
   "execution_count": 40,
   "metadata": {},
   "outputs": [],
   "source": [
    "labels = train_[\"sentiment\"].replace(['negative', 'neutral','positive'],\n",
    "                        [0, 1, 2], inplace=False)\n",
    "labels_test = test_df[\"sentiment\"].replace(['negative', 'neutral','positive'],\n",
    "                        [0, 1, 2], inplace=False)"
   ]
  },
  {
   "cell_type": "code",
   "execution_count": 41,
   "metadata": {},
   "outputs": [
    {
     "name": "stdout",
     "output_type": "stream",
     "text": [
      "              precision    recall  f1-score   support\n",
      "\n",
      "           0       0.61      0.63      0.62      4682\n",
      "           1       0.64      0.82      0.72     14192\n",
      "           2       0.84      0.54      0.66     11548\n",
      "\n",
      "    accuracy                           0.68     30422\n",
      "   macro avg       0.70      0.66      0.66     30422\n",
      "weighted avg       0.71      0.68      0.68     30422\n",
      "\n"
     ]
    }
   ],
   "source": [
    "print(metrics.classification_report(np.array(labels_test), label_list))\n"
   ]
  }
 ],
 "metadata": {
  "kernelspec": {
   "display_name": "Python 3.10.8 64-bit",
   "language": "python",
   "name": "python3"
  },
  "language_info": {
   "codemirror_mode": {
    "name": "ipython",
    "version": 3
   },
   "file_extension": ".py",
   "mimetype": "text/x-python",
   "name": "python",
   "nbconvert_exporter": "python",
   "pygments_lexer": "ipython3",
   "version": "3.10.8 (tags/v3.10.8:aaaf517, Oct 11 2022, 16:50:30) [MSC v.1933 64 bit (AMD64)]"
  },
  "orig_nbformat": 4,
  "vscode": {
   "interpreter": {
    "hash": "989f1c85a0753a3f5387357a9d8cdada932b18385ad81a9223bb8329c9a4fd3b"
   }
  }
 },
 "nbformat": 4,
 "nbformat_minor": 2
}
