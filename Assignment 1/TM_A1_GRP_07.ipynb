{
 "cells": [
  {
   "cell_type": "code",
   "execution_count": 1,
   "metadata": {},
   "outputs": [],
   "source": [
    "from sklearn.datasets import fetch_20newsgroups\n",
    "from sklearn.feature_extraction.text import CountVectorizer\n",
    "from sklearn.feature_extraction.text import TfidfTransformer\n",
    "from sklearn.pipeline import Pipeline\n",
    "from sklearn.naive_bayes import MultinomialNB\n",
    "from sklearn.linear_model import SGDClassifier\n",
    "from sklearn.ensemble import RandomForestClassifier\n",
    "from sklearn import metrics\n",
    "from sklearn.model_selection import GridSearchCV\n",
    "import numpy as np\n",
    "from sklearn.metrics import precision_score, recall_score, f1_score\n",
    "import matplotlib.pyplot as plt\n",
    "from pandas import DataFrame\n",
    "from collections import namedtuple\n",
    "import pandas as pd"
   ]
  },
  {
   "cell_type": "code",
   "execution_count": 2,
   "metadata": {},
   "outputs": [],
   "source": [
    "def calculate_PRF(target, value):\n",
    "    P = precision_score(target, value, average=\"macro\")\n",
    "    R = recall_score(target, value, average=\"macro\")\n",
    "    F = f1_score(target, value, average=\"macro\")\n",
    "    print(Test(P,R,F))\n",
    "    return Test(P,R,F)"
   ]
  },
  {
   "cell_type": "code",
   "execution_count": 3,
   "metadata": {},
   "outputs": [],
   "source": [
    "\n",
    "def classifiers(clf):\n",
    "    test_prf = []\n",
    "\n",
    "    # Feature 1 : Using Count \n",
    "    text_clf_using_count = Pipeline([\n",
    "        ('vect', CountVectorizer()),\n",
    "        ('clf', clf),\n",
    "    ])\n",
    "    text_clf_using_count.fit(twenty_train.data, twenty_train.target)\n",
    "    predicted_test_using_count = text_clf_using_count.predict(twenty_test_data)\n",
    "    print(f\"{clf} Precision, Recall, F1 scores:\")\n",
    "    test_prf.append(calculate_PRF(twenty_test.target, predicted_test_using_count))\n",
    "    print(f\"{clf}: accuracy of Count vector {np.mean(predicted_test_using_count == twenty_test.target)}\")\n",
    "    # print(metrics.classification_report(twenty_test.target, predicted_test_using_count, target_names=twenty_test.target_names))\n",
    "\n",
    "    # Feature 2 : Using TF\n",
    "    text_clf_using_tf = Pipeline([\n",
    "        ('vect', CountVectorizer()),\n",
    "        ('tdidf', TfidfTransformer(use_idf=False)),\n",
    "        ('clf', clf),\n",
    "    ])\n",
    "    text_clf_using_tf.fit(twenty_train.data, twenty_train.target)\n",
    "    predicted_test_using_tf = text_clf_using_tf.predict(twenty_test_data)\n",
    "    print(f\"{clf} Precision, Recall, F1 scores:\")\n",
    "    test_prf.append(calculate_PRF(twenty_test.target, predicted_test_using_tf))\n",
    "    print(f\"{clf}: accuracy of Tf {np.mean(predicted_test_using_tf == twenty_test.target)}\")\n",
    "    # print(metrics.classification_report(twenty_test.target, predicted_test_using_tf, target_names=twenty_test.target_names))\n",
    "\n",
    "    # Feature 3 : Using TFIDF\n",
    "    text_clf_using_tfidf = Pipeline([\n",
    "        ('vect', CountVectorizer()),\n",
    "        ('tdidf', TfidfTransformer(use_idf=True)),\n",
    "        ('clf', clf),\n",
    "    ])\n",
    "    text_clf_using_tfidf.fit(twenty_train.data, twenty_train.target)\n",
    "    predicted_test_using_tfidf = text_clf_using_tfidf.predict(twenty_test_data)\n",
    "    print(f\"{clf} Precision, Recall, F1 scores:\")\n",
    "    test_prf.append(calculate_PRF(twenty_test.target, predicted_test_using_tfidf))\n",
    "    print(f\"{clf}: accuracy of TfIdf {np.mean(predicted_test_using_tfidf == twenty_test.target)}\")\n",
    "    # print(metrics.classification_report(twenty_test.target, predicted_test_using_tfidf, target_names=twenty_test.target_names))\n",
    "\n",
    "    return test_prf"
   ]
  },
  {
   "cell_type": "code",
   "execution_count": 4,
   "metadata": {},
   "outputs": [],
   "source": [
    "def plot_data_classifier(data_frame,MarkerSize=8):\n",
    "    fig,ax = plt.subplots(figsize=(20, 10))\n",
    "    clr = ['orange', 'blue', 'green']\n",
    "    for i,row in enumerate(data_frame.index):\n",
    "        ax.plot(data_frame.columns, [object.Precision for object in data_frame.loc[row,]], marker='o', color=clr[i], markersize=MarkerSize, linewidth=0, label=\"Precision by \"+str(row))\n",
    "        ax.plot(data_frame.columns, [object.Recall for object in data_frame.loc[row,]], marker='x', color=clr[i], markersize=MarkerSize, linewidth=0, label=\"Recall by \"+str(row))\n",
    "        ax.plot(data_frame.columns, [object.F1 for object in data_frame.loc[row,]], marker='^', color=clr[i], markersize=MarkerSize, linewidth=0, label=\"F1 by \"+str(row))\n",
    "    for objects in ax.lines:\n",
    "        xs = objects.get_xydata()[:,0]\n",
    "        objects.set_xdata(xs + np.random.uniform(-0.25, 0.25, xs.shape))\n",
    "    ax.relim()\n",
    "    ax.autoscale(enable=True)\n",
    "    plt.xlabel(\"Classifier\", fontsize=15)\n",
    "    plt.ylabel(\"Accuracy\", fontsize=15)\n",
    "    plt.ylim(0.6, 1.0)\n",
    "    plt.legend()\n",
    "    plt.title(\"Comparison of Classifiers\", fontsize=15)\n",
    "    plt.show()"
   ]
  },
  {
   "cell_type": "code",
   "execution_count": 5,
   "metadata": {},
   "outputs": [],
   "source": [
    "def run_classifiers():\n",
    "        CLF_Names = [\"Naive Bayes\", \"Linear-SVM\", \"Logistic Regression\"]\n",
    "        CLF = [\n",
    "                MultinomialNB(), \n",
    "                SGDClassifier(loss='hinge',penalty='l2',alpha=1e-3, random_state=42,max_iter=5, tol=None),\n",
    "                SGDClassifier(loss='log_loss',random_state=42)\n",
    "        ]\n",
    "\n",
    "        accuracy_scores = dict()\n",
    "        for i in range(len(CLF)):\n",
    "                accuracy_scores[CLF_Names[i]]=classifiers(CLF[i])\n",
    "        scores = pd.DataFrame(accuracy_scores, index=[\"Count\",\"Tf\",\"Tfidf\"])\n",
    "\n",
    "        plot_data_classifier(scores)"
   ]
  },
  {
   "cell_type": "code",
   "execution_count": 6,
   "metadata": {},
   "outputs": [],
   "source": [
    "def countVectorizer_exp(case=True, lang=None, analyzer_word='word', ngram_val=(1,1), max_feature=None):\n",
    "    text_clf_NB = Pipeline([\n",
    "        ('vect', CountVectorizer(lowercase=case, stop_words=lang, analyzer=analyzer_word, ngram_range=ngram_val, max_features=max_feature)),\n",
    "        ('tdidf', TfidfTransformer()),\n",
    "        ('clf_NB', MultinomialNB()),\n",
    "    ])\n",
    "\n",
    "    text_clf_NB.fit(twenty_train.data, twenty_train.target)\n",
    "    return text_clf_NB.predict(twenty_test.data)"
   ]
  },
  {
   "cell_type": "code",
   "execution_count": 7,
   "metadata": {},
   "outputs": [],
   "source": [
    "def exp_cv_lowercase(val):\n",
    "    pred = countVectorizer_exp(case=val) # Lowercase - True\n",
    "    print(f\"Accuracy if lowercase is {val} : {np.mean(pred == twenty_test.target)}\")\n",
    "    pass\n",
    "\n",
    "def exp_cv_stopwords(val):\n",
    "    pred = countVectorizer_exp(lang=val) # Lowercase - True\n",
    "    print(f\"Accuracy if stop_words is {val} : {np.mean(pred == twenty_test.target)}\")\n",
    "    pass\n",
    "\n",
    "def exp_cv_analyzer(val, ngram):\n",
    "    pred = countVectorizer_exp(analyzer_word=val, ngram_val=ngram) # Lowercase - True\n",
    "    print(f\"Accuracy if analyzer is {val} and n_gram_range is {ngram} : {np.mean(pred == twenty_test.target)}\")\n",
    "\n",
    "def exp_cv_max_feature(val):\n",
    "    pred = countVectorizer_exp(max_feature=val) # Lowercase - True\n",
    "    print(f\"Accuracy if max_feature value is {val} : {np.mean(pred == twenty_test.target)}\")"
   ]
  },
  {
   "cell_type": "code",
   "execution_count": 8,
   "metadata": {},
   "outputs": [],
   "source": [
    "def run_cv_exp():\n",
    "    lower_case = [True, False]\n",
    "    stop_words_list = ['english', None]\n",
    "    analyzer_list = ['word', 'char', 'char_wb']\n",
    "    ngram_list = [(1,1), (1,2),(2,2)]\n",
    "    max_feature = [None,10,100,1000]\n",
    "    \n",
    "    print(f\"Count Vectorizer parameters experimentation:\")\n",
    "    for i in range(4):\n",
    "        if i < len(stop_words_list):\n",
    "            exp_cv_lowercase(lower_case[i])\n",
    "            exp_cv_stopwords(stop_words_list[i])\n",
    "        \n",
    "        if i < len(analyzer_list):\n",
    "            exp_cv_analyzer(analyzer_list[i], ngram_list[i])\n",
    "\n",
    "        if i < len(max_feature):\n",
    "            exp_cv_max_feature(max_feature[i])    "
   ]
  },
  {
   "cell_type": "code",
   "execution_count": 1,
   "metadata": {},
   "outputs": [
    {
     "ename": "NameError",
     "evalue": "name 'fetch_20newsgroups' is not defined",
     "output_type": "error",
     "traceback": [
      "\u001b[1;31m---------------------------------------------------------------------------\u001b[0m",
      "\u001b[1;31mNameError\u001b[0m                                 Traceback (most recent call last)",
      "Cell \u001b[1;32mIn [1], line 1\u001b[0m\n\u001b[1;32m----> 1\u001b[0m twenty_train \u001b[39m=\u001b[39m fetch_20newsgroups(subset\u001b[39m=\u001b[39m\u001b[39m'\u001b[39m\u001b[39mtrain\u001b[39m\u001b[39m'\u001b[39m, shuffle\u001b[39m=\u001b[39m\u001b[39mTrue\u001b[39;00m, random_state\u001b[39m=\u001b[39m\u001b[39m42\u001b[39m)\n\u001b[0;32m      2\u001b[0m twenty_test \u001b[39m=\u001b[39m fetch_20newsgroups(subset\u001b[39m=\u001b[39m\u001b[39m'\u001b[39m\u001b[39mtest\u001b[39m\u001b[39m'\u001b[39m, shuffle\u001b[39m=\u001b[39m\u001b[39mTrue\u001b[39;00m, random_state\u001b[39m=\u001b[39m\u001b[39m42\u001b[39m)\n\u001b[0;32m      4\u001b[0m twenty_train_data \u001b[39m=\u001b[39m twenty_train\u001b[39m.\u001b[39mdata\n",
      "\u001b[1;31mNameError\u001b[0m: name 'fetch_20newsgroups' is not defined"
     ]
    },
    {
     "ename": "",
     "evalue": "",
     "output_type": "error",
     "traceback": [
      "\u001b[1;31mThe Kernel crashed while executing code in the the current cell or a previous cell. Please review the code in the cell(s) to identify a possible cause of the failure. Click <a href='https://aka.ms/vscodeJupyterKernelCrash'>here</a> for more info. View Jupyter <a href='command:jupyter.viewOutput'>log</a> for further details."
     ]
    }
   ],
   "source": [
    "twenty_train = fetch_20newsgroups(subset='train', shuffle=True, random_state=42)\n",
    "twenty_test = fetch_20newsgroups(subset='test', shuffle=True, random_state=42)\n",
    "\n",
    "twenty_train_data = twenty_train.data\n",
    "twenty_test_data = twenty_test.data\n",
    "\n",
    "Test  = namedtuple(\"Test\", [\"Precision\",\"Recall\",\"F1\"])\n",
    "\n",
    "run_classifiers()\n",
    "# for plotting the x-axis is adjusted randomly to prevent overlap\n",
    "run_cv_exp()"
   ]
  }
 ],
 "metadata": {
  "kernelspec": {
   "display_name": "Python 3.10.7 64-bit (microsoft store)",
   "language": "python",
   "name": "python3"
  },
  "language_info": {
   "codemirror_mode": {
    "name": "ipython",
    "version": 3
   },
   "file_extension": ".py",
   "mimetype": "text/x-python",
   "name": "python",
   "nbconvert_exporter": "python",
   "pygments_lexer": "ipython3",
   "version": "3.10.8"
  },
  "orig_nbformat": 4,
  "vscode": {
   "interpreter": {
    "hash": "1bbd4b6c96a80be62d399126912160f6db2375893485d8790dba3aee8fd162ba"
   }
  }
 },
 "nbformat": 4,
 "nbformat_minor": 2
}
