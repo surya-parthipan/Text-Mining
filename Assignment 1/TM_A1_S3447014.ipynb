{
 "cells": [
  {
   "cell_type": "code",
   "execution_count": 1,
   "metadata": {},
   "outputs": [],
   "source": [
    "from sklearn.datasets import fetch_20newsgroups\n",
    "\n",
    "categories = ['alt.atheism', 'soc.religion.christian','comp.graphics', 'sci.med']"
   ]
  },
  {
   "cell_type": "code",
   "execution_count": 2,
   "metadata": {},
   "outputs": [
    {
     "name": "stdout",
     "output_type": "stream",
     "text": [
      "['alt.atheism', 'comp.graphics', 'sci.med', 'soc.religion.christian']\n",
      "2257\n",
      "2257\n"
     ]
    }
   ],
   "source": [
    "twenty_train = fetch_20newsgroups(subset='train', categories=categories, shuffle=True, random_state=42)\n",
    "print(twenty_train.target_names)\n",
    "print(len(twenty_train.data))\n",
    "print(len(twenty_train.filenames))"
   ]
  },
  {
   "cell_type": "code",
   "execution_count": 3,
   "metadata": {},
   "outputs": [
    {
     "data": {
      "text/plain": [
       "(2257, 35788)"
      ]
     },
     "execution_count": 3,
     "metadata": {},
     "output_type": "execute_result"
    }
   ],
   "source": [
    "from sklearn.feature_extraction.text import CountVectorizer\n",
    "count_vect = CountVectorizer()\n",
    "x_train_counts = count_vect.fit_transform(twenty_train.data)\n",
    "x_train_counts.shape"
   ]
  },
  {
   "cell_type": "code",
   "execution_count": 4,
   "metadata": {},
   "outputs": [],
   "source": [
    "from sklearn.feature_extraction.text import TfidfTransformer\n",
    "\n",
    "#Tf fitting\n",
    "tf_transformer = TfidfTransformer(use_idf= False).fit(x_train_counts)\n",
    "x_train_tf = tf_transformer.transform(x_train_counts)\n",
    "# print(x_train_tf.shape )\n",
    "#Tfidf fitting\n",
    "tfidf_transformer = TfidfTransformer()\n",
    "x_train_tfidf = TfidfTransformer().fit_transform(x_train_counts)\n",
    "# print(x_train_tfidf.shape)"
   ]
  },
  {
   "cell_type": "code",
   "execution_count": 5,
   "metadata": {},
   "outputs": [],
   "source": [
    "from sklearn.naive_bayes import MultinomialNB # Naive-Bayes\n",
    "\n",
    "clf_NB = MultinomialNB().fit(x_train_tfidf, twenty_train.target)"
   ]
  },
  {
   "cell_type": "code",
   "execution_count": 6,
   "metadata": {},
   "outputs": [],
   "source": [
    "twenty_test = fetch_20newsgroups(subset='test', categories=categories, shuffle=True, random_state=42)\n",
    "\n",
    "twenty_train_data = twenty_train.data\n",
    "twenty_test_data = twenty_test.data"
   ]
  },
  {
   "cell_type": "code",
   "execution_count": 7,
   "metadata": {},
   "outputs": [],
   "source": [
    "from sklearn.metrics import precision_score, recall_score, f1_score\n",
    "def calculate_PRF(target, value):\n",
    "    P = precision_score(target, value, average=\"macro\")\n",
    "    R = recall_score(target, value, average=\"macro\")\n",
    "    F = f1_score(target, value, average=\"macro\")\n",
    "    \n",
    "    return P,R,F"
   ]
  },
  {
   "cell_type": "markdown",
   "metadata": {},
   "source": [
    "**# Classifier 1 :- Naive Bayes**"
   ]
  },
  {
   "cell_type": "code",
   "execution_count": 11,
   "metadata": {},
   "outputs": [],
   "source": [
    "import numpy as np\n",
    "from sklearn.pipeline import Pipeline\n",
    "\n",
    "text_clf_NB_using_count = Pipeline([\n",
    "    ('vect', CountVectorizer( analyzer='word', ngram_range=(1,1))),\n",
    "    ('clf', MultinomialNB()),\n",
    "])\n",
    "text_clf_NB_using_count.fit(twenty_train.data, twenty_train.target)\n",
    "NB_predicted_train_count = text_clf_NB_using_count.predict(twenty_train_data)\n",
    "NB_predicted_test_count = text_clf_NB_using_count.predict(twenty_test_data)\n",
    "\n",
    "print(np.mean(NB_predicted_test_count == twenty_test.target))\n",
    "# calculate_PRF(twenty_train.target, NB_predicted_train_count)\n",
    "calculate_PRF(twenty_test.target, NB_predicted_test_count)"
   ]
  },
  {
   "cell_type": "code",
   "execution_count": null,
   "metadata": {},
   "outputs": [],
   "source": [
    "(0.9270013571964841, 0.9254850516394642, 0.9256770417088109) ==> lower_Case - False with Stop_words == 0.9267643142476698\n",
    "(0.9270013571964841, 0.9254850516394642, 0.9256770417088109) ==> lower_Case - False without Stop_words == 0.9267643142476698"
   ]
  },
  {
   "cell_type": "code",
   "execution_count": 30,
   "metadata": {},
   "outputs": [
    {
     "name": "stdout",
     "output_type": "stream",
     "text": [
      "0.9267643142476698\n"
     ]
    },
    {
     "data": {
      "text/plain": [
       "(0.8439720444234136, 0.7440764485007785, 0.7352301705502888)"
      ]
     },
     "execution_count": 30,
     "metadata": {},
     "output_type": "execute_result"
    }
   ],
   "source": [
    "text_clf_NB_using_tf= Pipeline([\n",
    "    ('vect', CountVectorizer()),\n",
    "    ('tdidf', TfidfTransformer(use_idf=False)),\n",
    "    ('clf_NB', MultinomialNB()),\n",
    "])\n",
    "text_clf_NB_using_tf.fit(twenty_train.data, twenty_train.target)\n",
    "NB_predicted_train_tf = text_clf_NB_using_tf.predict(twenty_train_data)\n",
    "NB_predicted_test_tf = text_clf_NB_using_tf.predict(twenty_test_data)\n",
    "\n",
    "calculate_PRF(twenty_train.target, NB_predicted_train_tf)\n",
    "calculate_PRF(twenty_test.target, NB_predicted_test_tf)"
   ]
  },
  {
   "cell_type": "code",
   "execution_count": 10,
   "metadata": {},
   "outputs": [
    {
     "data": {
      "text/plain": [
       "(0.8851369174049685, 0.8236200562832392, 0.8326964950510491)"
      ]
     },
     "execution_count": 10,
     "metadata": {},
     "output_type": "execute_result"
    }
   ],
   "source": [
    "text_clf_NB_using_tfidf= Pipeline([\n",
    "    ('vect', CountVectorizer()),\n",
    "    ('tdidf', TfidfTransformer()),\n",
    "    ('clf_NB', MultinomialNB()),\n",
    "])\n",
    "text_clf_NB_using_tfidf.fit(twenty_train.data, twenty_train.target)\n",
    "NB_predicted_train_tfidf = text_clf_NB_using_tfidf.predict(twenty_train_data)\n",
    "NB_predicted_test_tfidf = text_clf_NB_using_tfidf.predict(twenty_test_data)\n",
    "\n",
    "calculate_PRF(twenty_train.target, NB_predicted_train_tfidf)\n",
    "calculate_PRF(twenty_test.target, NB_predicted_test_tfidf)"
   ]
  },
  {
   "cell_type": "code",
   "execution_count": 11,
   "metadata": {},
   "outputs": [
    {
     "name": "stdout",
     "output_type": "stream",
     "text": [
      "0.9340878828229028\n",
      "0.7669773635153129\n",
      "0.8348868175765646\n"
     ]
    }
   ],
   "source": [
    "# Accuracy of the classifier - NB\n",
    "# print(np.mean(NB_predicted_train_count == twenty_train.target))\n",
    "print(np.mean(NB_predicted_test_count == twenty_test.target))\n",
    "# print(np.mean(NB_predicted_train_tf == twenty_train.target))\n",
    "print(np.mean(NB_predicted_test_tf == twenty_test.target))\n",
    "# print(np.mean(NB_predicted_train_tfidf == twenty_train.target))\n",
    "print(np.mean(NB_predicted_test_tfidf == twenty_test.target))\n"
   ]
  },
  {
   "cell_type": "code",
   "execution_count": 12,
   "metadata": {},
   "outputs": [
    {
     "name": "stdout",
     "output_type": "stream",
     "text": [
      "                        precision    recall  f1-score   support\n",
      "\n",
      "           alt.atheism       0.97      0.60      0.74       319\n",
      "         comp.graphics       0.96      0.89      0.92       389\n",
      "               sci.med       0.97      0.81      0.88       396\n",
      "soc.religion.christian       0.65      0.99      0.78       398\n",
      "\n",
      "              accuracy                           0.83      1502\n",
      "             macro avg       0.89      0.82      0.83      1502\n",
      "          weighted avg       0.88      0.83      0.84      1502\n",
      "\n"
     ]
    }
   ],
   "source": [
    "from sklearn import metrics\n",
    "\n",
    "print(metrics.classification_report(twenty_test.target, NB_predicted_test_tfidf, target_names=twenty_test.target_names))"
   ]
  },
  {
   "cell_type": "code",
   "execution_count": 13,
   "metadata": {},
   "outputs": [
    {
     "data": {
      "text/plain": [
       "<sklearn.metrics._plot.confusion_matrix.ConfusionMatrixDisplay at 0x1c44c917f10>"
      ]
     },
     "execution_count": 13,
     "metadata": {},
     "output_type": "execute_result"
    },
    {
     "data": {
      "image/png": "[encoded data removed]",
      "text/plain": [
       "<Figure size 640x480 with 2 Axes>"
      ]
     },
     "metadata": {},
     "output_type": "display_data"
    }
   ],
   "source": [
    "cm = metrics.confusion_matrix(twenty_test.target, NB_predicted_test_tfidf)\n",
    "metrics.ConfusionMatrixDisplay(cm).plot()"
   ]
  },
  {
   "cell_type": "markdown",
   "metadata": {},
   "source": [
    "**# Classifier 2 :- SVM**"
   ]
  },
  {
   "cell_type": "code",
   "execution_count": 14,
   "metadata": {},
   "outputs": [
    {
     "data": {
      "text/plain": [
       "(0.8609660341295302, 0.8565344550169616, 0.8549256134594864)"
      ]
     },
     "execution_count": 14,
     "metadata": {},
     "output_type": "execute_result"
    }
   ],
   "source": [
    "# Support vector machine(SVM)\n",
    "\n",
    "from sklearn.linear_model import SGDClassifier\n",
    "\n",
    "text_clf_SVM_count = Pipeline([\n",
    "    ('vect', CountVectorizer()),\n",
    "    ('clf', SGDClassifier(loss='hinge', penalty='l2', alpha=1e-3, random_state=42, max_iter=5, tol=None)),\n",
    "])\n",
    "\n",
    "text_clf_SVM_count.fit(twenty_train.data, twenty_train.target)\n",
    "SVM_predicted_train_count = text_clf_SVM_count.predict(twenty_train_data)\n",
    "SVM_predicted_test_count = text_clf_SVM_count.predict(twenty_test_data)\n",
    "\n",
    "calculate_PRF(twenty_train.target, SVM_predicted_train_count)\n",
    "calculate_PRF(twenty_test.target, SVM_predicted_test_count)\n"
   ]
  },
  {
   "cell_type": "code",
   "execution_count": 15,
   "metadata": {},
   "outputs": [
    {
     "data": {
      "text/plain": [
       "(0.8565415142776867, 0.8432237801129007, 0.845847919685948)"
      ]
     },
     "execution_count": 15,
     "metadata": {},
     "output_type": "execute_result"
    }
   ],
   "source": [
    "text_clf_SVM_tf = Pipeline([\n",
    "    ('vect', CountVectorizer()),\n",
    "    ('tdidf', TfidfTransformer(use_idf=False)),\n",
    "    ('clf', SGDClassifier(loss='hinge', penalty='l2', alpha=1e-3, random_state=42, max_iter=5, tol=None)),\n",
    "])\n",
    "\n",
    "text_clf_SVM_tf.fit(twenty_train.data, twenty_train.target)\n",
    "SVM_predicted_train_tf = text_clf_SVM_tf.predict(twenty_train_data)\n",
    "SVM_predicted_test_tf = text_clf_SVM_tf.predict(twenty_test_data)\n",
    "\n",
    "calculate_PRF(twenty_train.target, SVM_predicted_train_tf)\n",
    "calculate_PRF(twenty_test.target, SVM_predicted_test_tf)"
   ]
  },
  {
   "cell_type": "code",
   "execution_count": 16,
   "metadata": {},
   "outputs": [
    {
     "data": {
      "text/plain": [
       "(0.9146727810334692, 0.9051336188341744, 0.9073027926736008)"
      ]
     },
     "execution_count": 16,
     "metadata": {},
     "output_type": "execute_result"
    }
   ],
   "source": [
    "text_clf_SVM_tfidf = Pipeline([\n",
    "    ('vect', CountVectorizer()),\n",
    "    ('tdidf', TfidfTransformer()),\n",
    "    ('clf', SGDClassifier(loss='hinge', penalty='l2', alpha=1e-3, random_state=42, max_iter=5, tol=None)),\n",
    "])\n",
    "\n",
    "text_clf_SVM_tfidf.fit(twenty_train.data, twenty_train.target)\n",
    "SVM_predicted_train_tfidf = text_clf_SVM_tfidf.predict(twenty_train_data)\n",
    "SVM_predicted_test_tfidf = text_clf_SVM_tfidf.predict(twenty_test_data)\n",
    "\n",
    "calculate_PRF(twenty_train.target, SVM_predicted_train_tfidf)\n",
    "calculate_PRF(twenty_test.target, SVM_predicted_test_tfidf)"
   ]
  },
  {
   "cell_type": "code",
   "execution_count": 17,
   "metadata": {},
   "outputs": [
    {
     "name": "stdout",
     "output_type": "stream",
     "text": [
      "0.8568575233022636\n",
      "0.8495339547270306\n",
      "0.9101198402130493\n"
     ]
    }
   ],
   "source": [
    "# Accuracy of the classifier - SVM\n",
    "# print(np.mean(SVM_predicted_train_count == twenty_train.target))\n",
    "print(np.mean(SVM_predicted_test_count == twenty_test.target))\n",
    "# print(np.mean(SVM_predicted_train_tf == twenty_train.target))\n",
    "print(np.mean(SVM_predicted_test_tf == twenty_test.target))\n",
    "# print(np.mean(SVM_predicted_train_tfidf == twenty_train.target))\n",
    "print(np.mean(SVM_predicted_test_tfidf == twenty_test.target))\n"
   ]
  },
  {
   "cell_type": "markdown",
   "metadata": {},
   "source": [
    "**# Classifier 3 - Random Forest**"
   ]
  },
  {
   "cell_type": "code",
   "execution_count": 18,
   "metadata": {},
   "outputs": [
    {
     "data": {
      "text/plain": [
       "(0.8344054749797936, 0.8000401890161108, 0.8013826947250071)"
      ]
     },
     "execution_count": 18,
     "metadata": {},
     "output_type": "execute_result"
    }
   ],
   "source": [
    "# Random Forest\n",
    "\n",
    "from sklearn.ensemble import RandomForestClassifier\n",
    "\n",
    "text_clf_RF_count = Pipeline([\n",
    "    ('vect', CountVectorizer()),\n",
    "    ('clf', RandomForestClassifier()),\n",
    "])\n",
    "\n",
    "text_clf_RF_count.fit(twenty_train.data, twenty_train.target)\n",
    "RF_predicted_train_count = text_clf_RF_count.predict(twenty_train_data)\n",
    "RF_predicted_test_count = text_clf_RF_count.predict(twenty_test_data)\n",
    "\n",
    "calculate_PRF(twenty_train.target, RF_predicted_train_count)\n",
    "calculate_PRF(twenty_test.target, RF_predicted_test_count)\n"
   ]
  },
  {
   "cell_type": "code",
   "execution_count": 19,
   "metadata": {},
   "outputs": [
    {
     "data": {
      "text/plain": [
       "(0.83368442515577, 0.7968876875317374, 0.7985724315756807)"
      ]
     },
     "execution_count": 19,
     "metadata": {},
     "output_type": "execute_result"
    }
   ],
   "source": [
    "text_clf_RF_tf = Pipeline([\n",
    "    ('vect', CountVectorizer()),\n",
    "    ('tdidf', TfidfTransformer(use_idf=False)),\n",
    "    ('clf', RandomForestClassifier()),\n",
    "])\n",
    "\n",
    "text_clf_RF_tf.fit(twenty_train.data, twenty_train.target)\n",
    "RF_predicted_train_tf = text_clf_RF_tf.predict(twenty_train_data)\n",
    "RF_predicted_test_tf = text_clf_RF_tf.predict(twenty_test_data)\n",
    "\n",
    "calculate_PRF(twenty_train.target, RF_predicted_train_tf)\n",
    "calculate_PRF(twenty_test.target, RF_predicted_test_tf)"
   ]
  },
  {
   "cell_type": "code",
   "execution_count": 20,
   "metadata": {},
   "outputs": [
    {
     "data": {
      "text/plain": [
       "(0.8416045866365391, 0.8054612879645819, 0.8067306328139131)"
      ]
     },
     "execution_count": 20,
     "metadata": {},
     "output_type": "execute_result"
    }
   ],
   "source": [
    "text_clf_RF_tfidf = Pipeline([\n",
    "    ('vect', CountVectorizer()),\n",
    "    ('tfidf', TfidfTransformer()),\n",
    "    ('clf', RandomForestClassifier()),\n",
    "])\n",
    "\n",
    "text_clf_RF_tfidf.fit(twenty_train.data, twenty_train.target)\n",
    "RF_predicted_train_tfidf = text_clf_RF_tfidf.predict(twenty_train_data)\n",
    "RF_predicted_test_tfidf = text_clf_RF_tfidf.predict(twenty_test_data)\n",
    "\n",
    "calculate_PRF(twenty_train.target, RF_predicted_train_tfidf)\n",
    "calculate_PRF(twenty_test.target, RF_predicted_test_tfidf)"
   ]
  },
  {
   "cell_type": "code",
   "execution_count": 21,
   "metadata": {},
   "outputs": [
    {
     "name": "stdout",
     "output_type": "stream",
     "text": [
      "0.8062583222370173\n",
      "0.8035952063914781\n",
      "0.8135818908122503\n"
     ]
    }
   ],
   "source": [
    "# Accuracy of the classifier - RF\n",
    "# print(np.mean(RF_predicted_train_count == twenty_train.target))\n",
    "print(np.mean(RF_predicted_test_count == twenty_test.target))\n",
    "# print(np.mean(RF_predicted_train_tf == twenty_train.target))\n",
    "print(np.mean(RF_predicted_test_tf == twenty_test.target))\n",
    "# print(np.mean(RF_predicted_train_tfidf == twenty_train.target))\n",
    "print(np.mean(RF_predicted_test_tfidf == twenty_test.target))"
   ]
  },
  {
   "cell_type": "code",
   "execution_count": 22,
   "metadata": {},
   "outputs": [
    {
     "name": "stdout",
     "output_type": "stream",
     "text": [
      "tfidf__use_idf: True\n",
      "vect__ngram_range: (1, 1)\n"
     ]
    },
    {
     "data": {
      "text/plain": [
       "{'mean_fit_time': array([1.96213613, 3.8418304 , 1.63240976, 2.65160027]),\n",
       " 'std_fit_time': array([0.1313122 , 0.34793998, 0.03664715, 0.26133356]),\n",
       " 'mean_score_time': array([0.05892196, 0.20859227, 0.04842248, 0.08820014]),\n",
       " 'std_score_time': array([0.01253695, 0.08360725, 0.00882021, 0.02430926]),\n",
       " 'param_tfidf__use_idf': masked_array(data=[True, True, False, False],\n",
       "              mask=[False, False, False, False],\n",
       "        fill_value='?',\n",
       "             dtype=object),\n",
       " 'param_vect__ngram_range': masked_array(data=[(1, 1), (1, 2), (1, 1), (1, 2)],\n",
       "              mask=[False, False, False, False],\n",
       "        fill_value='?',\n",
       "             dtype=object),\n",
       " 'params': [{'tfidf__use_idf': True, 'vect__ngram_range': (1, 1)},\n",
       "  {'tfidf__use_idf': True, 'vect__ngram_range': (1, 2)},\n",
       "  {'tfidf__use_idf': False, 'vect__ngram_range': (1, 1)},\n",
       "  {'tfidf__use_idf': False, 'vect__ngram_range': (1, 2)}],\n",
       " 'split0_test_score': array([0.6625, 0.6375, 0.7125, 0.6125]),\n",
       " 'split1_test_score': array([0.7875, 0.7125, 0.7   , 0.7375]),\n",
       " 'split2_test_score': array([0.7625, 0.7125, 0.7125, 0.7625]),\n",
       " 'split3_test_score': array([0.825 , 0.8125, 0.825 , 0.8125]),\n",
       " 'split4_test_score': array([0.8375, 0.85  , 0.8375, 0.7625]),\n",
       " 'mean_test_score': array([0.775 , 0.745 , 0.7575, 0.7375]),\n",
       " 'std_test_score': array([0.0622495 , 0.07648529, 0.06051859, 0.06708204]),\n",
       " 'rank_test_score': array([1, 3, 2, 4])}"
      ]
     },
     "execution_count": 22,
     "metadata": {},
     "output_type": "execute_result"
    }
   ],
   "source": [
    "from sklearn.model_selection import GridSearchCV\n",
    "\n",
    "parameters = {\n",
    "    'vect__ngram_range' : [(1,1), (1,2)],\n",
    "    'tfidf__use_idf' : (True, False)\n",
    "}\n",
    "\n",
    "gs_clf = GridSearchCV(text_clf_RF_tfidf, parameters, cv=5, n_jobs=-1)\n",
    "gs_clf = gs_clf.fit(twenty_train.data[:400], twenty_train.target[:400])\n",
    "# twenty_train.target_names[gs_clf.predict(['God is love'])[0]]\n",
    "\n",
    "gs_clf.best_score_\n",
    "\n",
    "for param_name in sorted(parameters.keys()):\n",
    "    print(\"%s: %r\" % (param_name, gs_clf.best_params_[param_name]))\n",
    "\n",
    "gs_clf.cv_results_"
   ]
  }
 ],
 "metadata": {
  "kernelspec": {
   "display_name": "Python 3.10.7 64-bit (microsoft store)",
   "language": "python",
   "name": "python3"
  },
  "language_info": {
   "codemirror_mode": {
    "name": "ipython",
    "version": 3
   },
   "file_extension": ".py",
   "mimetype": "text/x-python",
   "name": "python",
   "nbconvert_exporter": "python",
   "pygments_lexer": "ipython3",
   "version": "3.10.7"
  },
  "orig_nbformat": 4,
  "vscode": {
   "interpreter": {
    "hash": "1bbd4b6c96a80be62d399126912160f6db2375893485d8790dba3aee8fd162ba"
   }
  }
 },
 "nbformat": 4,
 "nbformat_minor": 2
}
