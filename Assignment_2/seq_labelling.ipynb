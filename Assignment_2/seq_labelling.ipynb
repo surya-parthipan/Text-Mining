{
 "cells": [
  {
   "cell_type": "code",
   "execution_count": 2,
   "metadata": {},
   "outputs": [],
   "source": [
    "import matplotlib.pyplot as plt\n",
    "import sklearn\n",
    "import nltk\n",
    "import scipy.sparse\n",
    "import pandas as pd\n",
    "import sklearn_crfsuite\n",
    "from sklearn_crfsuite import scorers, metrics\n",
    "from itertools import chain\n",
    "from sklearn.metrics import make_scorer\n",
    "from sklearn.model_selection import cross_val_score, RandomizedSearchCV\n",
    "import csv\n",
    "from pathlib import Path\n",
    "import regex as re"
   ]
  },
  {
   "cell_type": "code",
   "execution_count": null,
   "metadata": {},
   "outputs": [],
   "source": [
    "def pos_tagging(text):\n",
    "    value = nltk.pos_tag(text)\n",
    "    return value"
   ]
  },
  {
   "cell_type": "code",
   "execution_count": null,
   "metadata": {},
   "outputs": [],
   "source": [
    "def read_wnut(file_path):\n",
    "    file_path = Path(file_path)\n",
    "    raw_text = file_path.read_text().strip()\n",
    "    raw_docs = re.split(r'\\n\\t?\\n', raw_text)\n",
    "    token_docs = []\n",
    "    for doc in raw_docs:\n",
    "        values = []\n",
    "        for line in doc.split('\\n'):\n",
    "            token, tag = line.split('\\t')\n",
    "            values.append((token,pos_tagging(list(token)), tag))\n",
    "        token_docs.append(values)\n",
    "\n",
    "    return token_docs"
   ]
  },
  {
   "cell_type": "code",
   "execution_count": null,
   "metadata": {},
   "outputs": [],
   "source": [
    "def word2features(sent, i):\n",
    "    word = sent[i][0]\n",
    "    postag = sent[i][1]\n",
    "    # print(word, postag, i)\n",
    "\n",
    "    features = {\n",
    "        \"bias\": 1.0,\n",
    "        \"word.lower()\": word.lower(),\n",
    "        \"word[-3:]\": word[-3:],\n",
    "        \"word[-2:]\": word[-2:],\n",
    "        \"word.isupper()\": word.isupper(),\n",
    "        \"word.istitle()\": word.istitle(),\n",
    "        \"word.isdigit()\": word.isdigit(),\n",
    "        \"postag\": postag,\n",
    "        \"postag[:2]\": postag[:2],\n",
    "    }\n",
    "\n",
    "    if i > 0:\n",
    "        word1 = sent[i - 1][0]\n",
    "        postag1 = sent[i - 1][1]\n",
    "        # print(f\" i > 0 : {word1} {postag1} {i}\")\n",
    "        features.update(\n",
    "            {\n",
    "                \"-1:word.lower()\": word1.lower(),\n",
    "                \"-1:word.istitle()\": word1.istitle(),\n",
    "                \"-1:word.isupper()\": word1.isupper(),\n",
    "                \"-1:postag\": postag1,\n",
    "                \"-1:postag[:2]\": postag1[:2],\n",
    "            }\n",
    "        )\n",
    "    else:\n",
    "        features[\"BOS\"] = True\n",
    "\n",
    "    if i < (len(sent) - 1):\n",
    "        word1 = sent[i + 1][0]\n",
    "        postag1 = sent[i + 1][1]\n",
    "        # print(f\" i < len : {word1} {postag1} {i}\")\n",
    "        features.update(\n",
    "            {\n",
    "                \"+1:word.lower()\": word1.lower(),\n",
    "                \"+1:word.istitle()\": word1.istitle(),\n",
    "                \"+1:word.isupper()\": word1.isupper(),\n",
    "                \"+1:postag\": postag1,\n",
    "                \"+1:postag[:2]\": postag1[:2],\n",
    "            }\n",
    "        )\n",
    "    else:\n",
    "        features[\"EOS\"] = True\n",
    "\n",
    "    return features\n",
    "\n",
    "\n",
    "def sent2features(sent):\n",
    "    return [word2features(sent, i) for i in range(len(sent))]\n",
    "\n",
    "\n",
    "def sent2labels(sent):\n",
    "    return [label for token, postag, label in sent]\n",
    "\n",
    "\n",
    "def sent2tokens(sent):\n",
    "    return [token for token, postag, label in sent]\n"
   ]
  },
  {
   "cell_type": "code",
   "execution_count": null,
   "metadata": {},
   "outputs": [],
   "source": [
    "train_data = read_wnut('./data/wnut17train.conll')\n",
    "test_data = read_wnut('./data/wnut17train.conll')"
   ]
  },
  {
   "cell_type": "code",
   "execution_count": null,
   "metadata": {},
   "outputs": [],
   "source": [
    "\n",
    "X_train = [sent2features(s) for s in train_data]\n",
    "y_train = [sent2labels(s) for s in train_data]\n",
    "\n",
    "X_test = [sent2features(s) for s in test_data]\n",
    "y_test = [sent2labels(s) for s in test_data]"
   ]
  },
  {
   "cell_type": "code",
   "execution_count": null,
   "metadata": {},
   "outputs": [
    {
     "ename": "TypeError",
     "evalue": "expected bytes, tuple found",
     "output_type": "error",
     "traceback": [
      "\u001b[1;31m---------------------------------------------------------------------------\u001b[0m",
      "\u001b[1;31mTypeError\u001b[0m                                 Traceback (most recent call last)",
      "Cell \u001b[1;32mIn [32], line 8\u001b[0m\n\u001b[0;32m      1\u001b[0m crf \u001b[39m=\u001b[39m sklearn_crfsuite\u001b[39m.\u001b[39mCRF(\n\u001b[0;32m      2\u001b[0m     algorithm\u001b[39m=\u001b[39m\u001b[39m'\u001b[39m\u001b[39mlbfgs\u001b[39m\u001b[39m'\u001b[39m,\n\u001b[0;32m      3\u001b[0m     c1\u001b[39m=\u001b[39m\u001b[39m0.1\u001b[39m,\n\u001b[1;32m   (...)\u001b[0m\n\u001b[0;32m      6\u001b[0m     all_possible_transitions\u001b[39m=\u001b[39m\u001b[39mTrue\u001b[39;00m\n\u001b[0;32m      7\u001b[0m )\n\u001b[1;32m----> 8\u001b[0m crf\u001b[39m.\u001b[39;49mfit(X_train, y_train)\n",
      "File \u001b[1;32mc:\\Users\\rsury\\AppData\\Local\\Programs\\Python\\Python310\\lib\\site-packages\\sklearn_crfsuite\\estimator.py:314\u001b[0m, in \u001b[0;36mCRF.fit\u001b[1;34m(self, X, y, X_dev, y_dev)\u001b[0m\n\u001b[0;32m    311\u001b[0m     train_data \u001b[39m=\u001b[39m tqdm(train_data, \u001b[39m\"\u001b[39m\u001b[39mloading training data to CRFsuite\u001b[39m\u001b[39m\"\u001b[39m, \u001b[39mlen\u001b[39m(X), leave\u001b[39m=\u001b[39m\u001b[39mTrue\u001b[39;00m)\n\u001b[0;32m    313\u001b[0m \u001b[39mfor\u001b[39;00m xseq, yseq \u001b[39min\u001b[39;00m train_data:\n\u001b[1;32m--> 314\u001b[0m     trainer\u001b[39m.\u001b[39;49mappend(xseq, yseq)\n\u001b[0;32m    316\u001b[0m \u001b[39mif\u001b[39;00m \u001b[39mself\u001b[39m\u001b[39m.\u001b[39mverbose:\n\u001b[0;32m    317\u001b[0m     \u001b[39mprint\u001b[39m(\u001b[39m\"\u001b[39m\u001b[39m\"\u001b[39m)\n",
      "File \u001b[1;32mpycrfsuite/_pycrfsuite.pyx:312\u001b[0m, in \u001b[0;36mpycrfsuite._pycrfsuite.BaseTrainer.append\u001b[1;34m()\u001b[0m\n",
      "File \u001b[1;32mstringsource:48\u001b[0m, in \u001b[0;36mvector.from_py.__pyx_convert_vector_from_py_std_3a__3a_string\u001b[1;34m()\u001b[0m\n",
      "File \u001b[1;32mpycrfsuite/_pycrfsuite.pyx:51\u001b[0m, in \u001b[0;36mpycrfsuite._pycrfsuite.to_item\u001b[1;34m()\u001b[0m\n",
      "File \u001b[1;32mpycrfsuite/_pycrfsuite.pyx:51\u001b[0m, in \u001b[0;36mpycrfsuite._pycrfsuite.to_item\u001b[1;34m()\u001b[0m\n",
      "    \u001b[1;31m[... skipping similar frames: pycrfsuite._pycrfsuite.to_item at line 51 (24 times)]\u001b[0m\n",
      "File \u001b[1;32mpycrfsuite/_pycrfsuite.pyx:51\u001b[0m, in \u001b[0;36mpycrfsuite._pycrfsuite.to_item\u001b[1;34m()\u001b[0m\n",
      "File \u001b[1;32mpycrfsuite/_pycrfsuite.pyx:53\u001b[0m, in \u001b[0;36mpycrfsuite._pycrfsuite.to_item\u001b[1;34m()\u001b[0m\n",
      "File \u001b[1;32mstringsource:15\u001b[0m, in \u001b[0;36mstring.from_py.__pyx_convert_string_from_py_std__in_string\u001b[1;34m()\u001b[0m\n",
      "\u001b[1;31mTypeError\u001b[0m: expected bytes, tuple found"
     ]
    }
   ],
   "source": [
    "crf = sklearn_crfsuite.CRF(\n",
    "    algorithm='lbfgs',\n",
    "    c1=0.1,\n",
    "    c2=0.1,\n",
    "    max_iterations=100,\n",
    "    all_possible_transitions=True\n",
    ")\n",
    "crf.fit(X_train, y_train)"
   ]
  },
  {
   "cell_type": "code",
   "execution_count": null,
   "metadata": {},
   "outputs": [],
   "source": [
    "labels = list(crf.classes_)\n",
    "labels.remove('O')"
   ]
  },
  {
   "cell_type": "code",
   "execution_count": null,
   "metadata": {},
   "outputs": [
    {
     "data": {
      "text/plain": [
       "0.9806372917070767"
      ]
     },
     "execution_count": 9,
     "metadata": {},
     "output_type": "execute_result"
    }
   ],
   "source": [
    "y_pred = crf.predict(X_test)\n",
    "metrics.flat_f1_score(y_test, y_pred, average=\"weighted\", labels=labels)"
   ]
  },
  {
   "cell_type": "code",
   "execution_count": null,
   "metadata": {},
   "outputs": [
    {
     "name": "stdout",
     "output_type": "stream",
     "text": [
      "                 precision    recall  f1-score   support\n",
      "\n",
      "  B-corporation      0.981     0.959     0.970       221\n",
      "  I-corporation      0.978     0.978     0.978        46\n",
      "B-creative-work      1.000     0.907     0.951       140\n",
      "I-creative-work      1.000     0.971     0.985       206\n",
      "        B-group      0.992     0.943     0.967       264\n",
      "        I-group      0.993     0.980     0.987       150\n",
      "     B-location      0.991     0.971     0.981       548\n",
      "     I-location      0.996     0.988     0.992       245\n",
      "       B-person      0.997     0.964     0.980       660\n",
      "       I-person      1.000     0.991     0.996       335\n",
      "      B-product      1.000     0.930     0.964       142\n",
      "      I-product      0.995     1.000     0.998       203\n",
      "\n",
      "      micro avg      0.994     0.967     0.981      3160\n",
      "      macro avg      0.994     0.965     0.979      3160\n",
      "   weighted avg      0.994     0.967     0.981      3160\n",
      "\n"
     ]
    }
   ],
   "source": [
    "sorted_labels = sorted(labels, key=lambda name : (name[1:], name[0]))\n",
    "print(metrics.flat_classification_report(y_test, y_pred, labels=sorted_labels, digits=3))"
   ]
  },
  {
   "cell_type": "code",
   "execution_count": null,
   "metadata": {},
   "outputs": [],
   "source": [
    "crf = sklearn_crfsuite.CRF(\n",
    "    algorithm=\"lbfgs\", max_iterations=100, all_possible_transitions=True\n",
    ")\n",
    "\n",
    "params_space = {\n",
    "    \"c1\": scipy.stats.expon(scale=0.5),\n",
    "    \"c2\": scipy.stats.expon(scale=0.05),\n",
    "}\n",
    "\n",
    "f1_scorer = make_scorer(metrics.flat_f1_score, average='weighted', labels=labels)\n",
    "\n",
    "random_search = RandomizedSearchCV(\n",
    "    crf, params_space, cv=3, verbose=1, n_jobs=-1, n_iter=50, scoring=f1_scorer\n",
    ")"
   ]
  },
  {
   "cell_type": "code",
   "execution_count": null,
   "metadata": {},
   "outputs": [],
   "source": [
    "Dev_set = read_wnut('./data/wnut17train.conll')"
   ]
  },
  {
   "cell_type": "code",
   "execution_count": null,
   "metadata": {},
   "outputs": [],
   "source": [
    "Dev_X_train = [sent2features(s) for s in Dev_set]\n",
    "Dev_y_train = [sent2labels(s) for s in Dev_set]"
   ]
  },
  {
   "cell_type": "code",
   "execution_count": null,
   "metadata": {},
   "outputs": [
    {
     "name": "stdout",
     "output_type": "stream",
     "text": [
      "Fitting 3 folds for each of 50 candidates, totalling 150 fits\n"
     ]
    }
   ],
   "source": [
    "rs = random_search.fit(Dev_X_train, Dev_y_train)"
   ]
  },
  {
   "cell_type": "code",
   "execution_count": null,
   "metadata": {},
   "outputs": [
    {
     "name": "stdout",
     "output_type": "stream",
     "text": [
      "best params: {'c1': 0.014476770305561734, 'c2': 0.013872126208306185}\n",
      "best CV score: 0.38409307543250204\n",
      "model size: 1.03M\n"
     ]
    }
   ],
   "source": [
    "print('best params:', rs.best_params_)\n",
    "print('best CV score:', rs.best_score_)\n",
    "print('model size: {:0.2f}M'.format(rs.best_estimator_.size_ / 1000000))"
   ]
  },
  {
   "cell_type": "code",
   "execution_count": null,
   "metadata": {},
   "outputs": [],
   "source": [
    "_x = [s['c1'] for s in rs.cv_results_['params']]\n",
    "_y = [s['c2'] for s in rs.cv_results_['params']]\n",
    "_c = [s for s in rs.cv_results_['mean_test_score']]"
   ]
  },
  {
   "cell_type": "code",
   "execution_count": null,
   "metadata": {},
   "outputs": [
    {
     "name": "stdout",
     "output_type": "stream",
     "text": [
      "Dark blue => 0.2205, dark red => 0.3841\n"
     ]
    },
    {
     "data": {
      "image/png": "[encoded data removed]",
      "text/plain": [
       "<Figure size 1200x1200 with 1 Axes>"
      ]
     },
     "metadata": {},
     "output_type": "display_data"
    }
   ],
   "source": [
    "fig = plt.figure()\n",
    "fig.set_size_inches(12, 12)\n",
    "ax = plt.gca()\n",
    "ax.set_yscale('log')\n",
    "ax.set_xscale('log')\n",
    "ax.set_xlabel('C1')\n",
    "ax.set_ylabel('C2')\n",
    "ax.set_title(\"Randomized Hyperparameter Search CV Results (min={:0.3}, max={:0.3})\".format(\n",
    "    min(_c), max(_c)\n",
    "))\n",
    "\n",
    "ax.scatter(_x, _y, c=_c, s=60, alpha=0.9, edgecolors=[0,0,0])\n",
    "\n",
    "print(\"Dark blue => {:0.4}, dark red => {:0.4}\".format(min(_c), max(_c)))"
   ]
  },
  {
   "cell_type": "code",
   "execution_count": null,
   "metadata": {},
   "outputs": [
    {
     "name": "stdout",
     "output_type": "stream",
     "text": [
      "                 precision    recall  f1-score   support\n",
      "\n",
      "  B-corporation      0.991     0.991     0.991       221\n",
      "  I-corporation      0.978     0.978     0.978        46\n",
      "B-creative-work      0.972     0.986     0.979       140\n",
      "I-creative-work      0.981     0.995     0.988       206\n",
      "        B-group      0.989     0.996     0.992       264\n",
      "        I-group      0.987     1.000     0.993       150\n",
      "     B-location      0.991     0.995     0.993       548\n",
      "     I-location      0.992     0.996     0.994       245\n",
      "       B-person      1.000     0.995     0.998       660\n",
      "       I-person      1.000     0.997     0.999       335\n",
      "      B-product      1.000     0.986     0.993       142\n",
      "      I-product      0.995     1.000     0.998       203\n",
      "\n",
      "      micro avg      0.992     0.995     0.994      3160\n",
      "      macro avg      0.990     0.993     0.991      3160\n",
      "   weighted avg      0.992     0.995     0.994      3160\n",
      "\n"
     ]
    }
   ],
   "source": [
    "crf = rs.best_estimator_\n",
    "y_pred = crf.predict(X_test)  # type: ignore\n",
    "print(\n",
    "    metrics.flat_classification_report(y_test, y_pred, labels=sorted_labels, digits=3)\n",
    ")"
   ]
  },
  {
   "cell_type": "code",
   "execution_count": null,
   "metadata": {},
   "outputs": [
    {
     "name": "stdout",
     "output_type": "stream",
     "text": [
      "Top likely transitions:\n",
      "B-creative-work -> I-creative-work 7.241130\n",
      "I-creative-work -> I-creative-work 7.236843\n",
      "B-product -> I-product 6.922156\n",
      "I-product -> I-product 6.225378\n",
      "B-group -> I-group 5.493527\n",
      "I-group -> I-group 4.842870\n",
      "B-person -> I-person 4.711837\n",
      "B-location -> I-location 4.696495\n",
      "B-corporation -> I-corporation 4.417558\n",
      "I-location -> I-location 4.369159\n",
      "I-corporation -> I-corporation 3.931368\n",
      "O      -> O       2.771898\n",
      "I-person -> I-person 1.708145\n",
      "O      -> B-person 1.091969\n",
      "O      -> B-location 0.877485\n",
      "B-corporation -> B-location 0.827051\n",
      "B-group -> B-creative-work 0.762140\n",
      "O      -> B-corporation 0.756852\n",
      "I-corporation -> B-location 0.564009\n",
      "O      -> B-product 0.535566\n",
      "\n",
      "Top unlikely transitions:\n",
      "I-person -> B-corporation -1.682054\n",
      "I-product -> B-person -1.714494\n",
      "B-location -> B-person -1.735542\n",
      "B-group -> I-person -1.740712\n",
      "B-corporation -> I-person -1.764542\n",
      "B-location -> B-corporation -1.764591\n",
      "I-location -> I-person -1.847221\n",
      "B-person -> I-group -1.902308\n",
      "B-location -> B-group -1.952939\n",
      "I-group -> B-person -2.052897\n",
      "I-person -> B-creative-work -2.061327\n",
      "B-location -> I-group -2.151683\n",
      "I-group -> B-group -2.495553\n",
      "B-location -> I-person -2.958408\n",
      "O      -> I-product -3.684670\n",
      "O      -> I-corporation -3.706597\n",
      "O      -> I-creative-work -3.912531\n",
      "O      -> I-group -4.658519\n",
      "O      -> I-location -5.207451\n",
      "O      -> I-person -5.771740\n"
     ]
    }
   ],
   "source": [
    "from collections import Counter\n",
    "\n",
    "def print_transitions(trans_features):\n",
    "    for (label_from, label_to), weight in trans_features:\n",
    "        print(\"%-6s -> %-7s %0.6f\" % (label_from, label_to, weight))\n",
    "\n",
    "print(\"Top likely transitions:\")\n",
    "print_transitions(Counter(crf.transition_features_).most_common(20))\n",
    "\n",
    "print(\"\\nTop unlikely transitions:\")\n",
    "print_transitions(Counter(crf.transition_features_).most_common()[-20:])"
   ]
  },
  {
   "cell_type": "code",
   "execution_count": null,
   "metadata": {},
   "outputs": [
    {
     "name": "stdout",
     "output_type": "stream",
     "text": [
      "Top positive:\n",
      "11.455325 B-corporation word.lower():twitter\n",
      "8.566886 B-person word.lower():pope\n",
      "8.132649 B-product word.lower():iphone\n",
      "7.810512 B-person word.lower():4dbling\n",
      "6.900143 B-corporation word.lower():facebook\n",
      "6.876741 B-location word.lower():jupiter\n",
      "6.857922 B-location word.lower():perth\n",
      "6.807479 B-corporation word.lower():walmart\n",
      "6.567841 B-location +1:word.lower():congressman\n",
      "6.350318 B-location word.lower():#denver\n",
      "5.677665 B-person word.lower():florence\n",
      "5.677177 B-person word.lower():beyonce\n",
      "5.636719 B-person word.lower():ellwood\n",
      "5.483996 B-location word.lower():peppers\n",
      "5.388610 B-location word.lower():bahamas\n",
      "5.328136 B-product word.lower():pringles\n",
      "5.193077 B-product word.lower():applemagazine\n",
      "5.189721 B-corporation word.lower():snapchat\n",
      "5.165859 B-location word.lower():inverness\n",
      "5.165859 B-location -1:word.lower():tae\n",
      "5.157932 B-group  word.lower():astronomerswithoutborders\n",
      "5.053131 B-person word.lower():billy\n",
      "4.991559 B-group  word.lower():#buckeyes\n",
      "4.971040 B-person word.lower():taylor\n",
      "4.918645 B-person word.lower():#joegifted\n",
      "4.851775 B-person word.lower():justin\n",
      "4.843233 B-group  word.lower():phily\n",
      "4.772790 B-group  word.lower():campaignmonitor\n",
      "4.772790 B-group  +1:word.lower():denied\n",
      "4.757188 B-person word.lower():spencer\n",
      "\n",
      "Top negative:\n",
      "-2.650867 O        +1:word.lower():live\n",
      "-2.654405 O        word.lower():rose\n",
      "-2.655335 O        word[-3:]:lds\n",
      "-2.686616 B-person -1:word.lower():in\n",
      "-2.692635 O        word[-3:]:oys\n",
      "-2.713551 O        -1:word.lower():purchase\n",
      "-2.730441 O        +1:word.lower():fans\n",
      "-2.740622 O        -1:word.lower():#job\n",
      "-2.747500 O        word.lower():itunes\n",
      "-2.770776 O        -1:word.lower():thanks\n",
      "-2.771530 O        -1:word.lower():buying\n",
      "-2.800521 O        +1:word.lower():lions\n",
      "-2.803117 O        -1:word.lower():from\n",
      "-2.831219 O        word[-3:]:bot\n",
      "-2.883763 O        +1:word.lower():affiliate\n",
      "-2.888324 O        word[-3:]:iam\n",
      "-2.897641 O        word[-2:]:ka\n",
      "-2.937754 O        word[-2:]:SU\n",
      "-2.969047 O        word.istitle()\n",
      "-2.986617 O        -1:word.lower():likes\n",
      "-3.038311 O        -1:word.lower():opened\n",
      "-3.100587 O        +1:word.lower():april\n",
      "-3.147252 O        -1:word.lower():watch\n",
      "-3.196951 O        word[-2:]:mi\n",
      "-3.310971 O        -1:word.lower():peace\n",
      "-3.331953 O        word[-3:]:ton\n",
      "-3.428397 O        word[-3:]:Pad\n",
      "-3.564846 O        word[-3:]:uis\n",
      "-3.631512 O        -1:word.lower():silly\n",
      "-4.119601 O        -1:word.lower():green\n"
     ]
    }
   ],
   "source": [
    "def print_state_features(state_features):\n",
    "    for (attr, label), weight in state_features:\n",
    "        print(\"%0.6f %-8s %s\" % (weight, label, attr)) \n",
    "\n",
    "print(\"Top positive:\")\n",
    "print_state_features(Counter(crf.state_features_).most_common(30))\n",
    "\n",
    "print(\"\\nTop negative:\")\n",
    "print_state_features(Counter(crf.state_features_).most_common()[-30:])"
   ]
  }
 ],
 "metadata": {
  "kernelspec": {
   "display_name": "Python 3.10.8 64-bit",
   "language": "python",
   "name": "python3"
  },
  "language_info": {
   "codemirror_mode": {
    "name": "ipython",
    "version": 3
   },
   "file_extension": ".py",
   "mimetype": "text/x-python",
   "name": "python",
   "nbconvert_exporter": "python",
   "pygments_lexer": "ipython3",
   "version": "3.10.8"
  },
  "orig_nbformat": 4,
  "vscode": {
   "interpreter": {
    "hash": "989f1c85a0753a3f5387357a9d8cdada932b18385ad81a9223bb8329c9a4fd3b"
   }
  }
 },
 "nbformat": 4,
 "nbformat_minor": 2
}
