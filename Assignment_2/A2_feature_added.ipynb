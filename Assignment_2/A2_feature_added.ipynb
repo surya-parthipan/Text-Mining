{
 "cells": [
  {
   "cell_type": "code",
   "execution_count": 47,
   "metadata": {},
   "outputs": [
    {
     "name": "stderr",
     "output_type": "stream",
     "text": [
      "[nltk_data] Downloading package averaged_perceptron_tagger to\n",
      "[nltk_data]     C:\\Users\\rsury\\AppData\\Roaming\\nltk_data...\n",
      "[nltk_data]   Package averaged_perceptron_tagger is already up-to-\n",
      "[nltk_data]       date!\n"
     ]
    }
   ],
   "source": [
    "from collections import Counter\n",
    "import scipy.stats\n",
    "import matplotlib.pyplot as plt\n",
    "import nltk\n",
    "nltk.download('averaged_perceptron_tagger')\n",
    "from nltk.corpus.reader.conll import ConllCorpusReader\n",
    "from sklearn.metrics import make_scorer\n",
    "from sklearn.model_selection import RandomizedSearchCV, cross_val_score\n",
    "import sklearn_crfsuite\n",
    "from sklearn_crfsuite import scorers, metrics\n",
    "from operator import itemgetter\n",
    "from random import seed\n",
    "from nltk.stem import LancasterStemmer\n",
    "import string, regex as re\n",
    "import sklearn"
   ]
  },
  {
   "cell_type": "code",
   "execution_count": 48,
   "metadata": {},
   "outputs": [],
   "source": [
    "conll_reader = ConllCorpusReader(root='./', fileids='.conll', columntypes=('words','pos','tree','chunk','ne','srl','ignore'))"
   ]
  },
  {
   "cell_type": "code",
   "execution_count": 49,
   "metadata": {},
   "outputs": [],
   "source": [
    "def read_wnut(file):\n",
    "    pos = [nltk.pos_tag(sentence) for sentence in conll_reader.sents(file)]\n",
    "    label = list(conll_reader.tagged_sents(file))\n",
    "    return [[(word,pos,label) for (word,pos),(word,label) in zip(pos, label)] for pos,label in zip(pos,label)]\n",
    "\n",
    "Train_sents = read_wnut(\"./data/wnut17train.conll\")\n",
    "\n",
    "Dev_sents = read_wnut(\"./data/emerging.dev.conll\")\n",
    "\n",
    "Test_sents = read_wnut(\"./data/emerging.test.annotated\")"
   ]
  },
  {
   "cell_type": "markdown",
   "metadata": {},
   "source": [
    "# Baseline Run on the dataset"
   ]
  },
  {
   "cell_type": "code",
   "execution_count": 50,
   "metadata": {},
   "outputs": [],
   "source": [
    "def isHashtag(token):\n",
    "    is_hash = re.compile(r'^#\\p{Alnum}+$')\n",
    "    return True if (is_hash.findall(token)) else False \n",
    "def isUrl(token):\n",
    "    is_url = re.compile(r'^https://\\S+')\n",
    "    return True if (is_url.findall(token)) else False\n",
    "def isUserName(token):\n",
    "    is_username = re.compile(r'^@\\w+')\n",
    "    return True if (is_username.findall(token)) else False\n",
    "def isMention(token):\n",
    "    is_Mention = re.compile(r'^(RT)?@[\\p{Alnum}_]+$')\n",
    "    return True if (is_Mention.findall(token)) else False\n",
    "    "
   ]
  },
  {
   "cell_type": "code",
   "execution_count": 63,
   "metadata": {},
   "outputs": [],
   "source": [
    "def word2features(sent, i):\n",
    "    word = sent[i][0]\n",
    "    postag = sent[i][1]\n",
    "    # print(word, postag, i)\n",
    "\n",
    "    features = {\n",
    "        \"bias\": 1.0,\n",
    "        'word':word,\n",
    "        'len(word)': len(word),\n",
    "        'word[:4]': word[:4],\n",
    "        'word[:3]': word[:3],\n",
    "        'word[:2]': word[:2],\n",
    "        \"word[-3:]\": word[-3:],\n",
    "        \"word[-2:]\": word[-2:],\n",
    "        \"word.isURL()\": isUrl(word),\n",
    "        \"word.isHashtag()\": isHashtag(word),\n",
    "        \"word.isUserName()\": isUserName(word),\n",
    "        \"word.isMention()\": isMention(word),\n",
    "        \"word.isdigit()\": word.isdigit(),\n",
    "        \"word.lower()\": word.lower(),\n",
    "        \"word.istitle()\": word.istitle(),\n",
    "        \"word.isupper()\": word.isupper(),\n",
    "        'word.ispunctuation()': (word in string.punctuation),\n",
    "        'word.stemmed': LancasterStemmer().stem(word),\n",
    "        \"postag\": postag,\n",
    "        \"postag[:2]\": postag[:2],\n",
    "    }\n",
    "\n",
    "    if i > 0:\n",
    "        word1 = sent[i - 1][0]\n",
    "        postag1 = sent[i - 1][1]\n",
    "        features.update(\n",
    "            {\n",
    "                # '-1:word': word1,\n",
    "                # '-1:len(word)': len(word1),\n",
    "                # '-1:word[:3]': word1[:3],\n",
    "                # '-1:word[:2]': word1[:2],\n",
    "                # \"-1:word[-3:]\": word1[-3:],\n",
    "                # \"-1:word[-2:]\": word1[-2:],\n",
    "                \"-1:word.isURL()\": isUrl(word1),\n",
    "                # \"-1:word.isHashtag()\": isHashtag(word1),\n",
    "                # \"-1:word.isUserName()\": isUserName(word1),\n",
    "                \"-1:word.isMention()\": isMention(word1),\n",
    "                # '-1:word.isdigit()': word1.isdigit(),\n",
    "                \"-1:word.lower()\": word1.lower(),\n",
    "                \"-1:word.istitle()\": word1.istitle(),\n",
    "                \"-1:word.isupper()\": word1.isupper(),\n",
    "                '-1:word.ispunctuation()': (word1 in string.punctuation),\n",
    "                '-1:word.stemmed': LancasterStemmer().stem(word1),\n",
    "                \"-1:postag\": postag1,\n",
    "                \"-1:postag[:2]\": postag1[:2],\n",
    "            }\n",
    "        )\n",
    "    else:\n",
    "        features[\"BOS\"] = True\n",
    "        \n",
    "    if i > 1 :\n",
    "            word1 = sent[i - 2][0]\n",
    "            postag1 = sent[i - 2][1]\n",
    "            features.update(\n",
    "                {\n",
    "                    # '-2:word': word1,\n",
    "                    # '-2:len(word)': len(word1),\n",
    "                    # '-2:word[:3]': word1[:3],\n",
    "                    # '-2:word[:2]': word1[:2],\n",
    "                    # \"-2:word[-3:]\": word1[-3:],\n",
    "                    # \"-2:word[-2:]\": word1[-2:],\n",
    "                    \"-2:word.isURL()\": isUrl(word1),\n",
    "                    # \"-2:word.isHashtag()\": isHashtag(word1),\n",
    "                    # \"-2:word.isUserName()\": isUserName(word1),\n",
    "                    \"-2:word.isMention()\": isMention(word1),\n",
    "                    # '-2:word.isdigit()': word1.isdigit(),\n",
    "                    \"-2:word.lower()\": word1.lower(),\n",
    "                    \"-2:word.istitle()\": word1.istitle(),\n",
    "                    \"-2:word.isupper()\": word1.isupper(),\n",
    "                    '-2:word.ispunctuation()': (word1 in string.punctuation),\n",
    "                    '-2:word.stemmed': LancasterStemmer().stem(word1),\n",
    "                    \"-2:postag\": postag1,\n",
    "                    \"-2:postag[:2]\": postag1[:2],\n",
    "                }\n",
    "            )\n",
    "            \n",
    "    if i < (len(sent) - 1):\n",
    "        word1 = sent[i + 1][0]\n",
    "        postag1 = sent[i + 1][1]\n",
    "        features.update(\n",
    "            {\n",
    "                # '+1:word': word1,\n",
    "                # '+1:len(word)': len(word1),\n",
    "                # '+1:word[:3]': word1[:3],\n",
    "                # '+1:word[:2]': word1[:2],\n",
    "                # \"+1:word[-3:]\": word1[-3:],\n",
    "                # \"+1:word[-2:]\": word1[-2:],\n",
    "                \"+1:word.isURL()\": isUrl(word1),\n",
    "                # \"+1:word.isHashtag()\": isHashtag(word1),\n",
    "                # \"+1:word.isUserName()\": isUserName(word1),\n",
    "                \"+1:word.isMention()\": isMention(word1),\n",
    "                # '+1:word.isdigit()': word1.isdigit(),\n",
    "                \"+1:word.lower()\": word1.lower(),\n",
    "                \"+1:word.istitle()\": word1.istitle(),\n",
    "                \"+1:word.isupper()\": word1.isupper(),\n",
    "                '+1:word.ispunctuation()': (word1 in string.punctuation),\n",
    "                '+1:word.stemmed': LancasterStemmer().stem(word1),\n",
    "                \"+1:postag\": postag1,\n",
    "                \"+1:postag[:2]\": postag1[:2],\n",
    "            }\n",
    "        )\n",
    "    else:\n",
    "        features[\"EOS\"] = True\n",
    "        \n",
    "    if i < (len(sent)-2):\n",
    "            word1 = sent[i + 2][0]\n",
    "            postag1 = sent[i + 2][1]\n",
    "            features.update(\n",
    "                {\n",
    "                    # '+2:word': word1,\n",
    "                    # '+2:len(word)': len(word1),\n",
    "                    # '+2:word[:3]': word1[:3],\n",
    "                    # '+2:word[:2]': word1[:2],\n",
    "                    # \"+2:word[-3:]\": word1[-3:],\n",
    "                    # \"+2:word[-2:]\": word1[-2:],\n",
    "                    \"+2:word.isURL()\": isUrl(word1),\n",
    "                    # \"+2:word.isHashtag()\": isHashtag(word1),\n",
    "                    # \"+2:word.isUserName()\": isUserName(word1),\n",
    "                    \"+2:word.isMention()\": isMention(word1),\n",
    "                    # '+2:word.isdigit()': word1.isdigit(),\n",
    "                    \"+2:word.lower()\": word1.lower(),\n",
    "                    \"+2:word.istitle()\": word1.istitle(),\n",
    "                    \"+2:word.isupper()\": word1.isupper(),\n",
    "                    '+2:word.ispunctuation()': (word1 in string.punctuation),\n",
    "                    '+2:word.stemmed': LancasterStemmer().stem(word1),\n",
    "                    \"+2:postag\": postag1,\n",
    "                    \"+2:postag[:2]\": postag1[:2],\n",
    "                }\n",
    "            )\n",
    "\n",
    "    return features\n",
    "\n",
    "def sent2features(sent):\n",
    "    return [word2features(sent, i) for i in range(len(sent))]\n",
    "\n",
    "def sent2labels(sent):\n",
    "    return [label for token, postag, label in sent]\n",
    "\n",
    "def sent2tokens(sent):\n",
    "    return [token for token, postag, label in sent]"
   ]
  },
  {
   "cell_type": "code",
   "execution_count": 64,
   "metadata": {},
   "outputs": [],
   "source": [
    "X_train = [sent2features(s) for s in Train_sents]\n",
    "y_train = [sent2labels(s) for s in Train_sents]\n",
    "\n",
    "X_test = [sent2features(s) for s in Test_sents]\n",
    "y_test = [sent2labels(s) for s in Test_sents]\n",
    "\n",
    "Dev_X_train = [sent2features(s) for s in Dev_sents]\n",
    "Dev_y_train = [sent2labels(s) for s in Dev_sents]"
   ]
  },
  {
   "cell_type": "code",
   "execution_count": 65,
   "metadata": {},
   "outputs": [
    {
     "name": "stdout",
     "output_type": "stream",
     "text": [
      "Fitting 3 folds for each of 50 candidates, totalling 150 fits\n"
     ]
    },
    {
     "data": {
      "text/html": [
       "<style>#sk-container-id-1 {color: black;background-color: white;}#sk-container-id-1 pre{padding: 0;}#sk-container-id-1 div.sk-toggleable {background-color: white;}#sk-container-id-1 label.sk-toggleable__label {cursor: pointer;display: block;width: 100%;margin-bottom: 0;padding: 0.3em;box-sizing: border-box;text-align: center;}#sk-container-id-1 label.sk-toggleable__label-arrow:before {content: \"▸\";float: left;margin-right: 0.25em;color: #696969;}#sk-container-id-1 label.sk-toggleable__label-arrow:hover:before {color: black;}#sk-container-id-1 div.sk-estimator:hover label.sk-toggleable__label-arrow:before {color: black;}#sk-container-id-1 div.sk-toggleable__content {max-height: 0;max-width: 0;overflow: hidden;text-align: left;background-color: #f0f8ff;}#sk-container-id-1 div.sk-toggleable__content pre {margin: 0.2em;color: black;border-radius: 0.25em;background-color: #f0f8ff;}#sk-container-id-1 input.sk-toggleable__control:checked~div.sk-toggleable__content {max-height: 200px;max-width: 100%;overflow: auto;}#sk-container-id-1 input.sk-toggleable__control:checked~label.sk-toggleable__label-arrow:before {content: \"▾\";}#sk-container-id-1 div.sk-estimator input.sk-toggleable__control:checked~label.sk-toggleable__label {background-color: #d4ebff;}#sk-container-id-1 div.sk-label input.sk-toggleable__control:checked~label.sk-toggleable__label {background-color: #d4ebff;}#sk-container-id-1 input.sk-hidden--visually {border: 0;clip: rect(1px 1px 1px 1px);clip: rect(1px, 1px, 1px, 1px);height: 1px;margin: -1px;overflow: hidden;padding: 0;position: absolute;width: 1px;}#sk-container-id-1 div.sk-estimator {font-family: monospace;background-color: #f0f8ff;border: 1px dotted black;border-radius: 0.25em;box-sizing: border-box;margin-bottom: 0.5em;}#sk-container-id-1 div.sk-estimator:hover {background-color: #d4ebff;}#sk-container-id-1 div.sk-parallel-item::after {content: \"\";width: 100%;border-bottom: 1px solid gray;flex-grow: 1;}#sk-container-id-1 div.sk-label:hover label.sk-toggleable__label {background-color: #d4ebff;}#sk-container-id-1 div.sk-serial::before {content: \"\";position: absolute;border-left: 1px solid gray;box-sizing: border-box;top: 0;bottom: 0;left: 50%;z-index: 0;}#sk-container-id-1 div.sk-serial {display: flex;flex-direction: column;align-items: center;background-color: white;padding-right: 0.2em;padding-left: 0.2em;position: relative;}#sk-container-id-1 div.sk-item {position: relative;z-index: 1;}#sk-container-id-1 div.sk-parallel {display: flex;align-items: stretch;justify-content: center;background-color: white;position: relative;}#sk-container-id-1 div.sk-item::before, #sk-container-id-1 div.sk-parallel-item::before {content: \"\";position: absolute;border-left: 1px solid gray;box-sizing: border-box;top: 0;bottom: 0;left: 50%;z-index: -1;}#sk-container-id-1 div.sk-parallel-item {display: flex;flex-direction: column;z-index: 1;position: relative;background-color: white;}#sk-container-id-1 div.sk-parallel-item:first-child::after {align-self: flex-end;width: 50%;}#sk-container-id-1 div.sk-parallel-item:last-child::after {align-self: flex-start;width: 50%;}#sk-container-id-1 div.sk-parallel-item:only-child::after {width: 0;}#sk-container-id-1 div.sk-dashed-wrapped {border: 1px dashed gray;margin: 0 0.4em 0.5em 0.4em;box-sizing: border-box;padding-bottom: 0.4em;background-color: white;}#sk-container-id-1 div.sk-label label {font-family: monospace;font-weight: bold;display: inline-block;line-height: 1.2em;}#sk-container-id-1 div.sk-label-container {text-align: center;}#sk-container-id-1 div.sk-container {/* jupyter's `normalize.less` sets `[hidden] { display: none; }` but bootstrap.min.css set `[hidden] { display: none !important; }` so we also need the `!important` here to be able to override the default hidden behavior on the sphinx rendered scikit-learn.org. See: https://github.com/scikit-learn/scikit-learn/issues/21755 */display: inline-block !important;position: relative;}#sk-container-id-1 div.sk-text-repr-fallback {display: none;}</style><div id=\"sk-container-id-1\" class=\"sk-top-container\"><div class=\"sk-text-repr-fallback\"><pre>RandomizedSearchCV(cv=3, estimator=CRF(algorithm=&#x27;lbfgs&#x27;, max_iterations=100),\n",
       "                   n_iter=50, n_jobs=-1,\n",
       "                   param_distributions={&#x27;all_possible_transitions&#x27;: [True,\n",
       "                                                                     False],\n",
       "                                        &#x27;c1&#x27;: &lt;scipy.stats._distn_infrastructure.rv_continuous_frozen object at 0x000001D77314C6D0&gt;,\n",
       "                                        &#x27;c2&#x27;: &lt;scipy.stats._distn_infrastructure.rv_continuous_frozen object at 0x000001D778B0CC10&gt;},\n",
       "                   scoring=make_scorer(flat_f1_score, average=weighted, labels=[&#x27;B-location&#x27;, &#x27;I-location&#x27;, &#x27;B-group&#x27;, &#x27;B-corporation&#x27;, &#x27;B-person&#x27;, &#x27;B-creative-work&#x27;, &#x27;B-product&#x27;, &#x27;I-person&#x27;, &#x27;I-creative-work&#x27;, &#x27;I-corporation&#x27;, &#x27;I-group&#x27;, &#x27;I-product&#x27;]),\n",
       "                   verbose=1)</pre><b>In a Jupyter environment, please rerun this cell to show the HTML representation or trust the notebook. <br />On GitHub, the HTML representation is unable to render, please try loading this page with nbviewer.org.</b></div><div class=\"sk-container\" hidden><div class=\"sk-item sk-dashed-wrapped\"><div class=\"sk-label-container\"><div class=\"sk-label sk-toggleable\"><input class=\"sk-toggleable__control sk-hidden--visually\" id=\"sk-estimator-id-1\" type=\"checkbox\" ><label for=\"sk-estimator-id-1\" class=\"sk-toggleable__label sk-toggleable__label-arrow\">RandomizedSearchCV</label><div class=\"sk-toggleable__content\"><pre>RandomizedSearchCV(cv=3, estimator=CRF(algorithm=&#x27;lbfgs&#x27;, max_iterations=100),\n",
       "                   n_iter=50, n_jobs=-1,\n",
       "                   param_distributions={&#x27;all_possible_transitions&#x27;: [True,\n",
       "                                                                     False],\n",
       "                                        &#x27;c1&#x27;: &lt;scipy.stats._distn_infrastructure.rv_continuous_frozen object at 0x000001D77314C6D0&gt;,\n",
       "                                        &#x27;c2&#x27;: &lt;scipy.stats._distn_infrastructure.rv_continuous_frozen object at 0x000001D778B0CC10&gt;},\n",
       "                   scoring=make_scorer(flat_f1_score, average=weighted, labels=[&#x27;B-location&#x27;, &#x27;I-location&#x27;, &#x27;B-group&#x27;, &#x27;B-corporation&#x27;, &#x27;B-person&#x27;, &#x27;B-creative-work&#x27;, &#x27;B-product&#x27;, &#x27;I-person&#x27;, &#x27;I-creative-work&#x27;, &#x27;I-corporation&#x27;, &#x27;I-group&#x27;, &#x27;I-product&#x27;]),\n",
       "                   verbose=1)</pre></div></div></div><div class=\"sk-parallel\"><div class=\"sk-parallel-item\"><div class=\"sk-item\"><div class=\"sk-label-container\"><div class=\"sk-label sk-toggleable\"><input class=\"sk-toggleable__control sk-hidden--visually\" id=\"sk-estimator-id-2\" type=\"checkbox\" ><label for=\"sk-estimator-id-2\" class=\"sk-toggleable__label sk-toggleable__label-arrow\">estimator: CRF</label><div class=\"sk-toggleable__content\"><pre>CRF(algorithm=&#x27;lbfgs&#x27;, max_iterations=100)</pre></div></div></div><div class=\"sk-serial\"><div class=\"sk-item\"><div class=\"sk-estimator sk-toggleable\"><input class=\"sk-toggleable__control sk-hidden--visually\" id=\"sk-estimator-id-3\" type=\"checkbox\" ><label for=\"sk-estimator-id-3\" class=\"sk-toggleable__label sk-toggleable__label-arrow\">CRF</label><div class=\"sk-toggleable__content\"><pre>CRF(algorithm=&#x27;lbfgs&#x27;, max_iterations=100)</pre></div></div></div></div></div></div></div></div></div></div>"
      ],
      "text/plain": [
       "RandomizedSearchCV(cv=3, estimator=CRF(algorithm='lbfgs', max_iterations=100),\n",
       "                   n_iter=50, n_jobs=-1,\n",
       "                   param_distributions={'all_possible_transitions': [True,\n",
       "                                                                     False],\n",
       "                                        'c1': <scipy.stats._distn_infrastructure.rv_continuous_frozen object at 0x000001D77314C6D0>,\n",
       "                                        'c2': <scipy.stats._distn_infrastructure.rv_continuous_frozen object at 0x000001D778B0CC10>},\n",
       "                   scoring=make_scorer(flat_f1_score, average=weighted, labels=['B-location', 'I-location', 'B-group', 'B-corporation', 'B-person', 'B-creative-work', 'B-product', 'I-person', 'I-creative-work', 'I-corporation', 'I-group', 'I-product']),\n",
       "                   verbose=1)"
      ]
     },
     "execution_count": 65,
     "metadata": {},
     "output_type": "execute_result"
    }
   ],
   "source": [
    "seed(42)\n",
    "\n",
    "crf = sklearn_crfsuite.CRF(\n",
    "    algorithm=\"lbfgs\", max_iterations=100\n",
    ")\n",
    "\n",
    "params_space = {\n",
    "    \"c1\": scipy.stats.expon(scale=0.5),\n",
    "    \"c2\": scipy.stats.expon(scale=0.05),\n",
    "    'all_possible_transitions': [True,False],\n",
    "    # 'all_possible_states' : [False, True]\n",
    "}\n",
    "\n",
    "f1_scorer = make_scorer(metrics.flat_f1_score, average='weighted', labels=labels)\n",
    "\n",
    "rs = RandomizedSearchCV(\n",
    "    crf, params_space, cv=3, verbose=1, n_jobs=-1, n_iter=50, scoring=f1_scorer\n",
    ")\n",
    "\n",
    "# rs.fit(Dev_X_train, Dev_y_train)\n",
    "rs.fit(X = X_train, y = y_train, X_dev = Dev_X_train, y_dev = Dev_y_train)\n",
    "# rs.fit(X_train + Dev_X_train, y_train + Dev_y_train )\n",
    "# y_pred = rs.predict(X_test)\n"
   ]
  },
  {
   "cell_type": "code",
   "execution_count": 66,
   "metadata": {},
   "outputs": [
    {
     "name": "stdout",
     "output_type": "stream",
     "text": [
      "                 precision    recall  f1-score   support\n",
      "\n",
      "  B-corporation      0.000     0.000     0.000        66\n",
      "  I-corporation      0.000     0.000     0.000        22\n",
      "B-creative-work      0.412     0.049     0.088       142\n",
      "I-creative-work      0.333     0.060     0.101       218\n",
      "        B-group      0.276     0.048     0.082       165\n",
      "        I-group      0.333     0.071     0.118        70\n",
      "     B-location      0.312     0.233     0.267       150\n",
      "     I-location      0.256     0.117     0.161        94\n",
      "       B-person      0.527     0.159     0.244       429\n",
      "       I-person      0.453     0.260     0.330       131\n",
      "      B-product      0.200     0.008     0.015       127\n",
      "      I-product      0.250     0.032     0.056       126\n",
      "\n",
      "      micro avg      0.385     0.107     0.167      1740\n",
      "      macro avg      0.279     0.086     0.122      1740\n",
      "   weighted avg      0.352     0.107     0.154      1740\n",
      "\n"
     ]
    }
   ],
   "source": [
    "crf = rs.best_estimator_\n",
    "y_pred = crf.predict(X_test)  # type: ignore\n",
    "metrics.flat_f1_score(y_test, y_pred, average=\"weighted\", labels=labels)\n",
    "print(metrics.flat_classification_report(y_test, y_pred, labels=sorted_labels, digits=3))"
   ]
  },
  {
   "cell_type": "markdown",
   "metadata": {},
   "source": [
    "# Finding after Feature addition"
   ]
  },
  {
   "cell_type": "code",
   "execution_count": 58,
   "metadata": {},
   "outputs": [
    {
     "name": "stdout",
     "output_type": "stream",
     "text": [
      "F1 score on the test set = 0.16340661989154961\n",
      "Accuracy on the test set = 0.9284859365649312\n",
      "Test set classification report: \n",
      "                 precision    recall  f1-score   support\n",
      "\n",
      "  B-corporation      0.000     0.000     0.000        66\n",
      "  I-corporation      0.000     0.000     0.000        22\n",
      "B-creative-work      0.364     0.056     0.098       142\n",
      "I-creative-work      0.238     0.046     0.077       218\n",
      "        B-group      0.296     0.048     0.083       165\n",
      "        I-group      0.467     0.100     0.165        70\n",
      "     B-location      0.366     0.273     0.313       150\n",
      "     I-location      0.333     0.128     0.185        94\n",
      "       B-person      0.554     0.168     0.258       429\n",
      "       I-person      0.493     0.260     0.340       131\n",
      "      B-product      0.200     0.008     0.015       127\n",
      "      I-product      0.267     0.032     0.057       126\n",
      "\n",
      "      micro avg      0.408     0.113     0.177      1740\n",
      "      macro avg      0.298     0.093     0.132      1740\n",
      "   weighted avg      0.364     0.113     0.163      1740\n",
      "\n"
     ]
    }
   ],
   "source": [
    "seed(42)\n",
    "\n",
    "crf_baseline = sklearn_crfsuite.CRF(\n",
    "    algorithm=\"lbfgs\", max_iterations=100 , all_possible_transitions=True, \n",
    "    c1=0.178, c2=0.044\n",
    ")\n",
    "\n",
    "f1_scorer = make_scorer(metrics.flat_f1_score, average='weighted')\n",
    "crf_baseline.fit(X = X_train, y = y_train, X_dev = Dev_X_train, y_dev = Dev_y_train)\n",
    "# crf_baseline.fit(X_train, y_train)\n",
    "# crf_baseline.fit(Dev_X_train, Dev_y_train )\n",
    "labels = list(crf_baseline.classes_)\n",
    "labels.remove('O')\n",
    "sorted_labels = sorted(labels, key=lambda name: (name[1:], name[0]))\n",
    "\n",
    "y_pred_lbfgs = crf_baseline.predict(X_test)  # type: ignore\n",
    "\n",
    "print(f\"F1 score on the test set = {metrics.flat_f1_score(y_test, y_pred_lbfgs, average='weighted', labels=labels)}\")\n",
    "print(f\"Accuracy on the test set = {metrics.flat_accuracy_score(y_test, y_pred_lbfgs)}\")\n",
    "print(f\"Test set classification report: \\n{metrics.flat_classification_report(y_test, y_pred_lbfgs, labels=sorted_labels, digits=3)}\")"
   ]
  },
  {
   "cell_type": "code",
   "execution_count": 56,
   "metadata": {},
   "outputs": [
    {
     "name": "stdout",
     "output_type": "stream",
     "text": [
      "F1 score on the test set = 0.12021132644424928\n",
      "Accuracy on the test set = 0.929212618620159\n"
     ]
    },
    {
     "name": "stderr",
     "output_type": "stream",
     "text": [
      "c:\\Users\\rsury\\AppData\\Local\\Programs\\Python\\Python310\\lib\\site-packages\\sklearn\\metrics\\_classification.py:1334: UndefinedMetricWarning: Precision and F-score are ill-defined and being set to 0.0 in labels with no predicted samples. Use `zero_division` parameter to control this behavior.\n",
      "  _warn_prf(average, modifier, msg_start, len(result))\n"
     ]
    },
    {
     "name": "stdout",
     "output_type": "stream",
     "text": [
      "Test set classification report: \n",
      "                 precision    recall  f1-score   support\n",
      "\n",
      "  B-corporation      0.000     0.000     0.000        66\n",
      "  I-corporation      0.000     0.000     0.000        22\n",
      "B-creative-work      0.500     0.028     0.053       142\n",
      "I-creative-work      0.571     0.018     0.036       218\n",
      "        B-group      0.286     0.012     0.023       165\n",
      "        I-group      0.250     0.029     0.051        70\n",
      "     B-location      0.373     0.207     0.266       150\n",
      "     I-location      0.458     0.117     0.186        94\n",
      "       B-person      0.628     0.114     0.193       429\n",
      "       I-person      0.600     0.206     0.307       131\n",
      "      B-product      0.000     0.000     0.000       127\n",
      "      I-product      1.000     0.024     0.047       126\n",
      "\n",
      "      micro avg      0.498     0.076     0.133      1740\n",
      "      macro avg      0.389     0.063     0.097      1740\n",
      "   weighted avg      0.479     0.076     0.120      1740\n",
      "\n"
     ]
    },
    {
     "name": "stderr",
     "output_type": "stream",
     "text": [
      "c:\\Users\\rsury\\AppData\\Local\\Programs\\Python\\Python310\\lib\\site-packages\\sklearn\\metrics\\_classification.py:1334: UndefinedMetricWarning: Precision and F-score are ill-defined and being set to 0.0 in labels with no predicted samples. Use `zero_division` parameter to control this behavior.\n",
      "  _warn_prf(average, modifier, msg_start, len(result))\n",
      "c:\\Users\\rsury\\AppData\\Local\\Programs\\Python\\Python310\\lib\\site-packages\\sklearn\\metrics\\_classification.py:1334: UndefinedMetricWarning: Precision and F-score are ill-defined and being set to 0.0 in labels with no predicted samples. Use `zero_division` parameter to control this behavior.\n",
      "  _warn_prf(average, modifier, msg_start, len(result))\n"
     ]
    }
   ],
   "source": [
    "seed(42)\n",
    "l2 = sklearn_crfsuite.CRF(algorithm='l2sgd', max_iterations=100, \n",
    "                          all_possible_states=False, \n",
    "                          all_possible_transitions=False, c2=0.012683987275139579)\n",
    "l2.fit(X_train, y_train)\n",
    "# l2.fit(X_train + Dev_X_train, y_train + Dev_y_train)\n",
    "# l2.fit(X = X_train, y = y_train, X_dev = Dev_X_train, y_dev = Dev_y_train)\n",
    "# l2.fit(Dev_X_train, Dev_y_train)\n",
    "\n",
    "labels = list(l2.classes_)\n",
    "labels.remove('O')\n",
    "\n",
    "sorted_labels = sorted(labels, key=lambda name: (name[1:], name[0]))\n",
    "ypred = l2.predict(X_test)\n",
    "\n",
    "print(f\"F1 score on the test set = {metrics.flat_f1_score(y_test, ypred, average='weighted', labels=labels)}\")\n",
    "print(f\"Accuracy on the test set = {metrics.flat_accuracy_score(y_test, ypred)}\")\n",
    "print(f\"Test set classification report: \\n{metrics.flat_classification_report(y_test, ypred, labels=sorted_labels, digits=3)}\")"
   ]
  }
 ],
 "metadata": {
  "kernelspec": {
   "display_name": "Python 3.10.8 64-bit",
   "language": "python",
   "name": "python3"
  },
  "language_info": {
   "codemirror_mode": {
    "name": "ipython",
    "version": 3
   },
   "file_extension": ".py",
   "mimetype": "text/x-python",
   "name": "python",
   "nbconvert_exporter": "python",
   "pygments_lexer": "ipython3",
   "version": "3.10.8"
  },
  "orig_nbformat": 4,
  "vscode": {
   "interpreter": {
    "hash": "989f1c85a0753a3f5387357a9d8cdada932b18385ad81a9223bb8329c9a4fd3b"
   }
  }
 },
 "nbformat": 4,
 "nbformat_minor": 2
}
